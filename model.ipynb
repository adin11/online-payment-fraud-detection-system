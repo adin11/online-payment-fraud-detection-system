{
 "cells": [
  {
   "cell_type": "markdown",
   "id": "91ed075f",
   "metadata": {},
   "source": [
    " <h1 align=\"center\"> Online Payment Fraud Detection System:</h1>"
   ]
  },
  {
   "cell_type": "markdown",
   "id": "88bc6048",
   "metadata": {},
   "source": [
    "<h2 align=\"center\"> A Data-Driven Machine Learning Project </h2>"
   ]
  },
  {
   "cell_type": "markdown",
   "id": "8c63e1c4",
   "metadata": {},
   "source": [
    "### Introduction:\n",
    "This project is a machine learning classification model to detect fraudulent transactions in online payments. The dataset used is highly imbalanced, with far more non-fraudulent transactions than fraudulent ones. The project explores multiple algorithms and techniques to address the imbalance and improve the detection of fraud."
   ]
  },
  {
   "cell_type": "code",
   "execution_count": 5,
   "id": "31811379",
   "metadata": {
    "execution": {
     "iopub.execute_input": "2025-01-13T10:44:28.579619Z",
     "iopub.status.busy": "2025-01-13T10:44:28.579269Z",
     "iopub.status.idle": "2025-01-13T10:44:28.729822Z",
     "shell.execute_reply": "2025-01-13T10:44:28.728442Z",
     "shell.execute_reply.started": "2025-01-13T10:44:28.579595Z"
    }
   },
   "outputs": [],
   "source": [
    "import pandas as pd\n",
    "import numpy as np\n",
    "import matplotlib.pyplot as plt\n",
    "import seaborn as sns\n",
    "\n",
    "from sklearn.model_selection import train_test_split\n",
    "\n",
    "from sklearn.linear_model import LogisticRegression\n",
    "from sklearn.tree import DecisionTreeClassifier\n",
    "from xgboost import XGBClassifier\n",
    "from sklearn.ensemble import RandomForestClassifier\n",
    "\n",
    "\n",
    "from sklearn.metrics import  confusion_matrix, classification_report, roc_auc_score,roc_curve,auc\n",
    "\n",
    "pd.set_option('display.float_format', lambda x: '{:.2f}'.format(x))\n",
    "np.set_printoptions(suppress=True)\n",
    "\n",
    "import warnings\n",
    "warnings.filterwarnings('ignore')  # To suppress warnings\n"
   ]
  },
  {
   "cell_type": "markdown",
   "id": "a8f19d4d",
   "metadata": {},
   "source": [
    "# Data Loading and Analyzing:"
   ]
  },
  {
   "cell_type": "code",
   "execution_count": 6,
   "id": "40a3852c",
   "metadata": {
    "execution": {
     "iopub.execute_input": "2025-01-13T10:40:56.153987Z",
     "iopub.status.busy": "2025-01-13T10:40:56.153646Z",
     "iopub.status.idle": "2025-01-13T10:41:10.464951Z",
     "shell.execute_reply": "2025-01-13T10:41:10.463559Z",
     "shell.execute_reply.started": "2025-01-13T10:40:56.153947Z"
    }
   },
   "outputs": [
    {
     "data": {
      "text/html": [
       "<div>\n",
       "<style scoped>\n",
       "    .dataframe tbody tr th:only-of-type {\n",
       "        vertical-align: middle;\n",
       "    }\n",
       "\n",
       "    .dataframe tbody tr th {\n",
       "        vertical-align: top;\n",
       "    }\n",
       "\n",
       "    .dataframe thead th {\n",
       "        text-align: right;\n",
       "    }\n",
       "</style>\n",
       "<table border=\"1\" class=\"dataframe\">\n",
       "  <thead>\n",
       "    <tr style=\"text-align: right;\">\n",
       "      <th></th>\n",
       "      <th>step</th>\n",
       "      <th>type</th>\n",
       "      <th>amount</th>\n",
       "      <th>nameOrig</th>\n",
       "      <th>oldbalanceOrg</th>\n",
       "      <th>newbalanceOrig</th>\n",
       "      <th>nameDest</th>\n",
       "      <th>oldbalanceDest</th>\n",
       "      <th>newbalanceDest</th>\n",
       "      <th>isFraud</th>\n",
       "      <th>isFlaggedFraud</th>\n",
       "    </tr>\n",
       "  </thead>\n",
       "  <tbody>\n",
       "    <tr>\n",
       "      <th>0</th>\n",
       "      <td>11</td>\n",
       "      <td>PAYMENT</td>\n",
       "      <td>23824.85</td>\n",
       "      <td>C689938949</td>\n",
       "      <td>0.00</td>\n",
       "      <td>0.00</td>\n",
       "      <td>M1460872626</td>\n",
       "      <td>0.00</td>\n",
       "      <td>0.00</td>\n",
       "      <td>0</td>\n",
       "      <td>0</td>\n",
       "    </tr>\n",
       "    <tr>\n",
       "      <th>1</th>\n",
       "      <td>9</td>\n",
       "      <td>PAYMENT</td>\n",
       "      <td>21635.32</td>\n",
       "      <td>C1575214500</td>\n",
       "      <td>81920.49</td>\n",
       "      <td>60285.17</td>\n",
       "      <td>M266977218</td>\n",
       "      <td>0.00</td>\n",
       "      <td>0.00</td>\n",
       "      <td>0</td>\n",
       "      <td>0</td>\n",
       "    </tr>\n",
       "    <tr>\n",
       "      <th>2</th>\n",
       "      <td>12</td>\n",
       "      <td>CASH_IN</td>\n",
       "      <td>351121.91</td>\n",
       "      <td>C995443509</td>\n",
       "      <td>4454306.27</td>\n",
       "      <td>4805428.19</td>\n",
       "      <td>C2115498160</td>\n",
       "      <td>1479790.46</td>\n",
       "      <td>1231184.66</td>\n",
       "      <td>0</td>\n",
       "      <td>0</td>\n",
       "    </tr>\n",
       "    <tr>\n",
       "      <th>3</th>\n",
       "      <td>9</td>\n",
       "      <td>CASH_IN</td>\n",
       "      <td>58429.17</td>\n",
       "      <td>C2059144571</td>\n",
       "      <td>6544514.05</td>\n",
       "      <td>6602943.22</td>\n",
       "      <td>C1137371968</td>\n",
       "      <td>4724976.11</td>\n",
       "      <td>6392871.31</td>\n",
       "      <td>0</td>\n",
       "      <td>0</td>\n",
       "    </tr>\n",
       "    <tr>\n",
       "      <th>4</th>\n",
       "      <td>8</td>\n",
       "      <td>CASH_OUT</td>\n",
       "      <td>119846.49</td>\n",
       "      <td>C1702593733</td>\n",
       "      <td>0.00</td>\n",
       "      <td>0.00</td>\n",
       "      <td>C1898859288</td>\n",
       "      <td>605241.14</td>\n",
       "      <td>896323.73</td>\n",
       "      <td>0</td>\n",
       "      <td>0</td>\n",
       "    </tr>\n",
       "  </tbody>\n",
       "</table>\n",
       "</div>"
      ],
      "text/plain": [
       "   step      type    amount     nameOrig  oldbalanceOrg  newbalanceOrig  \\\n",
       "0    11   PAYMENT  23824.85   C689938949           0.00            0.00   \n",
       "1     9   PAYMENT  21635.32  C1575214500       81920.49        60285.17   \n",
       "2    12   CASH_IN 351121.91   C995443509     4454306.27      4805428.19   \n",
       "3     9   CASH_IN  58429.17  C2059144571     6544514.05      6602943.22   \n",
       "4     8  CASH_OUT 119846.49  C1702593733           0.00            0.00   \n",
       "\n",
       "      nameDest  oldbalanceDest  newbalanceDest  isFraud  isFlaggedFraud  \n",
       "0  M1460872626            0.00            0.00        0               0  \n",
       "1   M266977218            0.00            0.00        0               0  \n",
       "2  C2115498160      1479790.46      1231184.66        0               0  \n",
       "3  C1137371968      4724976.11      6392871.31        0               0  \n",
       "4  C1898859288       605241.14       896323.73        0               0  "
      ]
     },
     "execution_count": 6,
     "metadata": {},
     "output_type": "execute_result"
    }
   ],
   "source": [
    "df = pd.read_csv('dataset.csv')\n",
    "df.head()"
   ]
  },
  {
   "cell_type": "code",
   "execution_count": 7,
   "id": "acf832ad",
   "metadata": {
    "execution": {
     "iopub.execute_input": "2025-01-13T10:41:10.466682Z",
     "iopub.status.busy": "2025-01-13T10:41:10.466283Z",
     "iopub.status.idle": "2025-01-13T10:41:10.483686Z",
     "shell.execute_reply": "2025-01-13T10:41:10.482402Z",
     "shell.execute_reply.started": "2025-01-13T10:41:10.466643Z"
    }
   },
   "outputs": [
    {
     "name": "stdout",
     "output_type": "stream",
     "text": [
      "Rows and Columns\n",
      "(58213, 11)\n"
     ]
    }
   ],
   "source": [
    "print(\"Rows and Columns\")\n",
    "print(df.shape)"
   ]
  },
  {
   "cell_type": "markdown",
   "id": "b18df1a4",
   "metadata": {},
   "source": [
    "##### Columns\n",
    "\n",
    "\n"
   ]
  },
  {
   "cell_type": "raw",
   "id": "dfb8042f",
   "metadata": {},
   "source": [
    "step: represents a unit of time where 1 step equals 1 hour\n",
    "type: type of online transaction\n",
    "amount: the amount of the transaction\n",
    "nameOrig: The unique identifier of the origin account (e.g., sender).\n",
    "oldbalanceOrg: balance of the origin account before transaction.\n",
    "newbalanceOrig: balance of the origin account after transaction.\n",
    "nameDest: The unique identifier of the destination account (e.g., recipient).\n",
    "oldbalanceDest: initial balance of recipient before the transaction\n",
    "newbalanceDest: the new balance of recipient after the transaction\n",
    "isFraud: fraud transaction\n",
    "\n",
    "The dataset provides a clear flow of funds from nameOrig to nameDest, making it suitable for fraud pattern detection."
   ]
  },
  {
   "cell_type": "markdown",
   "id": "0ed4ce96",
   "metadata": {},
   "source": [
    "#### Class imbalance "
   ]
  },
  {
   "cell_type": "code",
   "execution_count": 8,
   "id": "5332a8e3",
   "metadata": {},
   "outputs": [
    {
     "name": "stdout",
     "output_type": "stream",
     "text": [
      "isFraud\n",
      "0    50000\n",
      "1     8213\n",
      "Name: count, dtype: int64\n"
     ]
    },
    {
     "data": {
      "text/plain": [
       "isFraud\n",
       "0   0.86\n",
       "1   0.14\n",
       "Name: proportion, dtype: float64"
      ]
     },
     "execution_count": 8,
     "metadata": {},
     "output_type": "execute_result"
    }
   ],
   "source": [
    "# We have class imbalance in the Fraudulent(1) transactions.\n",
    "print(df['isFraud'].value_counts())\n",
    "df['isFraud'].value_counts(normalize=True)"
   ]
  },
  {
   "cell_type": "code",
   "execution_count": 9,
   "id": "37152321",
   "metadata": {
    "execution": {
     "iopub.execute_input": "2025-01-13T10:41:10.506527Z",
     "iopub.status.busy": "2025-01-13T10:41:10.506144Z",
     "iopub.status.idle": "2025-01-13T10:41:10.528107Z",
     "shell.execute_reply": "2025-01-13T10:41:10.526533Z",
     "shell.execute_reply.started": "2025-01-13T10:41:10.506497Z"
    }
   },
   "outputs": [
    {
     "name": "stdout",
     "output_type": "stream",
     "text": [
      "Index(['step', 'type', 'amount', 'nameOrig', 'oldbalanceOrg', 'newbalanceOrig',\n",
      "       'nameDest', 'oldbalanceDest', 'newbalanceDest', 'isFraud',\n",
      "       'isFlaggedFraud'],\n",
      "      dtype='object')\n",
      "Index(['time', 'transaction_type', 'amount', 'nameOrig', 'oldbalanceOrg',\n",
      "       'newbalanceOrig', 'nameDest', 'oldbalanceDest', 'newbalanceDest',\n",
      "       'isFraud', 'isFlaggedFraud'],\n",
      "      dtype='object')\n"
     ]
    }
   ],
   "source": [
    "# Renaming columns:\n",
    "\n",
    "print(df.columns)\n",
    "df.rename(columns={'type':'transaction_type'},inplace=True)\n",
    "df.rename(columns={'step':'time'},inplace=True)\n",
    "print(df.columns)"
   ]
  },
  {
   "cell_type": "code",
   "execution_count": 10,
   "id": "b1eebee6",
   "metadata": {
    "execution": {
     "iopub.execute_input": "2025-01-13T10:41:10.547282Z",
     "iopub.status.busy": "2025-01-13T10:41:10.546896Z",
     "iopub.status.idle": "2025-01-13T10:41:10.566855Z",
     "shell.execute_reply": "2025-01-13T10:41:10.565376Z",
     "shell.execute_reply.started": "2025-01-13T10:41:10.547249Z"
    },
    "scrolled": true
   },
   "outputs": [
    {
     "data": {
      "text/html": [
       "<div>\n",
       "<style scoped>\n",
       "    .dataframe tbody tr th:only-of-type {\n",
       "        vertical-align: middle;\n",
       "    }\n",
       "\n",
       "    .dataframe tbody tr th {\n",
       "        vertical-align: top;\n",
       "    }\n",
       "\n",
       "    .dataframe thead th {\n",
       "        text-align: right;\n",
       "    }\n",
       "</style>\n",
       "<table border=\"1\" class=\"dataframe\">\n",
       "  <thead>\n",
       "    <tr style=\"text-align: right;\">\n",
       "      <th></th>\n",
       "      <th>time</th>\n",
       "      <th>amount</th>\n",
       "      <th>oldbalanceOrg</th>\n",
       "      <th>newbalanceOrig</th>\n",
       "      <th>oldbalanceDest</th>\n",
       "      <th>newbalanceDest</th>\n",
       "      <th>isFraud</th>\n",
       "      <th>isFlaggedFraud</th>\n",
       "    </tr>\n",
       "  </thead>\n",
       "  <tbody>\n",
       "    <tr>\n",
       "      <th>count</th>\n",
       "      <td>58213.00</td>\n",
       "      <td>58213.00</td>\n",
       "      <td>58213.00</td>\n",
       "      <td>58213.00</td>\n",
       "      <td>58213.00</td>\n",
       "      <td>58213.00</td>\n",
       "      <td>58213.00</td>\n",
       "      <td>58213.00</td>\n",
       "    </tr>\n",
       "    <tr>\n",
       "      <th>mean</th>\n",
       "      <td>60.64</td>\n",
       "      <td>363006.89</td>\n",
       "      <td>983423.96</td>\n",
       "      <td>794276.51</td>\n",
       "      <td>880485.19</td>\n",
       "      <td>1198193.47</td>\n",
       "      <td>0.14</td>\n",
       "      <td>0.00</td>\n",
       "    </tr>\n",
       "    <tr>\n",
       "      <th>std</th>\n",
       "      <td>148.89</td>\n",
       "      <td>1053104.63</td>\n",
       "      <td>2885794.95</td>\n",
       "      <td>2694626.75</td>\n",
       "      <td>2515157.13</td>\n",
       "      <td>2843751.21</td>\n",
       "      <td>0.35</td>\n",
       "      <td>0.02</td>\n",
       "    </tr>\n",
       "    <tr>\n",
       "      <th>min</th>\n",
       "      <td>1.00</td>\n",
       "      <td>0.00</td>\n",
       "      <td>0.00</td>\n",
       "      <td>0.00</td>\n",
       "      <td>0.00</td>\n",
       "      <td>0.00</td>\n",
       "      <td>0.00</td>\n",
       "      <td>0.00</td>\n",
       "    </tr>\n",
       "    <tr>\n",
       "      <th>25%</th>\n",
       "      <td>9.00</td>\n",
       "      <td>14426.04</td>\n",
       "      <td>0.00</td>\n",
       "      <td>0.00</td>\n",
       "      <td>0.00</td>\n",
       "      <td>0.00</td>\n",
       "      <td>0.00</td>\n",
       "      <td>0.00</td>\n",
       "    </tr>\n",
       "    <tr>\n",
       "      <th>50%</th>\n",
       "      <td>11.00</td>\n",
       "      <td>97133.63</td>\n",
       "      <td>31223.00</td>\n",
       "      <td>0.00</td>\n",
       "      <td>20640.00</td>\n",
       "      <td>114827.36</td>\n",
       "      <td>0.00</td>\n",
       "      <td>0.00</td>\n",
       "    </tr>\n",
       "    <tr>\n",
       "      <th>75%</th>\n",
       "      <td>12.00</td>\n",
       "      <td>282111.84</td>\n",
       "      <td>347735.10</td>\n",
       "      <td>148390.13</td>\n",
       "      <td>664408.32</td>\n",
       "      <td>1177760.30</td>\n",
       "      <td>0.00</td>\n",
       "      <td>0.00</td>\n",
       "    </tr>\n",
       "    <tr>\n",
       "      <th>max</th>\n",
       "      <td>743.00</td>\n",
       "      <td>10000000.00</td>\n",
       "      <td>59585040.37</td>\n",
       "      <td>49585040.37</td>\n",
       "      <td>236230516.82</td>\n",
       "      <td>236726494.66</td>\n",
       "      <td>1.00</td>\n",
       "      <td>1.00</td>\n",
       "    </tr>\n",
       "  </tbody>\n",
       "</table>\n",
       "</div>"
      ],
      "text/plain": [
       "          time      amount  oldbalanceOrg  newbalanceOrig  oldbalanceDest  \\\n",
       "count 58213.00    58213.00       58213.00        58213.00        58213.00   \n",
       "mean     60.64   363006.89      983423.96       794276.51       880485.19   \n",
       "std     148.89  1053104.63     2885794.95      2694626.75      2515157.13   \n",
       "min       1.00        0.00           0.00            0.00            0.00   \n",
       "25%       9.00    14426.04           0.00            0.00            0.00   \n",
       "50%      11.00    97133.63       31223.00            0.00        20640.00   \n",
       "75%      12.00   282111.84      347735.10       148390.13       664408.32   \n",
       "max     743.00 10000000.00    59585040.37     49585040.37    236230516.82   \n",
       "\n",
       "       newbalanceDest  isFraud  isFlaggedFraud  \n",
       "count        58213.00 58213.00        58213.00  \n",
       "mean       1198193.47     0.14            0.00  \n",
       "std        2843751.21     0.35            0.02  \n",
       "min              0.00     0.00            0.00  \n",
       "25%              0.00     0.00            0.00  \n",
       "50%         114827.36     0.00            0.00  \n",
       "75%        1177760.30     0.00            0.00  \n",
       "max      236726494.66     1.00            1.00  "
      ]
     },
     "execution_count": 10,
     "metadata": {},
     "output_type": "execute_result"
    }
   ],
   "source": [
    "df.describe()"
   ]
  },
  {
   "cell_type": "code",
   "execution_count": 11,
   "id": "ac512cad",
   "metadata": {},
   "outputs": [
    {
     "name": "stdout",
     "output_type": "stream",
     "text": [
      "int64\n"
     ]
    },
    {
     "data": {
      "text/plain": [
       "array([11,  9, 12,  8,  3, 10, 13,  7,  5,  6,  1,  2,  4, 14, 15, 16, 17,\n",
       "       18, 19, 20, 21, 22, 23,  0], dtype=int64)"
      ]
     },
     "execution_count": 11,
     "metadata": {},
     "output_type": "execute_result"
    }
   ],
   "source": [
    "# Converting Step to hour of day:\n",
    "df['time'] = df['time'] % 24\n",
    "print(df['time'].dtype)\n",
    "df['time'].unique()"
   ]
  },
  {
   "cell_type": "code",
   "execution_count": 12,
   "id": "c3823218",
   "metadata": {},
   "outputs": [
    {
     "data": {
      "text/html": [
       "<div>\n",
       "<style scoped>\n",
       "    .dataframe tbody tr th:only-of-type {\n",
       "        vertical-align: middle;\n",
       "    }\n",
       "\n",
       "    .dataframe tbody tr th {\n",
       "        vertical-align: top;\n",
       "    }\n",
       "\n",
       "    .dataframe thead th {\n",
       "        text-align: right;\n",
       "    }\n",
       "</style>\n",
       "<table border=\"1\" class=\"dataframe\">\n",
       "  <thead>\n",
       "    <tr style=\"text-align: right;\">\n",
       "      <th></th>\n",
       "      <th>time</th>\n",
       "      <th>amount</th>\n",
       "      <th>oldbalanceOrg</th>\n",
       "      <th>newbalanceOrig</th>\n",
       "      <th>oldbalanceDest</th>\n",
       "      <th>newbalanceDest</th>\n",
       "      <th>isFraud</th>\n",
       "      <th>isFlaggedFraud</th>\n",
       "    </tr>\n",
       "  </thead>\n",
       "  <tbody>\n",
       "    <tr>\n",
       "      <th>0</th>\n",
       "      <td>11</td>\n",
       "      <td>23824</td>\n",
       "      <td>0</td>\n",
       "      <td>0</td>\n",
       "      <td>0</td>\n",
       "      <td>0</td>\n",
       "      <td>0</td>\n",
       "      <td>0</td>\n",
       "    </tr>\n",
       "    <tr>\n",
       "      <th>1</th>\n",
       "      <td>9</td>\n",
       "      <td>21635</td>\n",
       "      <td>81920</td>\n",
       "      <td>60285</td>\n",
       "      <td>0</td>\n",
       "      <td>0</td>\n",
       "      <td>0</td>\n",
       "      <td>0</td>\n",
       "    </tr>\n",
       "    <tr>\n",
       "      <th>2</th>\n",
       "      <td>12</td>\n",
       "      <td>351121</td>\n",
       "      <td>4454306</td>\n",
       "      <td>4805428</td>\n",
       "      <td>1479790</td>\n",
       "      <td>1231184</td>\n",
       "      <td>0</td>\n",
       "      <td>0</td>\n",
       "    </tr>\n",
       "  </tbody>\n",
       "</table>\n",
       "</div>"
      ],
      "text/plain": [
       "   time  amount  oldbalanceOrg  newbalanceOrig  oldbalanceDest  \\\n",
       "0    11   23824              0               0               0   \n",
       "1     9   21635          81920           60285               0   \n",
       "2    12  351121        4454306         4805428         1479790   \n",
       "\n",
       "   newbalanceDest  isFraud  isFlaggedFraud  \n",
       "0               0        0               0  \n",
       "1               0        0               0  \n",
       "2         1231184        0               0  "
      ]
     },
     "execution_count": 12,
     "metadata": {},
     "output_type": "execute_result"
    }
   ],
   "source": [
    "numeric_columns = df.select_dtypes(['int64','float64']).columns\n",
    "\n",
    "df[numeric_columns] = df[numeric_columns].astype('int')\n",
    "df[numeric_columns].head(3)"
   ]
  },
  {
   "cell_type": "code",
   "execution_count": 13,
   "id": "e14676b5",
   "metadata": {},
   "outputs": [
    {
     "name": "stdout",
     "output_type": "stream",
     "text": [
      "column => transaction_type = ['PAYMENT' 'CASH_IN' 'CASH_OUT' 'TRANSFER' 'DEBIT']\n",
      "column => isFraud = [0 1]\n",
      "column => isFlaggedFraud = [0 1]\n"
     ]
    }
   ],
   "source": [
    "cat_column = ['transaction_type','isFraud','isFlaggedFraud']\n",
    "\n",
    "for col in cat_column:\n",
    "    print(f\"column => {col} = {df[col].unique()}\")"
   ]
  },
  {
   "cell_type": "markdown",
   "id": "77118319",
   "metadata": {},
   "source": [
    "#### Features:"
   ]
  },
  {
   "cell_type": "raw",
   "id": "bc887af9",
   "metadata": {
    "vscode": {
     "languageId": "raw"
    }
   },
   "source": [
    "Transaction_type:\n",
    "\n",
    "1.PAYMENT  :  Transactions where money is paid from one account to a merchant or service provider (e.g., bill payments)\n",
    "2.Transfer :  Transactions where funds are transferred directly from one account to another.\n",
    "3.CASH_OUT :  Transactions where money is withdrawn from an account, often to cash. (Sender: The entity initiating the withdrawal, receiver: the money is withdrawn by the sender themselves (e.g., from their account at an ATM )\n",
    "4.CASH_IN  :  Transactions where money is deposited or credited to an account. (Sender: Typically the entity depositing the money into another account, Receiver: The account that receives the deposit ).              \n",
    "5.DEBIT    :  Transactions that involve the direct debit of funds from an account, often linked to specific pre-authorized\n",
    "              payments.( subscriptions/bill payments ). Money moves from the sender’s account to the receiver’s account."
   ]
  },
  {
   "cell_type": "markdown",
   "id": "44894fe4",
   "metadata": {},
   "source": [
    "## Data Cleaning"
   ]
  },
  {
   "cell_type": "code",
   "execution_count": 14,
   "id": "740f3f41",
   "metadata": {
    "execution": {
     "iopub.execute_input": "2025-01-13T10:41:10.673925Z",
     "iopub.status.busy": "2025-01-13T10:41:10.673528Z",
     "iopub.status.idle": "2025-01-13T10:41:10.690899Z",
     "shell.execute_reply": "2025-01-13T10:41:10.689503Z",
     "shell.execute_reply.started": "2025-01-13T10:41:10.673892Z"
    }
   },
   "outputs": [
    {
     "name": "stdout",
     "output_type": "stream",
     "text": [
      "Checking for NA Values\n",
      "time                0\n",
      "transaction_type    0\n",
      "amount              0\n",
      "nameOrig            0\n",
      "oldbalanceOrg       0\n",
      "newbalanceOrig      0\n",
      "nameDest            0\n",
      "oldbalanceDest      0\n",
      "newbalanceDest      0\n",
      "isFraud             0\n",
      "isFlaggedFraud      0\n",
      "dtype: int64\n"
     ]
    }
   ],
   "source": [
    "print(\"Checking for NA Values\")\n",
    "print(df.isna().sum())"
   ]
  },
  {
   "cell_type": "code",
   "execution_count": 15,
   "id": "fe6399de",
   "metadata": {
    "execution": {
     "iopub.execute_input": "2025-01-13T10:41:10.692649Z",
     "iopub.status.busy": "2025-01-13T10:41:10.692199Z",
     "iopub.status.idle": "2025-01-13T10:41:10.712154Z",
     "shell.execute_reply": "2025-01-13T10:41:10.710675Z",
     "shell.execute_reply.started": "2025-01-13T10:41:10.692608Z"
    }
   },
   "outputs": [
    {
     "name": "stdout",
     "output_type": "stream",
     "text": [
      "Checking for Duplicates\n",
      "0\n"
     ]
    }
   ],
   "source": [
    "print(\"Checking for Duplicates\")\n",
    "print(df.duplicated().sum())"
   ]
  },
  {
   "cell_type": "code",
   "execution_count": 16,
   "id": "00a58601",
   "metadata": {
    "execution": {
     "iopub.execute_input": "2025-01-13T10:41:11.066206Z",
     "iopub.status.busy": "2025-01-13T10:41:11.065887Z",
     "iopub.status.idle": "2025-01-13T10:41:11.084535Z",
     "shell.execute_reply": "2025-01-13T10:41:11.083201Z",
     "shell.execute_reply.started": "2025-01-13T10:41:11.066179Z"
    }
   },
   "outputs": [
    {
     "data": {
      "text/html": [
       "<div>\n",
       "<style scoped>\n",
       "    .dataframe tbody tr th:only-of-type {\n",
       "        vertical-align: middle;\n",
       "    }\n",
       "\n",
       "    .dataframe tbody tr th {\n",
       "        vertical-align: top;\n",
       "    }\n",
       "\n",
       "    .dataframe thead th {\n",
       "        text-align: right;\n",
       "    }\n",
       "</style>\n",
       "<table border=\"1\" class=\"dataframe\">\n",
       "  <thead>\n",
       "    <tr style=\"text-align: right;\">\n",
       "      <th></th>\n",
       "      <th>time</th>\n",
       "      <th>amount</th>\n",
       "      <th>oldbalanceOrg</th>\n",
       "      <th>newbalanceOrig</th>\n",
       "      <th>oldbalanceDest</th>\n",
       "      <th>newbalanceDest</th>\n",
       "      <th>isFraud</th>\n",
       "      <th>isFlaggedFraud</th>\n",
       "    </tr>\n",
       "  </thead>\n",
       "  <tbody>\n",
       "    <tr>\n",
       "      <th>count</th>\n",
       "      <td>58213.00</td>\n",
       "      <td>58213.00</td>\n",
       "      <td>58213.00</td>\n",
       "      <td>58213.00</td>\n",
       "      <td>58213.00</td>\n",
       "      <td>58213.00</td>\n",
       "      <td>58213.00</td>\n",
       "      <td>58213.00</td>\n",
       "    </tr>\n",
       "    <tr>\n",
       "      <th>mean</th>\n",
       "      <td>10.29</td>\n",
       "      <td>363006.40</td>\n",
       "      <td>983423.77</td>\n",
       "      <td>794276.31</td>\n",
       "      <td>880484.96</td>\n",
       "      <td>1198193.20</td>\n",
       "      <td>0.14</td>\n",
       "      <td>0.00</td>\n",
       "    </tr>\n",
       "    <tr>\n",
       "      <th>std</th>\n",
       "      <td>3.28</td>\n",
       "      <td>1053104.65</td>\n",
       "      <td>2885794.86</td>\n",
       "      <td>2694626.66</td>\n",
       "      <td>2515157.04</td>\n",
       "      <td>2843751.12</td>\n",
       "      <td>0.35</td>\n",
       "      <td>0.02</td>\n",
       "    </tr>\n",
       "    <tr>\n",
       "      <th>min</th>\n",
       "      <td>0.00</td>\n",
       "      <td>0.00</td>\n",
       "      <td>0.00</td>\n",
       "      <td>0.00</td>\n",
       "      <td>0.00</td>\n",
       "      <td>0.00</td>\n",
       "      <td>0.00</td>\n",
       "      <td>0.00</td>\n",
       "    </tr>\n",
       "    <tr>\n",
       "      <th>25%</th>\n",
       "      <td>9.00</td>\n",
       "      <td>14426.00</td>\n",
       "      <td>0.00</td>\n",
       "      <td>0.00</td>\n",
       "      <td>0.00</td>\n",
       "      <td>0.00</td>\n",
       "      <td>0.00</td>\n",
       "      <td>0.00</td>\n",
       "    </tr>\n",
       "    <tr>\n",
       "      <th>50%</th>\n",
       "      <td>10.00</td>\n",
       "      <td>97133.00</td>\n",
       "      <td>31223.00</td>\n",
       "      <td>0.00</td>\n",
       "      <td>20640.00</td>\n",
       "      <td>114827.00</td>\n",
       "      <td>0.00</td>\n",
       "      <td>0.00</td>\n",
       "    </tr>\n",
       "    <tr>\n",
       "      <th>75%</th>\n",
       "      <td>12.00</td>\n",
       "      <td>282111.00</td>\n",
       "      <td>347735.00</td>\n",
       "      <td>148390.00</td>\n",
       "      <td>664408.00</td>\n",
       "      <td>1177760.00</td>\n",
       "      <td>0.00</td>\n",
       "      <td>0.00</td>\n",
       "    </tr>\n",
       "    <tr>\n",
       "      <th>max</th>\n",
       "      <td>23.00</td>\n",
       "      <td>10000000.00</td>\n",
       "      <td>59585040.00</td>\n",
       "      <td>49585040.00</td>\n",
       "      <td>236230516.00</td>\n",
       "      <td>236726494.00</td>\n",
       "      <td>1.00</td>\n",
       "      <td>1.00</td>\n",
       "    </tr>\n",
       "  </tbody>\n",
       "</table>\n",
       "</div>"
      ],
      "text/plain": [
       "          time      amount  oldbalanceOrg  newbalanceOrig  oldbalanceDest  \\\n",
       "count 58213.00    58213.00       58213.00        58213.00        58213.00   \n",
       "mean     10.29   363006.40      983423.77       794276.31       880484.96   \n",
       "std       3.28  1053104.65     2885794.86      2694626.66      2515157.04   \n",
       "min       0.00        0.00           0.00            0.00            0.00   \n",
       "25%       9.00    14426.00           0.00            0.00            0.00   \n",
       "50%      10.00    97133.00       31223.00            0.00        20640.00   \n",
       "75%      12.00   282111.00      347735.00       148390.00       664408.00   \n",
       "max      23.00 10000000.00    59585040.00     49585040.00    236230516.00   \n",
       "\n",
       "       newbalanceDest  isFraud  isFlaggedFraud  \n",
       "count        58213.00 58213.00        58213.00  \n",
       "mean       1198193.20     0.14            0.00  \n",
       "std        2843751.12     0.35            0.02  \n",
       "min              0.00     0.00            0.00  \n",
       "25%              0.00     0.00            0.00  \n",
       "50%         114827.00     0.00            0.00  \n",
       "75%        1177760.00     0.00            0.00  \n",
       "max      236726494.00     1.00            1.00  "
      ]
     },
     "execution_count": 16,
     "metadata": {},
     "output_type": "execute_result"
    }
   ],
   "source": [
    "df[numeric_columns].describe()"
   ]
  },
  {
   "cell_type": "markdown",
   "id": "75461f19",
   "metadata": {},
   "source": [
    "### Analyze categorical features"
   ]
  },
  {
   "cell_type": "code",
   "execution_count": 17,
   "id": "91fd7594",
   "metadata": {
    "execution": {
     "iopub.execute_input": "2025-01-13T10:41:11.103938Z",
     "iopub.status.busy": "2025-01-13T10:41:11.103440Z",
     "iopub.status.idle": "2025-01-13T10:41:11.590756Z",
     "shell.execute_reply": "2025-01-13T10:41:11.589530Z",
     "shell.execute_reply.started": "2025-01-13T10:41:11.103893Z"
    }
   },
   "outputs": [
    {
     "data": {
      "text/plain": [
       "'transaction_type'"
      ]
     },
     "execution_count": 17,
     "metadata": {},
     "output_type": "execute_result"
    }
   ],
   "source": [
    "df.select_dtypes(exclude=['float64','int64']).columns\n",
    "\n",
    "categorical_columns = df.select_dtypes(exclude=['float64','int']).columns[0] # We will only use transaction type column as categorical because the other columns are unique identifiers.\n",
    "categorical_columns"
   ]
  },
  {
   "cell_type": "code",
   "execution_count": 18,
   "id": "5f00bf0d",
   "metadata": {
    "execution": {
     "iopub.execute_input": "2025-01-13T10:41:11.592659Z",
     "iopub.status.busy": "2025-01-13T10:41:11.592235Z",
     "iopub.status.idle": "2025-01-13T10:41:25.937727Z",
     "shell.execute_reply": "2025-01-13T10:41:25.936653Z",
     "shell.execute_reply.started": "2025-01-13T10:41:11.592613Z"
    },
    "scrolled": true
   },
   "outputs": [
    {
     "data": {
      "text/html": [
       "<div>\n",
       "<style scoped>\n",
       "    .dataframe tbody tr th:only-of-type {\n",
       "        vertical-align: middle;\n",
       "    }\n",
       "\n",
       "    .dataframe tbody tr th {\n",
       "        vertical-align: top;\n",
       "    }\n",
       "\n",
       "    .dataframe thead th {\n",
       "        text-align: right;\n",
       "    }\n",
       "</style>\n",
       "<table border=\"1\" class=\"dataframe\">\n",
       "  <thead>\n",
       "    <tr style=\"text-align: right;\">\n",
       "      <th></th>\n",
       "      <th>nameOrig</th>\n",
       "      <th>nameDest</th>\n",
       "    </tr>\n",
       "  </thead>\n",
       "  <tbody>\n",
       "    <tr>\n",
       "      <th>count</th>\n",
       "      <td>58213</td>\n",
       "      <td>58213</td>\n",
       "    </tr>\n",
       "    <tr>\n",
       "      <th>unique</th>\n",
       "      <td>58213</td>\n",
       "      <td>40042</td>\n",
       "    </tr>\n",
       "    <tr>\n",
       "      <th>top</th>\n",
       "      <td>C689938949</td>\n",
       "      <td>C451111351</td>\n",
       "    </tr>\n",
       "    <tr>\n",
       "      <th>freq</th>\n",
       "      <td>1</td>\n",
       "      <td>21</td>\n",
       "    </tr>\n",
       "  </tbody>\n",
       "</table>\n",
       "</div>"
      ],
      "text/plain": [
       "          nameOrig    nameDest\n",
       "count        58213       58213\n",
       "unique       58213       40042\n",
       "top     C689938949  C451111351\n",
       "freq             1          21"
      ]
     },
     "execution_count": 18,
     "metadata": {},
     "output_type": "execute_result"
    }
   ],
   "source": [
    "# Unique Identifers:\n",
    "df[['nameOrig','nameDest']].describe()"
   ]
  },
  {
   "cell_type": "markdown",
   "id": "e35d8626",
   "metadata": {},
   "source": [
    "# Exploratory Data Analysis"
   ]
  },
  {
   "cell_type": "code",
   "execution_count": 19,
   "id": "48951482",
   "metadata": {
    "execution": {
     "iopub.execute_input": "2025-01-13T10:41:26.361773Z",
     "iopub.status.busy": "2025-01-13T10:41:26.361326Z",
     "iopub.status.idle": "2025-01-13T10:41:26.376965Z",
     "shell.execute_reply": "2025-01-13T10:41:26.375440Z",
     "shell.execute_reply.started": "2025-01-13T10:41:26.361734Z"
    }
   },
   "outputs": [
    {
     "data": {
      "text/plain": [
       "Index(['time', 'amount', 'oldbalanceOrg', 'newbalanceOrig', 'oldbalanceDest',\n",
       "       'newbalanceDest', 'isFraud', 'isFlaggedFraud'],\n",
       "      dtype='object')"
      ]
     },
     "execution_count": 19,
     "metadata": {},
     "output_type": "execute_result"
    }
   ],
   "source": [
    "numeric_columns"
   ]
  },
  {
   "cell_type": "code",
   "execution_count": 20,
   "id": "64548158",
   "metadata": {
    "execution": {
     "iopub.execute_input": "2025-01-13T10:41:26.379288Z",
     "iopub.status.busy": "2025-01-13T10:41:26.378710Z",
     "iopub.status.idle": "2025-01-13T10:41:26.395137Z",
     "shell.execute_reply": "2025-01-13T10:41:26.393795Z",
     "shell.execute_reply.started": "2025-01-13T10:41:26.379179Z"
    }
   },
   "outputs": [
    {
     "data": {
      "text/plain": [
       "'transaction_type'"
      ]
     },
     "execution_count": 20,
     "metadata": {},
     "output_type": "execute_result"
    }
   ],
   "source": [
    "categorical_columns"
   ]
  },
  {
   "cell_type": "code",
   "execution_count": 21,
   "id": "59315e1e",
   "metadata": {},
   "outputs": [
    {
     "data": {
      "image/png": "[encoded data removed]",
      "text/plain": [
       "<Figure size 640x480 with 1 Axes>"
      ]
     },
     "metadata": {},
     "output_type": "display_data"
    }
   ],
   "source": [
    "sns.histplot(data=df,x='time',bins=24,kde=True)\n",
    "\n",
    "plt.xlabel(\"Time in hours\")\n",
    "plt.title(\"Time Distributions of Transactions\")\n",
    "plt.xticks(range(0, 24))  # Show all 24 hours on x-axis\n",
    "plt.show()"
   ]
  },
  {
   "cell_type": "code",
   "execution_count": 22,
   "id": "0ea32b44",
   "metadata": {},
   "outputs": [
    {
     "data": {
      "image/png": "[encoded data removed]",
      "text/plain": [
       "<Figure size 640x480 with 1 Axes>"
      ]
     },
     "metadata": {},
     "output_type": "display_data"
    }
   ],
   "source": [
    "fraud_df = df[df['isFraud'] == 1] \n",
    "\n",
    "sns.histplot(data=fraud_df, x='time', bins=24, kde=True)  # Using 24 bins for 24 hours\n",
    "\n",
    "plt.xlabel(\"Time in hours \")\n",
    "plt.title(\"Time Distribution of Fraudulent Transactions\")\n",
    "plt.xticks(range(0, 24))  # Show all 24 hours on x-axis\n",
    "plt.show()"
   ]
  },
  {
   "cell_type": "code",
   "execution_count": 23,
   "id": "5a834432",
   "metadata": {
    "execution": {
     "iopub.execute_input": "2025-01-13T10:41:26.413384Z",
     "iopub.status.busy": "2025-01-13T10:41:26.412939Z",
     "iopub.status.idle": "2025-01-13T10:41:26.430589Z",
     "shell.execute_reply": "2025-01-13T10:41:26.429221Z",
     "shell.execute_reply.started": "2025-01-13T10:41:26.413355Z"
    }
   },
   "outputs": [
    {
     "data": {
      "image/png": "[encoded data removed]",
      "text/plain": [
       "<Figure size 640x480 with 1 Axes>"
      ]
     },
     "metadata": {},
     "output_type": "display_data"
    }
   ],
   "source": [
    "transaction_count = df.groupby('transaction_type')['isFraud'].count().reset_index(name='no of transactions') \\\n",
    "   .sort_values(by='no of transactions',ascending=False)\n",
    "\n",
    "ax = sns.barplot(data=transaction_count,x='transaction_type',y='no of transactions',)\n",
    "ax.bar_label(ax.containers[0])\n",
    "\n",
    "plt.xlabel(\" No of transactions \")\n",
    "plt.title(\" Count of Transactions Per Transaction Type \")\n",
    "plt.ylabel(\" Transaction Type\")\n",
    "plt.show()"
   ]
  },
  {
   "cell_type": "markdown",
   "id": "b659a9e0",
   "metadata": {},
   "source": [
    "### Insights\n",
    "\n",
    "1. Majority of the Transactions were done By Payment and Cash_out Mode.\n",
    "2. Very less transactions were done by Debit and transfer type."
   ]
  },
  {
   "cell_type": "code",
   "execution_count": 24,
   "id": "c0c90dd1",
   "metadata": {
    "execution": {
     "iopub.execute_input": "2025-01-13T10:41:26.432448Z",
     "iopub.status.busy": "2025-01-13T10:41:26.431969Z",
     "iopub.status.idle": "2025-01-13T10:41:26.450801Z",
     "shell.execute_reply": "2025-01-13T10:41:26.449428Z",
     "shell.execute_reply.started": "2025-01-13T10:41:26.432416Z"
    }
   },
   "outputs": [
    {
     "data": {
      "image/png": "[encoded data removed]",
      "text/plain": [
       "<Figure size 640x480 with 1 Axes>"
      ]
     },
     "metadata": {},
     "output_type": "display_data"
    }
   ],
   "source": [
    "fraud_count_df = df.groupby('transaction_type')['isFraud'].sum().reset_index() \\\n",
    "     .sort_values(by='isFraud',ascending=False) \n",
    "\n",
    "ax = sns.barplot(data=fraud_count_df,x='transaction_type',y='isFraud',color='red')\n",
    "ax.bar_label(ax.containers[0])\n",
    "\n",
    "plt.title(\"Count of Fraudulent Transactions per Transaction Type\")\n",
    "plt.xlabel(\"No of Fraud Transactions\")\n",
    "plt.ylabel(\"Transaction_type\")\n",
    "plt.show()"
   ]
  },
  {
   "cell_type": "markdown",
   "id": "83e4bcb1",
   "metadata": {},
   "source": [
    "### Insights\n",
    "\n",
    "1. Majortiy of the Fraudulent transaction's were either by (CASH OUT) withdrawal of money from the account or by Transfer of funds between two accounts (TRANSFER).\n",
    "2. No Fraudulent Transactions were done by any other type."
   ]
  },
  {
   "cell_type": "code",
   "execution_count": 25,
   "id": "0666735c",
   "metadata": {
    "execution": {
     "iopub.execute_input": "2025-01-13T10:41:26.452571Z",
     "iopub.status.busy": "2025-01-13T10:41:26.452156Z",
     "iopub.status.idle": "2025-01-13T10:41:26.472417Z",
     "shell.execute_reply": "2025-01-13T10:41:26.471201Z",
     "shell.execute_reply.started": "2025-01-13T10:41:26.452524Z"
    }
   },
   "outputs": [
    {
     "data": {
      "text/plain": [
       "Index(['time', 'amount', 'oldbalanceOrg', 'newbalanceOrig', 'oldbalanceDest',\n",
       "       'newbalanceDest', 'isFraud', 'isFlaggedFraud'],\n",
       "      dtype='object')"
      ]
     },
     "execution_count": 25,
     "metadata": {},
     "output_type": "execute_result"
    }
   ],
   "source": [
    "numeric_columns"
   ]
  },
  {
   "cell_type": "code",
   "execution_count": 26,
   "id": "27e8aea7",
   "metadata": {
    "execution": {
     "iopub.execute_input": "2025-01-13T10:41:26.474375Z",
     "iopub.status.busy": "2025-01-13T10:41:26.473929Z",
     "iopub.status.idle": "2025-01-13T10:41:26.489786Z",
     "shell.execute_reply": "2025-01-13T10:41:26.488287Z",
     "shell.execute_reply.started": "2025-01-13T10:41:26.474332Z"
    },
    "scrolled": false
   },
   "outputs": [
    {
     "data": {
      "image/png": "[encoded data removed]",
      "text/plain": [
       "<Figure size 800x400 with 1 Axes>"
      ]
     },
     "metadata": {},
     "output_type": "display_data"
    }
   ],
   "source": [
    "plt.figure(figsize=(8, 4))\n",
    "sns.kdeplot(np.log1p(df['amount'][df['isFraud'] == 0]), fill=True, label='default = 0')\n",
    "sns.kdeplot(np.log1p(df['amount'][df['isFraud'] == 1]), fill=True, label='default = 1')\n",
    "plt.title(\"Amount KDE Plot with isFraud as Hue (Log Scale)\")\n",
    "plt.xlabel(\"Log(Amount)\")\n",
    "plt.legend()\n",
    "plt.show()"
   ]
  },
  {
   "cell_type": "markdown",
   "id": "634c365b",
   "metadata": {},
   "source": [
    "#### Insights:\n",
    "\n",
    "1. We can see that Transactions with higher amount have chances of beign FRAUDULENT.\n",
    "2. Transactions with smaller amount tend to being NON-FRAUDULENT"
   ]
  },
  {
   "cell_type": "code",
   "execution_count": null,
   "id": "5a4bb5a1",
   "metadata": {},
   "outputs": [],
   "source": []
  },
  {
   "cell_type": "markdown",
   "id": "c33d024b",
   "metadata": {},
   "source": [
    "### Co-relation matrix:"
   ]
  },
  {
   "cell_type": "code",
   "execution_count": 27,
   "id": "13c198ba",
   "metadata": {
    "execution": {
     "iopub.execute_input": "2025-01-13T10:41:26.519147Z",
     "iopub.status.busy": "2025-01-13T10:41:26.518796Z",
     "iopub.status.idle": "2025-01-13T10:41:26.537018Z",
     "shell.execute_reply": "2025-01-13T10:41:26.535735Z",
     "shell.execute_reply.started": "2025-01-13T10:41:26.519103Z"
    }
   },
   "outputs": [
    {
     "data": {
      "image/png": "[encoded data removed]",
      "text/plain": [
       "<Figure size 1000x400 with 2 Axes>"
      ]
     },
     "metadata": {},
     "output_type": "display_data"
    }
   ],
   "source": [
    "cm = df[numeric_columns].corr()\n",
    "\n",
    "plt.figure(figsize=(10,4))\n",
    "sns.heatmap(cm,annot=True,fmt=\".2f\",cmap='coolwarm')\n",
    "plt.title(\"Co-relation matrix\")\n",
    "plt.show()"
   ]
  },
  {
   "cell_type": "markdown",
   "id": "57100474",
   "metadata": {},
   "source": [
    "### Insights from EDA.\n",
    "\n",
    "1. Most of the transactions took place by CASH OUT , PAYMENT and CASH IN\n",
    "2. Majority of the FRAUDULENT Transactions took place by CASH OUT or TRANSFER Transaction Type\n",
    "3. Higher the Amount of Transaction, Higher the Risk of it being Fraud.\n"
   ]
  },
  {
   "cell_type": "code",
   "execution_count": null,
   "id": "70c087cc",
   "metadata": {},
   "outputs": [],
   "source": []
  },
  {
   "cell_type": "markdown",
   "id": "d0f926fe",
   "metadata": {},
   "source": [
    "# Feature Engineering , Feature Selection"
   ]
  },
  {
   "cell_type": "code",
   "execution_count": 28,
   "id": "c92291c4",
   "metadata": {},
   "outputs": [
    {
     "data": {
      "text/html": [
       "<div>\n",
       "<style scoped>\n",
       "    .dataframe tbody tr th:only-of-type {\n",
       "        vertical-align: middle;\n",
       "    }\n",
       "\n",
       "    .dataframe tbody tr th {\n",
       "        vertical-align: top;\n",
       "    }\n",
       "\n",
       "    .dataframe thead th {\n",
       "        text-align: right;\n",
       "    }\n",
       "</style>\n",
       "<table border=\"1\" class=\"dataframe\">\n",
       "  <thead>\n",
       "    <tr style=\"text-align: right;\">\n",
       "      <th></th>\n",
       "      <th>time</th>\n",
       "      <th>transaction_type</th>\n",
       "      <th>amount</th>\n",
       "      <th>nameOrig</th>\n",
       "      <th>oldbalanceOrg</th>\n",
       "      <th>newbalanceOrig</th>\n",
       "      <th>nameDest</th>\n",
       "      <th>oldbalanceDest</th>\n",
       "      <th>newbalanceDest</th>\n",
       "      <th>isFraud</th>\n",
       "      <th>isFlaggedFraud</th>\n",
       "    </tr>\n",
       "  </thead>\n",
       "  <tbody>\n",
       "    <tr>\n",
       "      <th>0</th>\n",
       "      <td>11</td>\n",
       "      <td>PAYMENT</td>\n",
       "      <td>23824</td>\n",
       "      <td>C689938949</td>\n",
       "      <td>0</td>\n",
       "      <td>0</td>\n",
       "      <td>M1460872626</td>\n",
       "      <td>0</td>\n",
       "      <td>0</td>\n",
       "      <td>0</td>\n",
       "      <td>0</td>\n",
       "    </tr>\n",
       "    <tr>\n",
       "      <th>1</th>\n",
       "      <td>9</td>\n",
       "      <td>PAYMENT</td>\n",
       "      <td>21635</td>\n",
       "      <td>C1575214500</td>\n",
       "      <td>81920</td>\n",
       "      <td>60285</td>\n",
       "      <td>M266977218</td>\n",
       "      <td>0</td>\n",
       "      <td>0</td>\n",
       "      <td>0</td>\n",
       "      <td>0</td>\n",
       "    </tr>\n",
       "  </tbody>\n",
       "</table>\n",
       "</div>"
      ],
      "text/plain": [
       "   time transaction_type  amount     nameOrig  oldbalanceOrg  newbalanceOrig  \\\n",
       "0    11          PAYMENT   23824   C689938949              0               0   \n",
       "1     9          PAYMENT   21635  C1575214500          81920           60285   \n",
       "\n",
       "      nameDest  oldbalanceDest  newbalanceDest  isFraud  isFlaggedFraud  \n",
       "0  M1460872626               0               0        0               0  \n",
       "1   M266977218               0               0        0               0  "
      ]
     },
     "execution_count": 28,
     "metadata": {},
     "output_type": "execute_result"
    }
   ],
   "source": [
    "df.head(2)"
   ]
  },
  {
   "cell_type": "markdown",
   "id": "78c6168f",
   "metadata": {},
   "source": [
    "#### Removing columns based on Domain knowledge"
   ]
  },
  {
   "cell_type": "code",
   "execution_count": 29,
   "id": "f87183c3",
   "metadata": {
    "execution": {
     "iopub.execute_input": "2025-01-13T10:41:26.568114Z",
     "iopub.status.busy": "2025-01-13T10:41:26.567710Z",
     "iopub.status.idle": "2025-01-13T10:41:26.861341Z",
     "shell.execute_reply": "2025-01-13T10:41:26.860058Z",
     "shell.execute_reply.started": "2025-01-13T10:41:26.568049Z"
    }
   },
   "outputs": [
    {
     "data": {
      "text/html": [
       "<div>\n",
       "<style scoped>\n",
       "    .dataframe tbody tr th:only-of-type {\n",
       "        vertical-align: middle;\n",
       "    }\n",
       "\n",
       "    .dataframe tbody tr th {\n",
       "        vertical-align: top;\n",
       "    }\n",
       "\n",
       "    .dataframe thead th {\n",
       "        text-align: right;\n",
       "    }\n",
       "</style>\n",
       "<table border=\"1\" class=\"dataframe\">\n",
       "  <thead>\n",
       "    <tr style=\"text-align: right;\">\n",
       "      <th></th>\n",
       "      <th>time</th>\n",
       "      <th>transaction_type</th>\n",
       "      <th>amount</th>\n",
       "      <th>oldbalanceOrg</th>\n",
       "      <th>newbalanceOrig</th>\n",
       "      <th>isFraud</th>\n",
       "    </tr>\n",
       "  </thead>\n",
       "  <tbody>\n",
       "    <tr>\n",
       "      <th>0</th>\n",
       "      <td>11</td>\n",
       "      <td>PAYMENT</td>\n",
       "      <td>23824</td>\n",
       "      <td>0</td>\n",
       "      <td>0</td>\n",
       "      <td>0</td>\n",
       "    </tr>\n",
       "    <tr>\n",
       "      <th>1</th>\n",
       "      <td>9</td>\n",
       "      <td>PAYMENT</td>\n",
       "      <td>21635</td>\n",
       "      <td>81920</td>\n",
       "      <td>60285</td>\n",
       "      <td>0</td>\n",
       "    </tr>\n",
       "  </tbody>\n",
       "</table>\n",
       "</div>"
      ],
      "text/plain": [
       "   time transaction_type  amount  oldbalanceOrg  newbalanceOrig  isFraud\n",
       "0    11          PAYMENT   23824              0               0        0\n",
       "1     9          PAYMENT   21635          81920           60285        0"
      ]
     },
     "execution_count": 29,
     "metadata": {},
     "output_type": "execute_result"
    }
   ],
   "source": [
    "df.drop(columns=['nameOrig','nameDest','isFlaggedFraud','oldbalanceDest','newbalanceDest'],inplace=True)\n",
    "df.head(2)"
   ]
  },
  {
   "cell_type": "code",
   "execution_count": null,
   "id": "33eeee99",
   "metadata": {},
   "outputs": [],
   "source": []
  },
  {
   "cell_type": "markdown",
   "id": "10562561",
   "metadata": {},
   "source": [
    "# Feature Encoding:\n",
    "Encoding transaction type column using label encoding:"
   ]
  },
  {
   "cell_type": "code",
   "execution_count": 30,
   "id": "7aff517d",
   "metadata": {
    "execution": {
     "iopub.execute_input": "2025-01-13T10:41:26.987928Z",
     "iopub.status.busy": "2025-01-13T10:41:26.987556Z",
     "iopub.status.idle": "2025-01-13T10:41:27.442433Z",
     "shell.execute_reply": "2025-01-13T10:41:27.440781Z",
     "shell.execute_reply.started": "2025-01-13T10:41:26.987887Z"
    },
    "scrolled": true
   },
   "outputs": [
    {
     "name": "stdout",
     "output_type": "stream",
     "text": [
      "[2 3 1 4 5]\n"
     ]
    }
   ],
   "source": [
    "df['transaction_type'] = df['transaction_type'].map({\"CASH_OUT\": 1, \"PAYMENT\": 2, \n",
    "                                 \"CASH_IN\": 3, \"TRANSFER\": 4,\n",
    "                                 \"DEBIT\": 5})\n",
    "\n",
    "print(df['transaction_type'].unique())"
   ]
  },
  {
   "cell_type": "code",
   "execution_count": 31,
   "id": "22875558",
   "metadata": {},
   "outputs": [
    {
     "data": {
      "text/html": [
       "<div>\n",
       "<style scoped>\n",
       "    .dataframe tbody tr th:only-of-type {\n",
       "        vertical-align: middle;\n",
       "    }\n",
       "\n",
       "    .dataframe tbody tr th {\n",
       "        vertical-align: top;\n",
       "    }\n",
       "\n",
       "    .dataframe thead th {\n",
       "        text-align: right;\n",
       "    }\n",
       "</style>\n",
       "<table border=\"1\" class=\"dataframe\">\n",
       "  <thead>\n",
       "    <tr style=\"text-align: right;\">\n",
       "      <th></th>\n",
       "      <th>time</th>\n",
       "      <th>transaction_type</th>\n",
       "      <th>amount</th>\n",
       "      <th>oldbalanceOrg</th>\n",
       "      <th>newbalanceOrig</th>\n",
       "      <th>isFraud</th>\n",
       "    </tr>\n",
       "  </thead>\n",
       "  <tbody>\n",
       "    <tr>\n",
       "      <th>0</th>\n",
       "      <td>11</td>\n",
       "      <td>2</td>\n",
       "      <td>23824</td>\n",
       "      <td>0</td>\n",
       "      <td>0</td>\n",
       "      <td>0</td>\n",
       "    </tr>\n",
       "    <tr>\n",
       "      <th>1</th>\n",
       "      <td>9</td>\n",
       "      <td>2</td>\n",
       "      <td>21635</td>\n",
       "      <td>81920</td>\n",
       "      <td>60285</td>\n",
       "      <td>0</td>\n",
       "    </tr>\n",
       "  </tbody>\n",
       "</table>\n",
       "</div>"
      ],
      "text/plain": [
       "   time  transaction_type  amount  oldbalanceOrg  newbalanceOrig  isFraud\n",
       "0    11                 2   23824              0               0        0\n",
       "1     9                 2   21635          81920           60285        0"
      ]
     },
     "execution_count": 31,
     "metadata": {},
     "output_type": "execute_result"
    }
   ],
   "source": [
    "df.head(2)"
   ]
  },
  {
   "cell_type": "code",
   "execution_count": null,
   "id": "f72e7257",
   "metadata": {},
   "outputs": [],
   "source": []
  },
  {
   "cell_type": "markdown",
   "id": "963c41ac",
   "metadata": {},
   "source": [
    "# Model Training"
   ]
  },
  {
   "cell_type": "markdown",
   "id": "3a87e936",
   "metadata": {},
   "source": [
    "#### Train Test Split"
   ]
  },
  {
   "cell_type": "code",
   "execution_count": 32,
   "id": "fa5f63b8",
   "metadata": {},
   "outputs": [],
   "source": [
    "X = df[['time','transaction_type','amount','oldbalanceOrg','newbalanceOrig']]\n",
    "y = df['isFraud']\n",
    "\n",
    "X_train,X_test,y_train,y_test = train_test_split(X,y,test_size=0.3,random_state=42)"
   ]
  },
  {
   "cell_type": "code",
   "execution_count": null,
   "id": "6e95742e",
   "metadata": {},
   "outputs": [],
   "source": []
  },
  {
   "cell_type": "markdown",
   "id": "80adebb8",
   "metadata": {},
   "source": [
    "### Attempt 1:\n"
   ]
  },
  {
   "cell_type": "markdown",
   "id": "052302b4",
   "metadata": {},
   "source": [
    "##### Without handling Class Imbalance"
   ]
  },
  {
   "cell_type": "code",
   "execution_count": 33,
   "id": "0a8a1f58",
   "metadata": {
    "execution": {
     "iopub.execute_input": "2025-01-13T10:41:28.498906Z",
     "iopub.status.busy": "2025-01-13T10:41:28.498547Z",
     "iopub.status.idle": "2025-01-13T10:41:28.504304Z",
     "shell.execute_reply": "2025-01-13T10:41:28.503211Z",
     "shell.execute_reply.started": "2025-01-13T10:41:28.498870Z"
    }
   },
   "outputs": [],
   "source": [
    "# Custom function that takes model, train and test data and returns a classification report.\n",
    "\n",
    "def get_report(model,X_train,y_train,X_test,y_test):\n",
    "    model.fit(X_train,y_train)\n",
    "    y_pred = model.predict(X_test)\n",
    "    report = classification_report(y_test,y_pred) \n",
    "    \n",
    "    print(report)"
   ]
  },
  {
   "cell_type": "code",
   "execution_count": 34,
   "id": "294e6533",
   "metadata": {
    "execution": {
     "iopub.execute_input": "2025-01-13T10:41:28.506062Z",
     "iopub.status.busy": "2025-01-13T10:41:28.505662Z",
     "iopub.status.idle": "2025-01-13T10:42:01.561920Z",
     "shell.execute_reply": "2025-01-13T10:42:01.560687Z",
     "shell.execute_reply.started": "2025-01-13T10:41:28.506024Z"
    }
   },
   "outputs": [],
   "source": [
    "# get_report(LogisticRegression(),X_train,y_train,X_test,y_test)"
   ]
  },
  {
   "cell_type": "code",
   "execution_count": 35,
   "id": "fcb81991",
   "metadata": {
    "execution": {
     "iopub.execute_input": "2025-01-13T10:42:01.563586Z",
     "iopub.status.busy": "2025-01-13T10:42:01.563207Z",
     "iopub.status.idle": "2025-01-13T10:42:28.532497Z",
     "shell.execute_reply": "2025-01-13T10:42:28.531195Z",
     "shell.execute_reply.started": "2025-01-13T10:42:01.563547Z"
    }
   },
   "outputs": [],
   "source": [
    "# get_report(DecisionTreeClassifier(),X_train,y_train,X_test,y_test)"
   ]
  },
  {
   "cell_type": "code",
   "execution_count": 36,
   "id": "48451033",
   "metadata": {
    "execution": {
     "iopub.execute_input": "2025-01-13T10:44:36.504515Z",
     "iopub.status.busy": "2025-01-13T10:44:36.504190Z",
     "iopub.status.idle": "2025-01-13T10:58:52.926568Z",
     "shell.execute_reply": "2025-01-13T10:58:52.925312Z",
     "shell.execute_reply.started": "2025-01-13T10:44:36.504491Z"
    }
   },
   "outputs": [],
   "source": [
    "# get_report(RandomForestClassifier(),X_train,y_train,X_test,y_test)"
   ]
  },
  {
   "cell_type": "markdown",
   "id": "c7827223",
   "metadata": {},
   "source": [
    "### Insights:\n",
    "\n",
    "LogiticRegression Model : recall = 0.53 , precision = 0.98\n",
    "\n",
    "DecsionTreeClassifier Model : recall = 0.96 , precision =0.98\n",
    "\n",
    "RandomForestClassfier Model : recall = 0.96, precision = 0.99"
   ]
  },
  {
   "cell_type": "code",
   "execution_count": null,
   "id": "78ba15f1",
   "metadata": {},
   "outputs": [],
   "source": []
  },
  {
   "cell_type": "markdown",
   "id": "bf71d032",
   "metadata": {},
   "source": [
    "## Model Fine Tuning:\n",
    "\n",
    "1. Finalized Random Forest Classifier Model with hyperparameters:"
   ]
  },
  {
   "cell_type": "code",
   "execution_count": 40,
   "id": "3a405144",
   "metadata": {},
   "outputs": [
    {
     "name": "stdout",
     "output_type": "stream",
     "text": [
      "              precision    recall  f1-score   support\n",
      "\n",
      "           0       1.00      0.99      0.99     14941\n",
      "           1       0.94      0.99      0.97      2523\n",
      "\n",
      "    accuracy                           0.99     17464\n",
      "   macro avg       0.97      0.99      0.98     17464\n",
      "weighted avg       0.99      0.99      0.99     17464\n",
      "\n"
     ]
    }
   ],
   "source": [
    "get_report( RandomForestClassifier(n_estimators=200,\n",
    "    max_depth=10,\n",
    "    min_samples_leaf=5,\n",
    "    min_samples_split=10,\n",
    "    max_features='sqrt',\n",
    "    class_weight={0: 1, 1: 5},  \n",
    "    random_state=42), X_train,y_train,X_test,y_test ) \n"
   ]
  },
  {
   "cell_type": "code",
   "execution_count": 41,
   "id": "762f2281",
   "metadata": {
    "execution": {
     "iopub.execute_input": "2025-01-13T12:04:29.613849Z",
     "iopub.status.busy": "2025-01-13T12:04:29.613482Z",
     "iopub.status.idle": "2025-01-13T12:18:56.054362Z",
     "shell.execute_reply": "2025-01-13T12:18:56.053244Z",
     "shell.execute_reply.started": "2025-01-13T12:04:29.613823Z"
    }
   },
   "outputs": [
    {
     "data": {
      "text/html": [
       "<style>#sk-container-id-1 {\n",
       "  /* Definition of color scheme common for light and dark mode */\n",
       "  --sklearn-color-text: #000;\n",
       "  --sklearn-color-text-muted: #666;\n",
       "  --sklearn-color-line: gray;\n",
       "  /* Definition of color scheme for unfitted estimators */\n",
       "  --sklearn-color-unfitted-level-0: #fff5e6;\n",
       "  --sklearn-color-unfitted-level-1: #f6e4d2;\n",
       "  --sklearn-color-unfitted-level-2: #ffe0b3;\n",
       "  --sklearn-color-unfitted-level-3: chocolate;\n",
       "  /* Definition of color scheme for fitted estimators */\n",
       "  --sklearn-color-fitted-level-0: #f0f8ff;\n",
       "  --sklearn-color-fitted-level-1: #d4ebff;\n",
       "  --sklearn-color-fitted-level-2: #b3dbfd;\n",
       "  --sklearn-color-fitted-level-3: cornflowerblue;\n",
       "\n",
       "  /* Specific color for light theme */\n",
       "  --sklearn-color-text-on-default-background: var(--sg-text-color, var(--theme-code-foreground, var(--jp-content-font-color1, black)));\n",
       "  --sklearn-color-background: var(--sg-background-color, var(--theme-background, var(--jp-layout-color0, white)));\n",
       "  --sklearn-color-border-box: var(--sg-text-color, var(--theme-code-foreground, var(--jp-content-font-color1, black)));\n",
       "  --sklearn-color-icon: #696969;\n",
       "\n",
       "  @media (prefers-color-scheme: dark) {\n",
       "    /* Redefinition of color scheme for dark theme */\n",
       "    --sklearn-color-text-on-default-background: var(--sg-text-color, var(--theme-code-foreground, var(--jp-content-font-color1, white)));\n",
       "    --sklearn-color-background: var(--sg-background-color, var(--theme-background, var(--jp-layout-color0, #111)));\n",
       "    --sklearn-color-border-box: var(--sg-text-color, var(--theme-code-foreground, var(--jp-content-font-color1, white)));\n",
       "    --sklearn-color-icon: #878787;\n",
       "  }\n",
       "}\n",
       "\n",
       "#sk-container-id-1 {\n",
       "  color: var(--sklearn-color-text);\n",
       "}\n",
       "\n",
       "#sk-container-id-1 pre {\n",
       "  padding: 0;\n",
       "}\n",
       "\n",
       "#sk-container-id-1 input.sk-hidden--visually {\n",
       "  border: 0;\n",
       "  clip: rect(1px 1px 1px 1px);\n",
       "  clip: rect(1px, 1px, 1px, 1px);\n",
       "  height: 1px;\n",
       "  margin: -1px;\n",
       "  overflow: hidden;\n",
       "  padding: 0;\n",
       "  position: absolute;\n",
       "  width: 1px;\n",
       "}\n",
       "\n",
       "#sk-container-id-1 div.sk-dashed-wrapped {\n",
       "  border: 1px dashed var(--sklearn-color-line);\n",
       "  margin: 0 0.4em 0.5em 0.4em;\n",
       "  box-sizing: border-box;\n",
       "  padding-bottom: 0.4em;\n",
       "  background-color: var(--sklearn-color-background);\n",
       "}\n",
       "\n",
       "#sk-container-id-1 div.sk-container {\n",
       "  /* jupyter's `normalize.less` sets `[hidden] { display: none; }`\n",
       "     but bootstrap.min.css set `[hidden] { display: none !important; }`\n",
       "     so we also need the `!important` here to be able to override the\n",
       "     default hidden behavior on the sphinx rendered scikit-learn.org.\n",
       "     See: https://github.com/scikit-learn/scikit-learn/issues/21755 */\n",
       "  display: inline-block !important;\n",
       "  position: relative;\n",
       "}\n",
       "\n",
       "#sk-container-id-1 div.sk-text-repr-fallback {\n",
       "  display: none;\n",
       "}\n",
       "\n",
       "div.sk-parallel-item,\n",
       "div.sk-serial,\n",
       "div.sk-item {\n",
       "  /* draw centered vertical line to link estimators */\n",
       "  background-image: linear-gradient(var(--sklearn-color-text-on-default-background), var(--sklearn-color-text-on-default-background));\n",
       "  background-size: 2px 100%;\n",
       "  background-repeat: no-repeat;\n",
       "  background-position: center center;\n",
       "}\n",
       "\n",
       "/* Parallel-specific style estimator block */\n",
       "\n",
       "#sk-container-id-1 div.sk-parallel-item::after {\n",
       "  content: \"\";\n",
       "  width: 100%;\n",
       "  border-bottom: 2px solid var(--sklearn-color-text-on-default-background);\n",
       "  flex-grow: 1;\n",
       "}\n",
       "\n",
       "#sk-container-id-1 div.sk-parallel {\n",
       "  display: flex;\n",
       "  align-items: stretch;\n",
       "  justify-content: center;\n",
       "  background-color: var(--sklearn-color-background);\n",
       "  position: relative;\n",
       "}\n",
       "\n",
       "#sk-container-id-1 div.sk-parallel-item {\n",
       "  display: flex;\n",
       "  flex-direction: column;\n",
       "}\n",
       "\n",
       "#sk-container-id-1 div.sk-parallel-item:first-child::after {\n",
       "  align-self: flex-end;\n",
       "  width: 50%;\n",
       "}\n",
       "\n",
       "#sk-container-id-1 div.sk-parallel-item:last-child::after {\n",
       "  align-self: flex-start;\n",
       "  width: 50%;\n",
       "}\n",
       "\n",
       "#sk-container-id-1 div.sk-parallel-item:only-child::after {\n",
       "  width: 0;\n",
       "}\n",
       "\n",
       "/* Serial-specific style estimator block */\n",
       "\n",
       "#sk-container-id-1 div.sk-serial {\n",
       "  display: flex;\n",
       "  flex-direction: column;\n",
       "  align-items: center;\n",
       "  background-color: var(--sklearn-color-background);\n",
       "  padding-right: 1em;\n",
       "  padding-left: 1em;\n",
       "}\n",
       "\n",
       "\n",
       "/* Toggleable style: style used for estimator/Pipeline/ColumnTransformer box that is\n",
       "clickable and can be expanded/collapsed.\n",
       "- Pipeline and ColumnTransformer use this feature and define the default style\n",
       "- Estimators will overwrite some part of the style using the `sk-estimator` class\n",
       "*/\n",
       "\n",
       "/* Pipeline and ColumnTransformer style (default) */\n",
       "\n",
       "#sk-container-id-1 div.sk-toggleable {\n",
       "  /* Default theme specific background. It is overwritten whether we have a\n",
       "  specific estimator or a Pipeline/ColumnTransformer */\n",
       "  background-color: var(--sklearn-color-background);\n",
       "}\n",
       "\n",
       "/* Toggleable label */\n",
       "#sk-container-id-1 label.sk-toggleable__label {\n",
       "  cursor: pointer;\n",
       "  display: flex;\n",
       "  width: 100%;\n",
       "  margin-bottom: 0;\n",
       "  padding: 0.5em;\n",
       "  box-sizing: border-box;\n",
       "  text-align: center;\n",
       "  align-items: start;\n",
       "  justify-content: space-between;\n",
       "  gap: 0.5em;\n",
       "}\n",
       "\n",
       "#sk-container-id-1 label.sk-toggleable__label .caption {\n",
       "  font-size: 0.6rem;\n",
       "  font-weight: lighter;\n",
       "  color: var(--sklearn-color-text-muted);\n",
       "}\n",
       "\n",
       "#sk-container-id-1 label.sk-toggleable__label-arrow:before {\n",
       "  /* Arrow on the left of the label */\n",
       "  content: \"▸\";\n",
       "  float: left;\n",
       "  margin-right: 0.25em;\n",
       "  color: var(--sklearn-color-icon);\n",
       "}\n",
       "\n",
       "#sk-container-id-1 label.sk-toggleable__label-arrow:hover:before {\n",
       "  color: var(--sklearn-color-text);\n",
       "}\n",
       "\n",
       "/* Toggleable content - dropdown */\n",
       "\n",
       "#sk-container-id-1 div.sk-toggleable__content {\n",
       "  display: none;\n",
       "  text-align: left;\n",
       "  /* unfitted */\n",
       "  background-color: var(--sklearn-color-unfitted-level-0);\n",
       "}\n",
       "\n",
       "#sk-container-id-1 div.sk-toggleable__content.fitted {\n",
       "  /* fitted */\n",
       "  background-color: var(--sklearn-color-fitted-level-0);\n",
       "}\n",
       "\n",
       "#sk-container-id-1 div.sk-toggleable__content pre {\n",
       "  margin: 0.2em;\n",
       "  border-radius: 0.25em;\n",
       "  color: var(--sklearn-color-text);\n",
       "  /* unfitted */\n",
       "  background-color: var(--sklearn-color-unfitted-level-0);\n",
       "}\n",
       "\n",
       "#sk-container-id-1 div.sk-toggleable__content.fitted pre {\n",
       "  /* unfitted */\n",
       "  background-color: var(--sklearn-color-fitted-level-0);\n",
       "}\n",
       "\n",
       "#sk-container-id-1 input.sk-toggleable__control:checked~div.sk-toggleable__content {\n",
       "  /* Expand drop-down */\n",
       "  display: block;\n",
       "  width: 100%;\n",
       "  overflow: visible;\n",
       "}\n",
       "\n",
       "#sk-container-id-1 input.sk-toggleable__control:checked~label.sk-toggleable__label-arrow:before {\n",
       "  content: \"▾\";\n",
       "}\n",
       "\n",
       "/* Pipeline/ColumnTransformer-specific style */\n",
       "\n",
       "#sk-container-id-1 div.sk-label input.sk-toggleable__control:checked~label.sk-toggleable__label {\n",
       "  color: var(--sklearn-color-text);\n",
       "  background-color: var(--sklearn-color-unfitted-level-2);\n",
       "}\n",
       "\n",
       "#sk-container-id-1 div.sk-label.fitted input.sk-toggleable__control:checked~label.sk-toggleable__label {\n",
       "  background-color: var(--sklearn-color-fitted-level-2);\n",
       "}\n",
       "\n",
       "/* Estimator-specific style */\n",
       "\n",
       "/* Colorize estimator box */\n",
       "#sk-container-id-1 div.sk-estimator input.sk-toggleable__control:checked~label.sk-toggleable__label {\n",
       "  /* unfitted */\n",
       "  background-color: var(--sklearn-color-unfitted-level-2);\n",
       "}\n",
       "\n",
       "#sk-container-id-1 div.sk-estimator.fitted input.sk-toggleable__control:checked~label.sk-toggleable__label {\n",
       "  /* fitted */\n",
       "  background-color: var(--sklearn-color-fitted-level-2);\n",
       "}\n",
       "\n",
       "#sk-container-id-1 div.sk-label label.sk-toggleable__label,\n",
       "#sk-container-id-1 div.sk-label label {\n",
       "  /* The background is the default theme color */\n",
       "  color: var(--sklearn-color-text-on-default-background);\n",
       "}\n",
       "\n",
       "/* On hover, darken the color of the background */\n",
       "#sk-container-id-1 div.sk-label:hover label.sk-toggleable__label {\n",
       "  color: var(--sklearn-color-text);\n",
       "  background-color: var(--sklearn-color-unfitted-level-2);\n",
       "}\n",
       "\n",
       "/* Label box, darken color on hover, fitted */\n",
       "#sk-container-id-1 div.sk-label.fitted:hover label.sk-toggleable__label.fitted {\n",
       "  color: var(--sklearn-color-text);\n",
       "  background-color: var(--sklearn-color-fitted-level-2);\n",
       "}\n",
       "\n",
       "/* Estimator label */\n",
       "\n",
       "#sk-container-id-1 div.sk-label label {\n",
       "  font-family: monospace;\n",
       "  font-weight: bold;\n",
       "  display: inline-block;\n",
       "  line-height: 1.2em;\n",
       "}\n",
       "\n",
       "#sk-container-id-1 div.sk-label-container {\n",
       "  text-align: center;\n",
       "}\n",
       "\n",
       "/* Estimator-specific */\n",
       "#sk-container-id-1 div.sk-estimator {\n",
       "  font-family: monospace;\n",
       "  border: 1px dotted var(--sklearn-color-border-box);\n",
       "  border-radius: 0.25em;\n",
       "  box-sizing: border-box;\n",
       "  margin-bottom: 0.5em;\n",
       "  /* unfitted */\n",
       "  background-color: var(--sklearn-color-unfitted-level-0);\n",
       "}\n",
       "\n",
       "#sk-container-id-1 div.sk-estimator.fitted {\n",
       "  /* fitted */\n",
       "  background-color: var(--sklearn-color-fitted-level-0);\n",
       "}\n",
       "\n",
       "/* on hover */\n",
       "#sk-container-id-1 div.sk-estimator:hover {\n",
       "  /* unfitted */\n",
       "  background-color: var(--sklearn-color-unfitted-level-2);\n",
       "}\n",
       "\n",
       "#sk-container-id-1 div.sk-estimator.fitted:hover {\n",
       "  /* fitted */\n",
       "  background-color: var(--sklearn-color-fitted-level-2);\n",
       "}\n",
       "\n",
       "/* Specification for estimator info (e.g. \"i\" and \"?\") */\n",
       "\n",
       "/* Common style for \"i\" and \"?\" */\n",
       "\n",
       ".sk-estimator-doc-link,\n",
       "a:link.sk-estimator-doc-link,\n",
       "a:visited.sk-estimator-doc-link {\n",
       "  float: right;\n",
       "  font-size: smaller;\n",
       "  line-height: 1em;\n",
       "  font-family: monospace;\n",
       "  background-color: var(--sklearn-color-background);\n",
       "  border-radius: 1em;\n",
       "  height: 1em;\n",
       "  width: 1em;\n",
       "  text-decoration: none !important;\n",
       "  margin-left: 0.5em;\n",
       "  text-align: center;\n",
       "  /* unfitted */\n",
       "  border: var(--sklearn-color-unfitted-level-1) 1pt solid;\n",
       "  color: var(--sklearn-color-unfitted-level-1);\n",
       "}\n",
       "\n",
       ".sk-estimator-doc-link.fitted,\n",
       "a:link.sk-estimator-doc-link.fitted,\n",
       "a:visited.sk-estimator-doc-link.fitted {\n",
       "  /* fitted */\n",
       "  border: var(--sklearn-color-fitted-level-1) 1pt solid;\n",
       "  color: var(--sklearn-color-fitted-level-1);\n",
       "}\n",
       "\n",
       "/* On hover */\n",
       "div.sk-estimator:hover .sk-estimator-doc-link:hover,\n",
       ".sk-estimator-doc-link:hover,\n",
       "div.sk-label-container:hover .sk-estimator-doc-link:hover,\n",
       ".sk-estimator-doc-link:hover {\n",
       "  /* unfitted */\n",
       "  background-color: var(--sklearn-color-unfitted-level-3);\n",
       "  color: var(--sklearn-color-background);\n",
       "  text-decoration: none;\n",
       "}\n",
       "\n",
       "div.sk-estimator.fitted:hover .sk-estimator-doc-link.fitted:hover,\n",
       ".sk-estimator-doc-link.fitted:hover,\n",
       "div.sk-label-container:hover .sk-estimator-doc-link.fitted:hover,\n",
       ".sk-estimator-doc-link.fitted:hover {\n",
       "  /* fitted */\n",
       "  background-color: var(--sklearn-color-fitted-level-3);\n",
       "  color: var(--sklearn-color-background);\n",
       "  text-decoration: none;\n",
       "}\n",
       "\n",
       "/* Span, style for the box shown on hovering the info icon */\n",
       ".sk-estimator-doc-link span {\n",
       "  display: none;\n",
       "  z-index: 9999;\n",
       "  position: relative;\n",
       "  font-weight: normal;\n",
       "  right: .2ex;\n",
       "  padding: .5ex;\n",
       "  margin: .5ex;\n",
       "  width: min-content;\n",
       "  min-width: 20ex;\n",
       "  max-width: 50ex;\n",
       "  color: var(--sklearn-color-text);\n",
       "  box-shadow: 2pt 2pt 4pt #999;\n",
       "  /* unfitted */\n",
       "  background: var(--sklearn-color-unfitted-level-0);\n",
       "  border: .5pt solid var(--sklearn-color-unfitted-level-3);\n",
       "}\n",
       "\n",
       ".sk-estimator-doc-link.fitted span {\n",
       "  /* fitted */\n",
       "  background: var(--sklearn-color-fitted-level-0);\n",
       "  border: var(--sklearn-color-fitted-level-3);\n",
       "}\n",
       "\n",
       ".sk-estimator-doc-link:hover span {\n",
       "  display: block;\n",
       "}\n",
       "\n",
       "/* \"?\"-specific style due to the `<a>` HTML tag */\n",
       "\n",
       "#sk-container-id-1 a.estimator_doc_link {\n",
       "  float: right;\n",
       "  font-size: 1rem;\n",
       "  line-height: 1em;\n",
       "  font-family: monospace;\n",
       "  background-color: var(--sklearn-color-background);\n",
       "  border-radius: 1rem;\n",
       "  height: 1rem;\n",
       "  width: 1rem;\n",
       "  text-decoration: none;\n",
       "  /* unfitted */\n",
       "  color: var(--sklearn-color-unfitted-level-1);\n",
       "  border: var(--sklearn-color-unfitted-level-1) 1pt solid;\n",
       "}\n",
       "\n",
       "#sk-container-id-1 a.estimator_doc_link.fitted {\n",
       "  /* fitted */\n",
       "  border: var(--sklearn-color-fitted-level-1) 1pt solid;\n",
       "  color: var(--sklearn-color-fitted-level-1);\n",
       "}\n",
       "\n",
       "/* On hover */\n",
       "#sk-container-id-1 a.estimator_doc_link:hover {\n",
       "  /* unfitted */\n",
       "  background-color: var(--sklearn-color-unfitted-level-3);\n",
       "  color: var(--sklearn-color-background);\n",
       "  text-decoration: none;\n",
       "}\n",
       "\n",
       "#sk-container-id-1 a.estimator_doc_link.fitted:hover {\n",
       "  /* fitted */\n",
       "  background-color: var(--sklearn-color-fitted-level-3);\n",
       "}\n",
       "\n",
       ".estimator-table summary {\n",
       "    padding: .5rem;\n",
       "    font-family: monospace;\n",
       "    cursor: pointer;\n",
       "}\n",
       "\n",
       ".estimator-table details[open] {\n",
       "    padding-left: 0.1rem;\n",
       "    padding-right: 0.1rem;\n",
       "    padding-bottom: 0.3rem;\n",
       "}\n",
       "\n",
       ".estimator-table .parameters-table {\n",
       "    margin-left: auto !important;\n",
       "    margin-right: auto !important;\n",
       "}\n",
       "\n",
       ".estimator-table .parameters-table tr:nth-child(odd) {\n",
       "    background-color: #fff;\n",
       "}\n",
       "\n",
       ".estimator-table .parameters-table tr:nth-child(even) {\n",
       "    background-color: #f6f6f6;\n",
       "}\n",
       "\n",
       ".estimator-table .parameters-table tr:hover {\n",
       "    background-color: #e0e0e0;\n",
       "}\n",
       "\n",
       ".estimator-table table td {\n",
       "    border: 1px solid rgba(106, 105, 104, 0.232);\n",
       "}\n",
       "\n",
       ".user-set td {\n",
       "    color:rgb(255, 94, 0);\n",
       "    text-align: left;\n",
       "}\n",
       "\n",
       ".user-set td.value pre {\n",
       "    color:rgb(255, 94, 0) !important;\n",
       "    background-color: transparent !important;\n",
       "}\n",
       "\n",
       ".default td {\n",
       "    color: black;\n",
       "    text-align: left;\n",
       "}\n",
       "\n",
       ".user-set td i,\n",
       ".default td i {\n",
       "    color: black;\n",
       "}\n",
       "\n",
       ".copy-paste-icon {\n",
       "    background-image: url(data:image/svg+xml;base64,PHN2ZyB4bWxucz0iaHR0cDovL3d3dy53My5vcmcvMjAwMC9zdmciIHZpZXdCb3g9IjAgMCA0NDggNTEyIj48IS0tIUZvbnQgQXdlc29tZSBGcmVlIDYuNy4yIGJ5IEBmb250YXdlc29tZSAtIGh0dHBzOi8vZm9udGF3ZXNvbWUuY29tIExpY2Vuc2UgLSBodHRwczovL2ZvbnRhd2Vzb21lLmNvbS9saWNlbnNlL2ZyZWUgQ29weXJpZ2h0IDIwMjUgRm9udGljb25zLCBJbmMuLS0+PHBhdGggZD0iTTIwOCAwTDMzMi4xIDBjMTIuNyAwIDI0LjkgNS4xIDMzLjkgMTQuMWw2Ny45IDY3LjljOSA5IDE0LjEgMjEuMiAxNC4xIDMzLjlMNDQ4IDMzNmMwIDI2LjUtMjEuNSA0OC00OCA0OGwtMTkyIDBjLTI2LjUgMC00OC0yMS41LTQ4LTQ4bDAtMjg4YzAtMjYuNSAyMS41LTQ4IDQ4LTQ4ek00OCAxMjhsODAgMCAwIDY0LTY0IDAgMCAyNTYgMTkyIDAgMC0zMiA2NCAwIDAgNDhjMCAyNi41LTIxLjUgNDgtNDggNDhMNDggNTEyYy0yNi41IDAtNDgtMjEuNS00OC00OEwwIDE3NmMwLTI2LjUgMjEuNS00OCA0OC00OHoiLz48L3N2Zz4=);\n",
       "    background-repeat: no-repeat;\n",
       "    background-size: 14px 14px;\n",
       "    background-position: 0;\n",
       "    display: inline-block;\n",
       "    width: 14px;\n",
       "    height: 14px;\n",
       "    cursor: pointer;\n",
       "}\n",
       "</style><body><div id=\"sk-container-id-1\" class=\"sk-top-container\"><div class=\"sk-text-repr-fallback\"><pre>RandomForestClassifier(class_weight={0: 1, 1: 5}, max_depth=10,\n",
       "                       min_samples_leaf=5, min_samples_split=10,\n",
       "                       n_estimators=200, random_state=42)</pre><b>In a Jupyter environment, please rerun this cell to show the HTML representation or trust the notebook. <br />On GitHub, the HTML representation is unable to render, please try loading this page with nbviewer.org.</b></div><div class=\"sk-container\" hidden><div class=\"sk-item\"><div class=\"sk-estimator fitted sk-toggleable\"><input class=\"sk-toggleable__control sk-hidden--visually\" id=\"sk-estimator-id-1\" type=\"checkbox\" checked><label for=\"sk-estimator-id-1\" class=\"sk-toggleable__label fitted sk-toggleable__label-arrow\"><div><div>RandomForestClassifier</div></div><div><a class=\"sk-estimator-doc-link fitted\" rel=\"noreferrer\" target=\"_blank\" href=\"https://scikit-learn.org/1.7/modules/generated/sklearn.ensemble.RandomForestClassifier.html\">?<span>Documentation for RandomForestClassifier</span></a><span class=\"sk-estimator-doc-link fitted\">i<span>Fitted</span></span></div></label><div class=\"sk-toggleable__content fitted\" data-param-prefix=\"\">\n",
       "        <div class=\"estimator-table\">\n",
       "            <details>\n",
       "                <summary>Parameters</summary>\n",
       "                <table class=\"parameters-table\">\n",
       "                  <tbody>\n",
       "                    \n",
       "        <tr class=\"user-set\">\n",
       "            <td><i class=\"copy-paste-icon\"\n",
       "                 onclick=\"copyToClipboard('n_estimators',\n",
       "                          this.parentElement.nextElementSibling)\"\n",
       "            ></i></td>\n",
       "            <td class=\"param\">n_estimators&nbsp;</td>\n",
       "            <td class=\"value\">200</td>\n",
       "        </tr>\n",
       "    \n",
       "\n",
       "        <tr class=\"default\">\n",
       "            <td><i class=\"copy-paste-icon\"\n",
       "                 onclick=\"copyToClipboard('criterion',\n",
       "                          this.parentElement.nextElementSibling)\"\n",
       "            ></i></td>\n",
       "            <td class=\"param\">criterion&nbsp;</td>\n",
       "            <td class=\"value\">&#x27;gini&#x27;</td>\n",
       "        </tr>\n",
       "    \n",
       "\n",
       "        <tr class=\"user-set\">\n",
       "            <td><i class=\"copy-paste-icon\"\n",
       "                 onclick=\"copyToClipboard('max_depth',\n",
       "                          this.parentElement.nextElementSibling)\"\n",
       "            ></i></td>\n",
       "            <td class=\"param\">max_depth&nbsp;</td>\n",
       "            <td class=\"value\">10</td>\n",
       "        </tr>\n",
       "    \n",
       "\n",
       "        <tr class=\"user-set\">\n",
       "            <td><i class=\"copy-paste-icon\"\n",
       "                 onclick=\"copyToClipboard('min_samples_split',\n",
       "                          this.parentElement.nextElementSibling)\"\n",
       "            ></i></td>\n",
       "            <td class=\"param\">min_samples_split&nbsp;</td>\n",
       "            <td class=\"value\">10</td>\n",
       "        </tr>\n",
       "    \n",
       "\n",
       "        <tr class=\"user-set\">\n",
       "            <td><i class=\"copy-paste-icon\"\n",
       "                 onclick=\"copyToClipboard('min_samples_leaf',\n",
       "                          this.parentElement.nextElementSibling)\"\n",
       "            ></i></td>\n",
       "            <td class=\"param\">min_samples_leaf&nbsp;</td>\n",
       "            <td class=\"value\">5</td>\n",
       "        </tr>\n",
       "    \n",
       "\n",
       "        <tr class=\"default\">\n",
       "            <td><i class=\"copy-paste-icon\"\n",
       "                 onclick=\"copyToClipboard('min_weight_fraction_leaf',\n",
       "                          this.parentElement.nextElementSibling)\"\n",
       "            ></i></td>\n",
       "            <td class=\"param\">min_weight_fraction_leaf&nbsp;</td>\n",
       "            <td class=\"value\">0.0</td>\n",
       "        </tr>\n",
       "    \n",
       "\n",
       "        <tr class=\"default\">\n",
       "            <td><i class=\"copy-paste-icon\"\n",
       "                 onclick=\"copyToClipboard('max_features',\n",
       "                          this.parentElement.nextElementSibling)\"\n",
       "            ></i></td>\n",
       "            <td class=\"param\">max_features&nbsp;</td>\n",
       "            <td class=\"value\">&#x27;sqrt&#x27;</td>\n",
       "        </tr>\n",
       "    \n",
       "\n",
       "        <tr class=\"default\">\n",
       "            <td><i class=\"copy-paste-icon\"\n",
       "                 onclick=\"copyToClipboard('max_leaf_nodes',\n",
       "                          this.parentElement.nextElementSibling)\"\n",
       "            ></i></td>\n",
       "            <td class=\"param\">max_leaf_nodes&nbsp;</td>\n",
       "            <td class=\"value\">None</td>\n",
       "        </tr>\n",
       "    \n",
       "\n",
       "        <tr class=\"default\">\n",
       "            <td><i class=\"copy-paste-icon\"\n",
       "                 onclick=\"copyToClipboard('min_impurity_decrease',\n",
       "                          this.parentElement.nextElementSibling)\"\n",
       "            ></i></td>\n",
       "            <td class=\"param\">min_impurity_decrease&nbsp;</td>\n",
       "            <td class=\"value\">0.0</td>\n",
       "        </tr>\n",
       "    \n",
       "\n",
       "        <tr class=\"default\">\n",
       "            <td><i class=\"copy-paste-icon\"\n",
       "                 onclick=\"copyToClipboard('bootstrap',\n",
       "                          this.parentElement.nextElementSibling)\"\n",
       "            ></i></td>\n",
       "            <td class=\"param\">bootstrap&nbsp;</td>\n",
       "            <td class=\"value\">True</td>\n",
       "        </tr>\n",
       "    \n",
       "\n",
       "        <tr class=\"default\">\n",
       "            <td><i class=\"copy-paste-icon\"\n",
       "                 onclick=\"copyToClipboard('oob_score',\n",
       "                          this.parentElement.nextElementSibling)\"\n",
       "            ></i></td>\n",
       "            <td class=\"param\">oob_score&nbsp;</td>\n",
       "            <td class=\"value\">False</td>\n",
       "        </tr>\n",
       "    \n",
       "\n",
       "        <tr class=\"default\">\n",
       "            <td><i class=\"copy-paste-icon\"\n",
       "                 onclick=\"copyToClipboard('n_jobs',\n",
       "                          this.parentElement.nextElementSibling)\"\n",
       "            ></i></td>\n",
       "            <td class=\"param\">n_jobs&nbsp;</td>\n",
       "            <td class=\"value\">None</td>\n",
       "        </tr>\n",
       "    \n",
       "\n",
       "        <tr class=\"user-set\">\n",
       "            <td><i class=\"copy-paste-icon\"\n",
       "                 onclick=\"copyToClipboard('random_state',\n",
       "                          this.parentElement.nextElementSibling)\"\n",
       "            ></i></td>\n",
       "            <td class=\"param\">random_state&nbsp;</td>\n",
       "            <td class=\"value\">42</td>\n",
       "        </tr>\n",
       "    \n",
       "\n",
       "        <tr class=\"default\">\n",
       "            <td><i class=\"copy-paste-icon\"\n",
       "                 onclick=\"copyToClipboard('verbose',\n",
       "                          this.parentElement.nextElementSibling)\"\n",
       "            ></i></td>\n",
       "            <td class=\"param\">verbose&nbsp;</td>\n",
       "            <td class=\"value\">0</td>\n",
       "        </tr>\n",
       "    \n",
       "\n",
       "        <tr class=\"default\">\n",
       "            <td><i class=\"copy-paste-icon\"\n",
       "                 onclick=\"copyToClipboard('warm_start',\n",
       "                          this.parentElement.nextElementSibling)\"\n",
       "            ></i></td>\n",
       "            <td class=\"param\">warm_start&nbsp;</td>\n",
       "            <td class=\"value\">False</td>\n",
       "        </tr>\n",
       "    \n",
       "\n",
       "        <tr class=\"user-set\">\n",
       "            <td><i class=\"copy-paste-icon\"\n",
       "                 onclick=\"copyToClipboard('class_weight',\n",
       "                          this.parentElement.nextElementSibling)\"\n",
       "            ></i></td>\n",
       "            <td class=\"param\">class_weight&nbsp;</td>\n",
       "            <td class=\"value\">{0: 1, 1: 5}</td>\n",
       "        </tr>\n",
       "    \n",
       "\n",
       "        <tr class=\"default\">\n",
       "            <td><i class=\"copy-paste-icon\"\n",
       "                 onclick=\"copyToClipboard('ccp_alpha',\n",
       "                          this.parentElement.nextElementSibling)\"\n",
       "            ></i></td>\n",
       "            <td class=\"param\">ccp_alpha&nbsp;</td>\n",
       "            <td class=\"value\">0.0</td>\n",
       "        </tr>\n",
       "    \n",
       "\n",
       "        <tr class=\"default\">\n",
       "            <td><i class=\"copy-paste-icon\"\n",
       "                 onclick=\"copyToClipboard('max_samples',\n",
       "                          this.parentElement.nextElementSibling)\"\n",
       "            ></i></td>\n",
       "            <td class=\"param\">max_samples&nbsp;</td>\n",
       "            <td class=\"value\">None</td>\n",
       "        </tr>\n",
       "    \n",
       "\n",
       "        <tr class=\"default\">\n",
       "            <td><i class=\"copy-paste-icon\"\n",
       "                 onclick=\"copyToClipboard('monotonic_cst',\n",
       "                          this.parentElement.nextElementSibling)\"\n",
       "            ></i></td>\n",
       "            <td class=\"param\">monotonic_cst&nbsp;</td>\n",
       "            <td class=\"value\">None</td>\n",
       "        </tr>\n",
       "    \n",
       "                  </tbody>\n",
       "                </table>\n",
       "            </details>\n",
       "        </div>\n",
       "    </div></div></div></div></div><script>function copyToClipboard(text, element) {\n",
       "    // Get the parameter prefix from the closest toggleable content\n",
       "    const toggleableContent = element.closest('.sk-toggleable__content');\n",
       "    const paramPrefix = toggleableContent ? toggleableContent.dataset.paramPrefix : '';\n",
       "    const fullParamName = paramPrefix ? `${paramPrefix}${text}` : text;\n",
       "\n",
       "    const originalStyle = element.style;\n",
       "    const computedStyle = window.getComputedStyle(element);\n",
       "    const originalWidth = computedStyle.width;\n",
       "    const originalHTML = element.innerHTML.replace('Copied!', '');\n",
       "\n",
       "    navigator.clipboard.writeText(fullParamName)\n",
       "        .then(() => {\n",
       "            element.style.width = originalWidth;\n",
       "            element.style.color = 'green';\n",
       "            element.innerHTML = \"Copied!\";\n",
       "\n",
       "            setTimeout(() => {\n",
       "                element.innerHTML = originalHTML;\n",
       "                element.style = originalStyle;\n",
       "            }, 2000);\n",
       "        })\n",
       "        .catch(err => {\n",
       "            console.error('Failed to copy:', err);\n",
       "            element.style.color = 'red';\n",
       "            element.innerHTML = \"Failed!\";\n",
       "            setTimeout(() => {\n",
       "                element.innerHTML = originalHTML;\n",
       "                element.style = originalStyle;\n",
       "            }, 2000);\n",
       "        });\n",
       "    return false;\n",
       "}\n",
       "\n",
       "document.querySelectorAll('.fa-regular.fa-copy').forEach(function(element) {\n",
       "    const toggleableContent = element.closest('.sk-toggleable__content');\n",
       "    const paramPrefix = toggleableContent ? toggleableContent.dataset.paramPrefix : '';\n",
       "    const paramName = element.parentElement.nextElementSibling.textContent.trim();\n",
       "    const fullParamName = paramPrefix ? `${paramPrefix}${paramName}` : paramName;\n",
       "\n",
       "    element.setAttribute('title', fullParamName);\n",
       "});\n",
       "</script></body>"
      ],
      "text/plain": [
       "RandomForestClassifier(class_weight={0: 1, 1: 5}, max_depth=10,\n",
       "                       min_samples_leaf=5, min_samples_split=10,\n",
       "                       n_estimators=200, random_state=42)"
      ]
     },
     "execution_count": 41,
     "metadata": {},
     "output_type": "execute_result"
    }
   ],
   "source": [
    "best_model = RandomForestClassifier(n_estimators=200,\n",
    "    max_depth=10,\n",
    "    min_samples_leaf=5,\n",
    "    min_samples_split=10,\n",
    "    max_features='sqrt',\n",
    "    class_weight={0: 1, 1: 5},  \n",
    "    random_state=42)\n",
    "\n",
    "best_model.fit(X_train,y_train)"
   ]
  },
  {
   "cell_type": "code",
   "execution_count": 42,
   "id": "6085e076",
   "metadata": {
    "execution": {
     "iopub.execute_input": "2025-01-13T12:24:11.372307Z",
     "iopub.status.busy": "2025-01-13T12:24:11.371919Z",
     "iopub.status.idle": "2025-01-13T12:24:29.501362Z",
     "shell.execute_reply": "2025-01-13T12:24:29.500167Z",
     "shell.execute_reply.started": "2025-01-13T12:24:11.372275Z"
    }
   },
   "outputs": [
    {
     "name": "stdout",
     "output_type": "stream",
     "text": [
      "              precision    recall  f1-score   support\n",
      "\n",
      "           0       1.00      0.99      0.99     14941\n",
      "           1       0.94      0.99      0.97      2523\n",
      "\n",
      "    accuracy                           0.99     17464\n",
      "   macro avg       0.97      0.99      0.98     17464\n",
      "weighted avg       0.99      0.99      0.99     17464\n",
      "\n"
     ]
    }
   ],
   "source": [
    "y_pred = best_model.predict(X_test)\n",
    "print(classification_report(y_test,y_pred))"
   ]
  },
  {
   "cell_type": "markdown",
   "id": "c9e46460",
   "metadata": {},
   "source": [
    "### --- Our Best model is RandomForestClassifier with recall 99% and precision 94% --- "
   ]
  },
  {
   "cell_type": "code",
   "execution_count": null,
   "id": "619dc6f2",
   "metadata": {},
   "outputs": [],
   "source": []
  },
  {
   "cell_type": "markdown",
   "id": "0ee3d18d",
   "metadata": {},
   "source": [
    "## Model Evaluation Roc,Auc Curve:"
   ]
  },
  {
   "cell_type": "code",
   "execution_count": 43,
   "id": "64d2f392",
   "metadata": {
    "execution": {
     "iopub.execute_input": "2025-01-13T12:25:08.892334Z",
     "iopub.status.busy": "2025-01-13T12:25:08.891895Z",
     "iopub.status.idle": "2025-01-13T12:25:09.014140Z",
     "shell.execute_reply": "2025-01-13T12:25:09.012815Z",
     "shell.execute_reply.started": "2025-01-13T12:25:08.892304Z"
    }
   },
   "outputs": [
    {
     "data": {
      "text/plain": [
       "(array([0.        , 0.01017335, 1.        ]),\n",
       " array([0.       , 0.9940547, 1.       ]),\n",
       " array([inf,  1.,  0.]))"
      ]
     },
     "execution_count": 43,
     "metadata": {},
     "output_type": "execute_result"
    }
   ],
   "source": [
    "fpr, tpr, thresholds = roc_curve(y_test,y_pred)\n",
    "fpr[:5], tpr [:5],thresholds[:5]"
   ]
  },
  {
   "cell_type": "code",
   "execution_count": 44,
   "id": "4d07d770",
   "metadata": {
    "execution": {
     "iopub.execute_input": "2025-01-13T12:25:11.501996Z",
     "iopub.status.busy": "2025-01-13T12:25:11.501589Z",
     "iopub.status.idle": "2025-01-13T12:25:11.508746Z",
     "shell.execute_reply": "2025-01-13T12:25:11.507591Z",
     "shell.execute_reply.started": "2025-01-13T12:25:11.501968Z"
    }
   },
   "outputs": [
    {
     "name": "stdout",
     "output_type": "stream",
     "text": [
      "Area Under the Curve = 0.99\n"
     ]
    }
   ],
   "source": [
    "auc_score = auc(fpr,tpr)\n",
    "print(f\"Area Under the Curve = {round(auc_score,2)}\")"
   ]
  },
  {
   "cell_type": "code",
   "execution_count": 45,
   "id": "2629b5bb",
   "metadata": {
    "execution": {
     "iopub.execute_input": "2025-01-13T12:25:14.767981Z",
     "iopub.status.busy": "2025-01-13T12:25:14.767600Z",
     "iopub.status.idle": "2025-01-13T12:25:15.049008Z",
     "shell.execute_reply": "2025-01-13T12:25:15.047618Z",
     "shell.execute_reply.started": "2025-01-13T12:25:14.767951Z"
    }
   },
   "outputs": [
    {
     "data": {
      "image/png": "[encoded data removed]",
      "text/plain": [
       "<Figure size 800x600 with 1 Axes>"
      ]
     },
     "metadata": {},
     "output_type": "display_data"
    }
   ],
   "source": [
    "# Plot the ROC curve\n",
    "plt.figure(figsize=(8, 6))\n",
    "plt.plot(fpr, tpr, label=f\"AUC = {auc_score:.2f}\", color='darkorange', lw=2)\n",
    "plt.plot([0, 1], [0, 1], color='navy', linestyle='--', label='Random Guess')\n",
    "plt.xlabel(\"False Positive Rate (FPR)\")\n",
    "plt.ylabel(\"True Positive Rate (TPR)\")\n",
    "plt.title(\"ROC Curve\")\n",
    "plt.legend(loc=\"lower right\")\n",
    "plt.grid()\n",
    "plt.show()"
   ]
  },
  {
   "cell_type": "code",
   "execution_count": null,
   "id": "8f768b46",
   "metadata": {},
   "outputs": [],
   "source": []
  },
  {
   "cell_type": "markdown",
   "id": "305fe582",
   "metadata": {},
   "source": [
    "#### Manual Inputs for checking the working of the model:"
   ]
  },
  {
   "cell_type": "code",
   "execution_count": 46,
   "id": "f55ce29c",
   "metadata": {
    "execution": {
     "iopub.execute_input": "2025-01-13T12:25:18.118323Z",
     "iopub.status.busy": "2025-01-13T12:25:18.117925Z",
     "iopub.status.idle": "2025-01-13T12:25:18.132500Z",
     "shell.execute_reply": "2025-01-13T12:25:18.130919Z",
     "shell.execute_reply.started": "2025-01-13T12:25:18.118293Z"
    }
   },
   "outputs": [
    {
     "data": {
      "text/html": [
       "<div>\n",
       "<style scoped>\n",
       "    .dataframe tbody tr th:only-of-type {\n",
       "        vertical-align: middle;\n",
       "    }\n",
       "\n",
       "    .dataframe tbody tr th {\n",
       "        vertical-align: top;\n",
       "    }\n",
       "\n",
       "    .dataframe thead th {\n",
       "        text-align: right;\n",
       "    }\n",
       "</style>\n",
       "<table border=\"1\" class=\"dataframe\">\n",
       "  <thead>\n",
       "    <tr style=\"text-align: right;\">\n",
       "      <th></th>\n",
       "      <th>time</th>\n",
       "      <th>transaction_type</th>\n",
       "      <th>amount</th>\n",
       "      <th>oldbalanceOrg</th>\n",
       "      <th>newbalanceOrig</th>\n",
       "      <th>isFraud</th>\n",
       "    </tr>\n",
       "  </thead>\n",
       "  <tbody>\n",
       "    <tr>\n",
       "      <th>50028</th>\n",
       "      <td>4</td>\n",
       "      <td>4</td>\n",
       "      <td>10000000</td>\n",
       "      <td>12930418</td>\n",
       "      <td>2930418</td>\n",
       "      <td>1</td>\n",
       "    </tr>\n",
       "    <tr>\n",
       "      <th>50104</th>\n",
       "      <td>9</td>\n",
       "      <td>4</td>\n",
       "      <td>994453</td>\n",
       "      <td>1437370</td>\n",
       "      <td>442917</td>\n",
       "      <td>1</td>\n",
       "    </tr>\n",
       "    <tr>\n",
       "      <th>50203</th>\n",
       "      <td>17</td>\n",
       "      <td>1</td>\n",
       "      <td>42062</td>\n",
       "      <td>340830</td>\n",
       "      <td>298767</td>\n",
       "      <td>1</td>\n",
       "    </tr>\n",
       "    <tr>\n",
       "      <th>50227</th>\n",
       "      <td>19</td>\n",
       "      <td>4</td>\n",
       "      <td>10000000</td>\n",
       "      <td>11861008</td>\n",
       "      <td>1861008</td>\n",
       "      <td>1</td>\n",
       "    </tr>\n",
       "    <tr>\n",
       "      <th>50353</th>\n",
       "      <td>9</td>\n",
       "      <td>4</td>\n",
       "      <td>10000000</td>\n",
       "      <td>19887819</td>\n",
       "      <td>9887819</td>\n",
       "      <td>1</td>\n",
       "    </tr>\n",
       "  </tbody>\n",
       "</table>\n",
       "</div>"
      ],
      "text/plain": [
       "       time  transaction_type    amount  oldbalanceOrg  newbalanceOrig  \\\n",
       "50028     4                 4  10000000       12930418         2930418   \n",
       "50104     9                 4    994453        1437370          442917   \n",
       "50203    17                 1     42062         340830          298767   \n",
       "50227    19                 4  10000000       11861008         1861008   \n",
       "50353     9                 4  10000000       19887819         9887819   \n",
       "\n",
       "       isFraud  \n",
       "50028        1  \n",
       "50104        1  \n",
       "50203        1  \n",
       "50227        1  \n",
       "50353        1  "
      ]
     },
     "execution_count": 46,
     "metadata": {},
     "output_type": "execute_result"
    }
   ],
   "source": [
    "df.query('isFraud ==1 and newbalanceOrig != 0').head(5)"
   ]
  },
  {
   "cell_type": "code",
   "execution_count": 47,
   "id": "8d8e2db1",
   "metadata": {
    "execution": {
     "iopub.execute_input": "2025-01-13T12:29:28.608599Z",
     "iopub.status.busy": "2025-01-13T12:29:28.608271Z",
     "iopub.status.idle": "2025-01-13T12:29:28.626379Z",
     "shell.execute_reply": "2025-01-13T12:29:28.625285Z",
     "shell.execute_reply.started": "2025-01-13T12:29:28.608574Z"
    }
   },
   "outputs": [
    {
     "name": "stdout",
     "output_type": "stream",
     "text": [
      "[1] 0.9933542409624398\n",
      "Fraud\n"
     ]
    }
   ],
   "source": [
    "value = best_model.predict([[4,4,10000000,12930418,2930418]])\n",
    "probability = best_model.predict_proba([[4,4,10000000,12930418,2930418]])\n",
    "print(value,probability[0][1])\n",
    "if value == 0:\n",
    "    print(\"Not a Fraud\")\n",
    "else:\n",
    "    print(\"Fraud\")    "
   ]
  },
  {
   "cell_type": "markdown",
   "id": "323dbb74",
   "metadata": {},
   "source": [
    "#### Dumping the Model and its Artifcats:"
   ]
  },
  {
   "cell_type": "code",
   "execution_count": 48,
   "id": "3c70c9b4",
   "metadata": {
    "execution": {
     "iopub.execute_input": "2025-01-13T12:36:48.102295Z",
     "iopub.status.busy": "2025-01-13T12:36:48.101858Z",
     "iopub.status.idle": "2025-01-13T12:36:48.200736Z",
     "shell.execute_reply": "2025-01-13T12:36:48.199457Z",
     "shell.execute_reply.started": "2025-01-13T12:36:48.102264Z"
    }
   },
   "outputs": [
    {
     "data": {
      "text/plain": [
       "['fraud_detection_model.pkl']"
      ]
     },
     "execution_count": 48,
     "metadata": {},
     "output_type": "execute_result"
    }
   ],
   "source": [
    "import joblib\n",
    "\n",
    "model_data = {\n",
    "    'model':best_model,\n",
    "    'features':X_train.columns,\n",
    "    'label_mapping': {0: 'Not Fraud', 1: 'Fraud'} \n",
    "}\n",
    "\n",
    "joblib.dump(model_data,'fraud_detection_model.pkl')"
   ]
  },
  {
   "cell_type": "code",
   "execution_count": null,
   "id": "0981c3ae",
   "metadata": {},
   "outputs": [],
   "source": []
  }
 ],
 "metadata": {
  "kaggle": {
   "accelerator": "none",
   "dataSources": [
    {
     "datasetId": 6474748,
     "sourceId": 10458829,
     "sourceType": "datasetVersion"
    }
   ],
   "dockerImageVersionId": 30822,
   "isGpuEnabled": false,
   "isInternetEnabled": false,
   "language": "python",
   "sourceType": "notebook"
  },
  "kernelspec": {
   "display_name": "base",
   "language": "python",
   "name": "python3"
  },
  "language_info": {
   "codemirror_mode": {
    "name": "ipython",
    "version": 3
   },
   "file_extension": ".py",
   "mimetype": "text/x-python",
   "name": "python",
   "nbconvert_exporter": "python",
   "pygments_lexer": "ipython3",
   "version": "3.11.5"
  }
 },
 "nbformat": 4,
 "nbformat_minor": 5
}
