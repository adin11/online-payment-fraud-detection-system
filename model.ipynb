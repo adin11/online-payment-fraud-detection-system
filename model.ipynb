{
 "cells": [
  {
   "cell_type": "markdown",
   "id": "91ed075f",
   "metadata": {},
   "source": [
    " <h1 align=\"center\"> Online Payment Fraud Detection System:</h1>"
   ]
  },
  {
   "cell_type": "markdown",
   "id": "88bc6048",
   "metadata": {},
   "source": [
    "<h2 align=\"center\"> A Data-Driven Machine Learning Project </h2>"
   ]
  },
  {
   "cell_type": "markdown",
   "id": "8c63e1c4",
   "metadata": {},
   "source": [
    "### Introduction:\n",
    "This project is a machine learning classification model to detect fraudulent transactions in online payments. The dataset used is highly imbalanced, with far more non-fraudulent transactions than fraudulent ones. The project explores multiple algorithms and techniques to address the imbalance and improve the detection of fraud."
   ]
  },
  {
   "cell_type": "code",
   "execution_count": 98,
   "id": "31811379",
   "metadata": {
    "execution": {
     "iopub.execute_input": "2025-01-13T10:44:28.579619Z",
     "iopub.status.busy": "2025-01-13T10:44:28.579269Z",
     "iopub.status.idle": "2025-01-13T10:44:28.729822Z",
     "shell.execute_reply": "2025-01-13T10:44:28.728442Z",
     "shell.execute_reply.started": "2025-01-13T10:44:28.579595Z"
    }
   },
   "outputs": [],
   "source": [
    "import pandas as pd\n",
    "import numpy as np\n",
    "import matplotlib.pyplot as plt\n",
    "import seaborn as sns\n",
    "\n",
    "from sklearn.model_selection import train_test_split\n",
    "\n",
    "from sklearn.linear_model import LogisticRegression\n",
    "from sklearn.tree import DecisionTreeClassifier\n",
    "from xgboost import XGBClassifier\n",
    "from sklearn.ensemble import RandomForestClassifier\n",
    "\n",
    "\n",
    "from sklearn.metrics import  confusion_matrix, classification_report, roc_auc_score,roc_curve,auc\n",
    "\n",
    "pd.set_option('display.float_format', lambda x: '{:.2f}'.format(x))\n",
    "np.set_printoptions(suppress=True)\n",
    "\n",
    "import warnings\n",
    "warnings.filterwarnings('ignore')  # To suppress warnings\n"
   ]
  },
  {
   "cell_type": "markdown",
   "id": "a8f19d4d",
   "metadata": {},
   "source": [
    "# Data Loading and Analyzing:"
   ]
  },
  {
   "cell_type": "code",
   "execution_count": 44,
   "id": "40a3852c",
   "metadata": {
    "execution": {
     "iopub.execute_input": "2025-01-13T10:40:56.153987Z",
     "iopub.status.busy": "2025-01-13T10:40:56.153646Z",
     "iopub.status.idle": "2025-01-13T10:41:10.464951Z",
     "shell.execute_reply": "2025-01-13T10:41:10.463559Z",
     "shell.execute_reply.started": "2025-01-13T10:40:56.153947Z"
    }
   },
   "outputs": [
    {
     "data": {
      "text/html": [
       "<div>\n",
       "<style scoped>\n",
       "    .dataframe tbody tr th:only-of-type {\n",
       "        vertical-align: middle;\n",
       "    }\n",
       "\n",
       "    .dataframe tbody tr th {\n",
       "        vertical-align: top;\n",
       "    }\n",
       "\n",
       "    .dataframe thead th {\n",
       "        text-align: right;\n",
       "    }\n",
       "</style>\n",
       "<table border=\"1\" class=\"dataframe\">\n",
       "  <thead>\n",
       "    <tr style=\"text-align: right;\">\n",
       "      <th></th>\n",
       "      <th>step</th>\n",
       "      <th>type</th>\n",
       "      <th>amount</th>\n",
       "      <th>nameOrig</th>\n",
       "      <th>oldbalanceOrg</th>\n",
       "      <th>newbalanceOrig</th>\n",
       "      <th>nameDest</th>\n",
       "      <th>oldbalanceDest</th>\n",
       "      <th>newbalanceDest</th>\n",
       "      <th>isFraud</th>\n",
       "      <th>isFlaggedFraud</th>\n",
       "    </tr>\n",
       "  </thead>\n",
       "  <tbody>\n",
       "    <tr>\n",
       "      <th>0</th>\n",
       "      <td>11</td>\n",
       "      <td>PAYMENT</td>\n",
       "      <td>23824.85</td>\n",
       "      <td>C689938949</td>\n",
       "      <td>0.00</td>\n",
       "      <td>0.00</td>\n",
       "      <td>M1460872626</td>\n",
       "      <td>0.00</td>\n",
       "      <td>0.00</td>\n",
       "      <td>0</td>\n",
       "      <td>0</td>\n",
       "    </tr>\n",
       "    <tr>\n",
       "      <th>1</th>\n",
       "      <td>9</td>\n",
       "      <td>PAYMENT</td>\n",
       "      <td>21635.32</td>\n",
       "      <td>C1575214500</td>\n",
       "      <td>81920.49</td>\n",
       "      <td>60285.17</td>\n",
       "      <td>M266977218</td>\n",
       "      <td>0.00</td>\n",
       "      <td>0.00</td>\n",
       "      <td>0</td>\n",
       "      <td>0</td>\n",
       "    </tr>\n",
       "    <tr>\n",
       "      <th>2</th>\n",
       "      <td>12</td>\n",
       "      <td>CASH_IN</td>\n",
       "      <td>351121.91</td>\n",
       "      <td>C995443509</td>\n",
       "      <td>4454306.27</td>\n",
       "      <td>4805428.19</td>\n",
       "      <td>C2115498160</td>\n",
       "      <td>1479790.46</td>\n",
       "      <td>1231184.66</td>\n",
       "      <td>0</td>\n",
       "      <td>0</td>\n",
       "    </tr>\n",
       "    <tr>\n",
       "      <th>3</th>\n",
       "      <td>9</td>\n",
       "      <td>CASH_IN</td>\n",
       "      <td>58429.17</td>\n",
       "      <td>C2059144571</td>\n",
       "      <td>6544514.05</td>\n",
       "      <td>6602943.22</td>\n",
       "      <td>C1137371968</td>\n",
       "      <td>4724976.11</td>\n",
       "      <td>6392871.31</td>\n",
       "      <td>0</td>\n",
       "      <td>0</td>\n",
       "    </tr>\n",
       "    <tr>\n",
       "      <th>4</th>\n",
       "      <td>8</td>\n",
       "      <td>CASH_OUT</td>\n",
       "      <td>119846.49</td>\n",
       "      <td>C1702593733</td>\n",
       "      <td>0.00</td>\n",
       "      <td>0.00</td>\n",
       "      <td>C1898859288</td>\n",
       "      <td>605241.14</td>\n",
       "      <td>896323.73</td>\n",
       "      <td>0</td>\n",
       "      <td>0</td>\n",
       "    </tr>\n",
       "  </tbody>\n",
       "</table>\n",
       "</div>"
      ],
      "text/plain": [
       "   step      type    amount     nameOrig  oldbalanceOrg  newbalanceOrig  \\\n",
       "0    11   PAYMENT  23824.85   C689938949           0.00            0.00   \n",
       "1     9   PAYMENT  21635.32  C1575214500       81920.49        60285.17   \n",
       "2    12   CASH_IN 351121.91   C995443509     4454306.27      4805428.19   \n",
       "3     9   CASH_IN  58429.17  C2059144571     6544514.05      6602943.22   \n",
       "4     8  CASH_OUT 119846.49  C1702593733           0.00            0.00   \n",
       "\n",
       "      nameDest  oldbalanceDest  newbalanceDest  isFraud  isFlaggedFraud  \n",
       "0  M1460872626            0.00            0.00        0               0  \n",
       "1   M266977218            0.00            0.00        0               0  \n",
       "2  C2115498160      1479790.46      1231184.66        0               0  \n",
       "3  C1137371968      4724976.11      6392871.31        0               0  \n",
       "4  C1898859288       605241.14       896323.73        0               0  "
      ]
     },
     "execution_count": 44,
     "metadata": {},
     "output_type": "execute_result"
    }
   ],
   "source": [
    "df = pd.read_csv('dataset.csv')\n",
    "df.head()"
   ]
  },
  {
   "cell_type": "code",
   "execution_count": 45,
   "id": "acf832ad",
   "metadata": {
    "execution": {
     "iopub.execute_input": "2025-01-13T10:41:10.466682Z",
     "iopub.status.busy": "2025-01-13T10:41:10.466283Z",
     "iopub.status.idle": "2025-01-13T10:41:10.483686Z",
     "shell.execute_reply": "2025-01-13T10:41:10.482402Z",
     "shell.execute_reply.started": "2025-01-13T10:41:10.466643Z"
    }
   },
   "outputs": [
    {
     "name": "stdout",
     "output_type": "stream",
     "text": [
      "Rows and Columns\n",
      "(58213, 11)\n"
     ]
    }
   ],
   "source": [
    "print(\"Rows and Columns\")\n",
    "print(df.shape)"
   ]
  },
  {
   "cell_type": "markdown",
   "id": "b18df1a4",
   "metadata": {},
   "source": [
    "##### Columns\n",
    "\n",
    "\n"
   ]
  },
  {
   "cell_type": "raw",
   "id": "dfb8042f",
   "metadata": {},
   "source": [
    "step: represents a unit of time where 1 step equals 1 hour\n",
    "type: type of online transaction\n",
    "amount: the amount of the transaction\n",
    "nameOrig: The unique identifier of the origin account (e.g., sender).\n",
    "oldbalanceOrg: balance of the origin account before transaction.\n",
    "newbalanceOrig: balance of the origin account after transaction.\n",
    "nameDest: The unique identifier of the destination account (e.g., recipient).\n",
    "oldbalanceDest: initial balance of recipient before the transaction\n",
    "newbalanceDest: the new balance of recipient after the transaction\n",
    "isFraud: fraud transaction\n",
    "\n",
    "The dataset provides a clear flow of funds from nameOrig to nameDest, making it suitable for fraud pattern detection."
   ]
  },
  {
   "cell_type": "markdown",
   "id": "0ed4ce96",
   "metadata": {},
   "source": [
    "#### Class imbalance "
   ]
  },
  {
   "cell_type": "code",
   "execution_count": 46,
   "id": "5332a8e3",
   "metadata": {},
   "outputs": [
    {
     "name": "stdout",
     "output_type": "stream",
     "text": [
      "isFraud\n",
      "0    50000\n",
      "1     8213\n",
      "Name: count, dtype: int64\n"
     ]
    },
    {
     "data": {
      "text/plain": [
       "isFraud\n",
       "0   0.86\n",
       "1   0.14\n",
       "Name: proportion, dtype: float64"
      ]
     },
     "execution_count": 46,
     "metadata": {},
     "output_type": "execute_result"
    }
   ],
   "source": [
    "# We have class imbalance in the Fraudulent(1) transactions.\n",
    "print(df['isFraud'].value_counts())\n",
    "df['isFraud'].value_counts(normalize=True)"
   ]
  },
  {
   "cell_type": "code",
   "execution_count": 47,
   "id": "37152321",
   "metadata": {
    "execution": {
     "iopub.execute_input": "2025-01-13T10:41:10.506527Z",
     "iopub.status.busy": "2025-01-13T10:41:10.506144Z",
     "iopub.status.idle": "2025-01-13T10:41:10.528107Z",
     "shell.execute_reply": "2025-01-13T10:41:10.526533Z",
     "shell.execute_reply.started": "2025-01-13T10:41:10.506497Z"
    }
   },
   "outputs": [
    {
     "name": "stdout",
     "output_type": "stream",
     "text": [
      "Index(['step', 'type', 'amount', 'nameOrig', 'oldbalanceOrg', 'newbalanceOrig',\n",
      "       'nameDest', 'oldbalanceDest', 'newbalanceDest', 'isFraud',\n",
      "       'isFlaggedFraud'],\n",
      "      dtype='object')\n",
      "Index(['time', 'transaction_type', 'amount', 'nameOrig', 'oldbalanceOrg',\n",
      "       'newbalanceOrig', 'nameDest', 'oldbalanceDest', 'newbalanceDest',\n",
      "       'isFraud', 'isFlaggedFraud'],\n",
      "      dtype='object')\n"
     ]
    }
   ],
   "source": [
    "# Renaming columns:\n",
    "\n",
    "print(df.columns)\n",
    "df.rename(columns={'type':'transaction_type'},inplace=True)\n",
    "df.rename(columns={'step':'time'},inplace=True)\n",
    "print(df.columns)"
   ]
  },
  {
   "cell_type": "code",
   "execution_count": 48,
   "id": "b1eebee6",
   "metadata": {
    "execution": {
     "iopub.execute_input": "2025-01-13T10:41:10.547282Z",
     "iopub.status.busy": "2025-01-13T10:41:10.546896Z",
     "iopub.status.idle": "2025-01-13T10:41:10.566855Z",
     "shell.execute_reply": "2025-01-13T10:41:10.565376Z",
     "shell.execute_reply.started": "2025-01-13T10:41:10.547249Z"
    },
    "scrolled": true
   },
   "outputs": [
    {
     "data": {
      "text/html": [
       "<div>\n",
       "<style scoped>\n",
       "    .dataframe tbody tr th:only-of-type {\n",
       "        vertical-align: middle;\n",
       "    }\n",
       "\n",
       "    .dataframe tbody tr th {\n",
       "        vertical-align: top;\n",
       "    }\n",
       "\n",
       "    .dataframe thead th {\n",
       "        text-align: right;\n",
       "    }\n",
       "</style>\n",
       "<table border=\"1\" class=\"dataframe\">\n",
       "  <thead>\n",
       "    <tr style=\"text-align: right;\">\n",
       "      <th></th>\n",
       "      <th>time</th>\n",
       "      <th>amount</th>\n",
       "      <th>oldbalanceOrg</th>\n",
       "      <th>newbalanceOrig</th>\n",
       "      <th>oldbalanceDest</th>\n",
       "      <th>newbalanceDest</th>\n",
       "      <th>isFraud</th>\n",
       "      <th>isFlaggedFraud</th>\n",
       "    </tr>\n",
       "  </thead>\n",
       "  <tbody>\n",
       "    <tr>\n",
       "      <th>count</th>\n",
       "      <td>58213.00</td>\n",
       "      <td>58213.00</td>\n",
       "      <td>58213.00</td>\n",
       "      <td>58213.00</td>\n",
       "      <td>58213.00</td>\n",
       "      <td>58213.00</td>\n",
       "      <td>58213.00</td>\n",
       "      <td>58213.00</td>\n",
       "    </tr>\n",
       "    <tr>\n",
       "      <th>mean</th>\n",
       "      <td>60.64</td>\n",
       "      <td>363006.89</td>\n",
       "      <td>983423.96</td>\n",
       "      <td>794276.51</td>\n",
       "      <td>880485.19</td>\n",
       "      <td>1198193.47</td>\n",
       "      <td>0.14</td>\n",
       "      <td>0.00</td>\n",
       "    </tr>\n",
       "    <tr>\n",
       "      <th>std</th>\n",
       "      <td>148.89</td>\n",
       "      <td>1053104.63</td>\n",
       "      <td>2885794.95</td>\n",
       "      <td>2694626.75</td>\n",
       "      <td>2515157.13</td>\n",
       "      <td>2843751.21</td>\n",
       "      <td>0.35</td>\n",
       "      <td>0.02</td>\n",
       "    </tr>\n",
       "    <tr>\n",
       "      <th>min</th>\n",
       "      <td>1.00</td>\n",
       "      <td>0.00</td>\n",
       "      <td>0.00</td>\n",
       "      <td>0.00</td>\n",
       "      <td>0.00</td>\n",
       "      <td>0.00</td>\n",
       "      <td>0.00</td>\n",
       "      <td>0.00</td>\n",
       "    </tr>\n",
       "    <tr>\n",
       "      <th>25%</th>\n",
       "      <td>9.00</td>\n",
       "      <td>14426.04</td>\n",
       "      <td>0.00</td>\n",
       "      <td>0.00</td>\n",
       "      <td>0.00</td>\n",
       "      <td>0.00</td>\n",
       "      <td>0.00</td>\n",
       "      <td>0.00</td>\n",
       "    </tr>\n",
       "    <tr>\n",
       "      <th>50%</th>\n",
       "      <td>11.00</td>\n",
       "      <td>97133.63</td>\n",
       "      <td>31223.00</td>\n",
       "      <td>0.00</td>\n",
       "      <td>20640.00</td>\n",
       "      <td>114827.36</td>\n",
       "      <td>0.00</td>\n",
       "      <td>0.00</td>\n",
       "    </tr>\n",
       "    <tr>\n",
       "      <th>75%</th>\n",
       "      <td>12.00</td>\n",
       "      <td>282111.84</td>\n",
       "      <td>347735.10</td>\n",
       "      <td>148390.13</td>\n",
       "      <td>664408.32</td>\n",
       "      <td>1177760.30</td>\n",
       "      <td>0.00</td>\n",
       "      <td>0.00</td>\n",
       "    </tr>\n",
       "    <tr>\n",
       "      <th>max</th>\n",
       "      <td>743.00</td>\n",
       "      <td>10000000.00</td>\n",
       "      <td>59585040.37</td>\n",
       "      <td>49585040.37</td>\n",
       "      <td>236230516.82</td>\n",
       "      <td>236726494.66</td>\n",
       "      <td>1.00</td>\n",
       "      <td>1.00</td>\n",
       "    </tr>\n",
       "  </tbody>\n",
       "</table>\n",
       "</div>"
      ],
      "text/plain": [
       "          time      amount  oldbalanceOrg  newbalanceOrig  oldbalanceDest  \\\n",
       "count 58213.00    58213.00       58213.00        58213.00        58213.00   \n",
       "mean     60.64   363006.89      983423.96       794276.51       880485.19   \n",
       "std     148.89  1053104.63     2885794.95      2694626.75      2515157.13   \n",
       "min       1.00        0.00           0.00            0.00            0.00   \n",
       "25%       9.00    14426.04           0.00            0.00            0.00   \n",
       "50%      11.00    97133.63       31223.00            0.00        20640.00   \n",
       "75%      12.00   282111.84      347735.10       148390.13       664408.32   \n",
       "max     743.00 10000000.00    59585040.37     49585040.37    236230516.82   \n",
       "\n",
       "       newbalanceDest  isFraud  isFlaggedFraud  \n",
       "count        58213.00 58213.00        58213.00  \n",
       "mean       1198193.47     0.14            0.00  \n",
       "std        2843751.21     0.35            0.02  \n",
       "min              0.00     0.00            0.00  \n",
       "25%              0.00     0.00            0.00  \n",
       "50%         114827.36     0.00            0.00  \n",
       "75%        1177760.30     0.00            0.00  \n",
       "max      236726494.66     1.00            1.00  "
      ]
     },
     "execution_count": 48,
     "metadata": {},
     "output_type": "execute_result"
    }
   ],
   "source": [
    "df.describe()"
   ]
  },
  {
   "cell_type": "code",
   "execution_count": 49,
   "id": "ac512cad",
   "metadata": {},
   "outputs": [
    {
     "name": "stdout",
     "output_type": "stream",
     "text": [
      "int64\n"
     ]
    },
    {
     "data": {
      "text/plain": [
       "array([11,  9, 12,  8,  3, 10, 13,  7,  5,  6,  1,  2,  4, 14, 15, 16, 17,\n",
       "       18, 19, 20, 21, 22, 23,  0], dtype=int64)"
      ]
     },
     "execution_count": 49,
     "metadata": {},
     "output_type": "execute_result"
    }
   ],
   "source": [
    "# Converting Step to hour of day:\n",
    "df['time'] = df['time'] % 24\n",
    "print(df['time'].dtype)\n",
    "df['time'].unique()"
   ]
  },
  {
   "cell_type": "code",
   "execution_count": 50,
   "id": "c3823218",
   "metadata": {},
   "outputs": [
    {
     "data": {
      "text/html": [
       "<div>\n",
       "<style scoped>\n",
       "    .dataframe tbody tr th:only-of-type {\n",
       "        vertical-align: middle;\n",
       "    }\n",
       "\n",
       "    .dataframe tbody tr th {\n",
       "        vertical-align: top;\n",
       "    }\n",
       "\n",
       "    .dataframe thead th {\n",
       "        text-align: right;\n",
       "    }\n",
       "</style>\n",
       "<table border=\"1\" class=\"dataframe\">\n",
       "  <thead>\n",
       "    <tr style=\"text-align: right;\">\n",
       "      <th></th>\n",
       "      <th>time</th>\n",
       "      <th>amount</th>\n",
       "      <th>oldbalanceOrg</th>\n",
       "      <th>newbalanceOrig</th>\n",
       "      <th>oldbalanceDest</th>\n",
       "      <th>newbalanceDest</th>\n",
       "      <th>isFraud</th>\n",
       "      <th>isFlaggedFraud</th>\n",
       "    </tr>\n",
       "  </thead>\n",
       "  <tbody>\n",
       "    <tr>\n",
       "      <th>0</th>\n",
       "      <td>11</td>\n",
       "      <td>23824</td>\n",
       "      <td>0</td>\n",
       "      <td>0</td>\n",
       "      <td>0</td>\n",
       "      <td>0</td>\n",
       "      <td>0</td>\n",
       "      <td>0</td>\n",
       "    </tr>\n",
       "    <tr>\n",
       "      <th>1</th>\n",
       "      <td>9</td>\n",
       "      <td>21635</td>\n",
       "      <td>81920</td>\n",
       "      <td>60285</td>\n",
       "      <td>0</td>\n",
       "      <td>0</td>\n",
       "      <td>0</td>\n",
       "      <td>0</td>\n",
       "    </tr>\n",
       "    <tr>\n",
       "      <th>2</th>\n",
       "      <td>12</td>\n",
       "      <td>351121</td>\n",
       "      <td>4454306</td>\n",
       "      <td>4805428</td>\n",
       "      <td>1479790</td>\n",
       "      <td>1231184</td>\n",
       "      <td>0</td>\n",
       "      <td>0</td>\n",
       "    </tr>\n",
       "  </tbody>\n",
       "</table>\n",
       "</div>"
      ],
      "text/plain": [
       "   time  amount  oldbalanceOrg  newbalanceOrig  oldbalanceDest  \\\n",
       "0    11   23824              0               0               0   \n",
       "1     9   21635          81920           60285               0   \n",
       "2    12  351121        4454306         4805428         1479790   \n",
       "\n",
       "   newbalanceDest  isFraud  isFlaggedFraud  \n",
       "0               0        0               0  \n",
       "1               0        0               0  \n",
       "2         1231184        0               0  "
      ]
     },
     "execution_count": 50,
     "metadata": {},
     "output_type": "execute_result"
    }
   ],
   "source": [
    "numeric_columns = df.select_dtypes(['int64','float64']).columns\n",
    "\n",
    "df[numeric_columns] = df[numeric_columns].astype('int')\n",
    "df[numeric_columns].head(3)"
   ]
  },
  {
   "cell_type": "code",
   "execution_count": 51,
   "id": "e14676b5",
   "metadata": {},
   "outputs": [
    {
     "name": "stdout",
     "output_type": "stream",
     "text": [
      "column => transaction_type = ['PAYMENT' 'CASH_IN' 'CASH_OUT' 'TRANSFER' 'DEBIT']\n",
      "column => isFraud = [0 1]\n",
      "column => isFlaggedFraud = [0 1]\n"
     ]
    }
   ],
   "source": [
    "cat_column = ['transaction_type','isFraud','isFlaggedFraud']\n",
    "\n",
    "for col in cat_column:\n",
    "    print(f\"column => {col} = {df[col].unique()}\")"
   ]
  },
  {
   "cell_type": "markdown",
   "id": "77118319",
   "metadata": {},
   "source": [
    "#### Features:"
   ]
  },
  {
   "cell_type": "raw",
   "id": "bc887af9",
   "metadata": {
    "vscode": {
     "languageId": "raw"
    }
   },
   "source": [
    "Transaction_type:\n",
    "\n",
    "1.PAYMENT  :  Transactions where money is paid from one account to a merchant or service provider (e.g., bill payments)\n",
    "2.Transfer :  Transactions where funds are transferred directly from one account to another.\n",
    "3.CASH_OUT :  Transactions where money is withdrawn from an account, often to cash. (Sender: The entity initiating the withdrawal, receiver: the money is withdrawn by the sender themselves (e.g., from their account at an ATM )\n",
    "4.CASH_IN  :  Transactions where money is deposited or credited to an account. (Sender: Typically the entity depositing the money into another account, Receiver: The account that receives the deposit ).              \n",
    "5.DEBIT    :  Transactions that involve the direct debit of funds from an account, often linked to specific pre-authorized\n",
    "              payments.( subscriptions/bill payments ). Money moves from the sender’s account to the receiver’s account."
   ]
  },
  {
   "cell_type": "markdown",
   "id": "44894fe4",
   "metadata": {},
   "source": [
    "## Data Cleaning"
   ]
  },
  {
   "cell_type": "code",
   "execution_count": 52,
   "id": "740f3f41",
   "metadata": {
    "execution": {
     "iopub.execute_input": "2025-01-13T10:41:10.673925Z",
     "iopub.status.busy": "2025-01-13T10:41:10.673528Z",
     "iopub.status.idle": "2025-01-13T10:41:10.690899Z",
     "shell.execute_reply": "2025-01-13T10:41:10.689503Z",
     "shell.execute_reply.started": "2025-01-13T10:41:10.673892Z"
    }
   },
   "outputs": [
    {
     "name": "stdout",
     "output_type": "stream",
     "text": [
      "Checking for NA Values\n",
      "time                0\n",
      "transaction_type    0\n",
      "amount              0\n",
      "nameOrig            0\n",
      "oldbalanceOrg       0\n",
      "newbalanceOrig      0\n",
      "nameDest            0\n",
      "oldbalanceDest      0\n",
      "newbalanceDest      0\n",
      "isFraud             0\n",
      "isFlaggedFraud      0\n",
      "dtype: int64\n"
     ]
    }
   ],
   "source": [
    "print(\"Checking for NA Values\")\n",
    "print(df.isna().sum())"
   ]
  },
  {
   "cell_type": "code",
   "execution_count": 53,
   "id": "fe6399de",
   "metadata": {
    "execution": {
     "iopub.execute_input": "2025-01-13T10:41:10.692649Z",
     "iopub.status.busy": "2025-01-13T10:41:10.692199Z",
     "iopub.status.idle": "2025-01-13T10:41:10.712154Z",
     "shell.execute_reply": "2025-01-13T10:41:10.710675Z",
     "shell.execute_reply.started": "2025-01-13T10:41:10.692608Z"
    }
   },
   "outputs": [
    {
     "name": "stdout",
     "output_type": "stream",
     "text": [
      "Checking for Duplicates\n",
      "0\n"
     ]
    }
   ],
   "source": [
    "print(\"Checking for Duplicates\")\n",
    "print(df.duplicated().sum())"
   ]
  },
  {
   "cell_type": "code",
   "execution_count": 54,
   "id": "00a58601",
   "metadata": {
    "execution": {
     "iopub.execute_input": "2025-01-13T10:41:11.066206Z",
     "iopub.status.busy": "2025-01-13T10:41:11.065887Z",
     "iopub.status.idle": "2025-01-13T10:41:11.084535Z",
     "shell.execute_reply": "2025-01-13T10:41:11.083201Z",
     "shell.execute_reply.started": "2025-01-13T10:41:11.066179Z"
    }
   },
   "outputs": [
    {
     "data": {
      "text/html": [
       "<div>\n",
       "<style scoped>\n",
       "    .dataframe tbody tr th:only-of-type {\n",
       "        vertical-align: middle;\n",
       "    }\n",
       "\n",
       "    .dataframe tbody tr th {\n",
       "        vertical-align: top;\n",
       "    }\n",
       "\n",
       "    .dataframe thead th {\n",
       "        text-align: right;\n",
       "    }\n",
       "</style>\n",
       "<table border=\"1\" class=\"dataframe\">\n",
       "  <thead>\n",
       "    <tr style=\"text-align: right;\">\n",
       "      <th></th>\n",
       "      <th>time</th>\n",
       "      <th>amount</th>\n",
       "      <th>oldbalanceOrg</th>\n",
       "      <th>newbalanceOrig</th>\n",
       "      <th>oldbalanceDest</th>\n",
       "      <th>newbalanceDest</th>\n",
       "      <th>isFraud</th>\n",
       "      <th>isFlaggedFraud</th>\n",
       "    </tr>\n",
       "  </thead>\n",
       "  <tbody>\n",
       "    <tr>\n",
       "      <th>count</th>\n",
       "      <td>58213.00</td>\n",
       "      <td>58213.00</td>\n",
       "      <td>58213.00</td>\n",
       "      <td>58213.00</td>\n",
       "      <td>58213.00</td>\n",
       "      <td>58213.00</td>\n",
       "      <td>58213.00</td>\n",
       "      <td>58213.00</td>\n",
       "    </tr>\n",
       "    <tr>\n",
       "      <th>mean</th>\n",
       "      <td>10.29</td>\n",
       "      <td>363006.40</td>\n",
       "      <td>983423.77</td>\n",
       "      <td>794276.31</td>\n",
       "      <td>880484.96</td>\n",
       "      <td>1198193.20</td>\n",
       "      <td>0.14</td>\n",
       "      <td>0.00</td>\n",
       "    </tr>\n",
       "    <tr>\n",
       "      <th>std</th>\n",
       "      <td>3.28</td>\n",
       "      <td>1053104.65</td>\n",
       "      <td>2885794.86</td>\n",
       "      <td>2694626.66</td>\n",
       "      <td>2515157.04</td>\n",
       "      <td>2843751.12</td>\n",
       "      <td>0.35</td>\n",
       "      <td>0.02</td>\n",
       "    </tr>\n",
       "    <tr>\n",
       "      <th>min</th>\n",
       "      <td>0.00</td>\n",
       "      <td>0.00</td>\n",
       "      <td>0.00</td>\n",
       "      <td>0.00</td>\n",
       "      <td>0.00</td>\n",
       "      <td>0.00</td>\n",
       "      <td>0.00</td>\n",
       "      <td>0.00</td>\n",
       "    </tr>\n",
       "    <tr>\n",
       "      <th>25%</th>\n",
       "      <td>9.00</td>\n",
       "      <td>14426.00</td>\n",
       "      <td>0.00</td>\n",
       "      <td>0.00</td>\n",
       "      <td>0.00</td>\n",
       "      <td>0.00</td>\n",
       "      <td>0.00</td>\n",
       "      <td>0.00</td>\n",
       "    </tr>\n",
       "    <tr>\n",
       "      <th>50%</th>\n",
       "      <td>10.00</td>\n",
       "      <td>97133.00</td>\n",
       "      <td>31223.00</td>\n",
       "      <td>0.00</td>\n",
       "      <td>20640.00</td>\n",
       "      <td>114827.00</td>\n",
       "      <td>0.00</td>\n",
       "      <td>0.00</td>\n",
       "    </tr>\n",
       "    <tr>\n",
       "      <th>75%</th>\n",
       "      <td>12.00</td>\n",
       "      <td>282111.00</td>\n",
       "      <td>347735.00</td>\n",
       "      <td>148390.00</td>\n",
       "      <td>664408.00</td>\n",
       "      <td>1177760.00</td>\n",
       "      <td>0.00</td>\n",
       "      <td>0.00</td>\n",
       "    </tr>\n",
       "    <tr>\n",
       "      <th>max</th>\n",
       "      <td>23.00</td>\n",
       "      <td>10000000.00</td>\n",
       "      <td>59585040.00</td>\n",
       "      <td>49585040.00</td>\n",
       "      <td>236230516.00</td>\n",
       "      <td>236726494.00</td>\n",
       "      <td>1.00</td>\n",
       "      <td>1.00</td>\n",
       "    </tr>\n",
       "  </tbody>\n",
       "</table>\n",
       "</div>"
      ],
      "text/plain": [
       "          time      amount  oldbalanceOrg  newbalanceOrig  oldbalanceDest  \\\n",
       "count 58213.00    58213.00       58213.00        58213.00        58213.00   \n",
       "mean     10.29   363006.40      983423.77       794276.31       880484.96   \n",
       "std       3.28  1053104.65     2885794.86      2694626.66      2515157.04   \n",
       "min       0.00        0.00           0.00            0.00            0.00   \n",
       "25%       9.00    14426.00           0.00            0.00            0.00   \n",
       "50%      10.00    97133.00       31223.00            0.00        20640.00   \n",
       "75%      12.00   282111.00      347735.00       148390.00       664408.00   \n",
       "max      23.00 10000000.00    59585040.00     49585040.00    236230516.00   \n",
       "\n",
       "       newbalanceDest  isFraud  isFlaggedFraud  \n",
       "count        58213.00 58213.00        58213.00  \n",
       "mean       1198193.20     0.14            0.00  \n",
       "std        2843751.12     0.35            0.02  \n",
       "min              0.00     0.00            0.00  \n",
       "25%              0.00     0.00            0.00  \n",
       "50%         114827.00     0.00            0.00  \n",
       "75%        1177760.00     0.00            0.00  \n",
       "max      236726494.00     1.00            1.00  "
      ]
     },
     "execution_count": 54,
     "metadata": {},
     "output_type": "execute_result"
    }
   ],
   "source": [
    "df[numeric_columns].describe()"
   ]
  },
  {
   "cell_type": "markdown",
   "id": "75461f19",
   "metadata": {},
   "source": [
    "### Analyze categorical features"
   ]
  },
  {
   "cell_type": "code",
   "execution_count": 55,
   "id": "91fd7594",
   "metadata": {
    "execution": {
     "iopub.execute_input": "2025-01-13T10:41:11.103938Z",
     "iopub.status.busy": "2025-01-13T10:41:11.103440Z",
     "iopub.status.idle": "2025-01-13T10:41:11.590756Z",
     "shell.execute_reply": "2025-01-13T10:41:11.589530Z",
     "shell.execute_reply.started": "2025-01-13T10:41:11.103893Z"
    }
   },
   "outputs": [
    {
     "data": {
      "text/plain": [
       "'transaction_type'"
      ]
     },
     "execution_count": 55,
     "metadata": {},
     "output_type": "execute_result"
    }
   ],
   "source": [
    "df.select_dtypes(exclude=['float64','int64']).columns\n",
    "\n",
    "categorical_columns = df.select_dtypes(exclude=['float64','int']).columns[0] # We will only use transaction type column as categorical because the other columns are unique identifiers.\n",
    "categorical_columns"
   ]
  },
  {
   "cell_type": "code",
   "execution_count": 56,
   "id": "5f00bf0d",
   "metadata": {
    "execution": {
     "iopub.execute_input": "2025-01-13T10:41:11.592659Z",
     "iopub.status.busy": "2025-01-13T10:41:11.592235Z",
     "iopub.status.idle": "2025-01-13T10:41:25.937727Z",
     "shell.execute_reply": "2025-01-13T10:41:25.936653Z",
     "shell.execute_reply.started": "2025-01-13T10:41:11.592613Z"
    },
    "scrolled": true
   },
   "outputs": [
    {
     "data": {
      "text/html": [
       "<div>\n",
       "<style scoped>\n",
       "    .dataframe tbody tr th:only-of-type {\n",
       "        vertical-align: middle;\n",
       "    }\n",
       "\n",
       "    .dataframe tbody tr th {\n",
       "        vertical-align: top;\n",
       "    }\n",
       "\n",
       "    .dataframe thead th {\n",
       "        text-align: right;\n",
       "    }\n",
       "</style>\n",
       "<table border=\"1\" class=\"dataframe\">\n",
       "  <thead>\n",
       "    <tr style=\"text-align: right;\">\n",
       "      <th></th>\n",
       "      <th>nameOrig</th>\n",
       "      <th>nameDest</th>\n",
       "    </tr>\n",
       "  </thead>\n",
       "  <tbody>\n",
       "    <tr>\n",
       "      <th>count</th>\n",
       "      <td>58213</td>\n",
       "      <td>58213</td>\n",
       "    </tr>\n",
       "    <tr>\n",
       "      <th>unique</th>\n",
       "      <td>58213</td>\n",
       "      <td>40042</td>\n",
       "    </tr>\n",
       "    <tr>\n",
       "      <th>top</th>\n",
       "      <td>C689938949</td>\n",
       "      <td>C451111351</td>\n",
       "    </tr>\n",
       "    <tr>\n",
       "      <th>freq</th>\n",
       "      <td>1</td>\n",
       "      <td>21</td>\n",
       "    </tr>\n",
       "  </tbody>\n",
       "</table>\n",
       "</div>"
      ],
      "text/plain": [
       "          nameOrig    nameDest\n",
       "count        58213       58213\n",
       "unique       58213       40042\n",
       "top     C689938949  C451111351\n",
       "freq             1          21"
      ]
     },
     "execution_count": 56,
     "metadata": {},
     "output_type": "execute_result"
    }
   ],
   "source": [
    "# Unique Identifers:\n",
    "df[['nameOrig','nameDest']].describe()"
   ]
  },
  {
   "cell_type": "markdown",
   "id": "e35d8626",
   "metadata": {},
   "source": [
    "# Exploratory Data Analysis"
   ]
  },
  {
   "cell_type": "code",
   "execution_count": 57,
   "id": "48951482",
   "metadata": {
    "execution": {
     "iopub.execute_input": "2025-01-13T10:41:26.361773Z",
     "iopub.status.busy": "2025-01-13T10:41:26.361326Z",
     "iopub.status.idle": "2025-01-13T10:41:26.376965Z",
     "shell.execute_reply": "2025-01-13T10:41:26.375440Z",
     "shell.execute_reply.started": "2025-01-13T10:41:26.361734Z"
    }
   },
   "outputs": [
    {
     "data": {
      "text/plain": [
       "Index(['time', 'amount', 'oldbalanceOrg', 'newbalanceOrig', 'oldbalanceDest',\n",
       "       'newbalanceDest', 'isFraud', 'isFlaggedFraud'],\n",
       "      dtype='object')"
      ]
     },
     "execution_count": 57,
     "metadata": {},
     "output_type": "execute_result"
    }
   ],
   "source": [
    "numeric_columns"
   ]
  },
  {
   "cell_type": "code",
   "execution_count": 58,
   "id": "64548158",
   "metadata": {
    "execution": {
     "iopub.execute_input": "2025-01-13T10:41:26.379288Z",
     "iopub.status.busy": "2025-01-13T10:41:26.378710Z",
     "iopub.status.idle": "2025-01-13T10:41:26.395137Z",
     "shell.execute_reply": "2025-01-13T10:41:26.393795Z",
     "shell.execute_reply.started": "2025-01-13T10:41:26.379179Z"
    }
   },
   "outputs": [
    {
     "data": {
      "text/plain": [
       "'transaction_type'"
      ]
     },
     "execution_count": 58,
     "metadata": {},
     "output_type": "execute_result"
    }
   ],
   "source": [
    "categorical_columns"
   ]
  },
  {
   "cell_type": "code",
   "execution_count": 60,
   "id": "59315e1e",
   "metadata": {},
   "outputs": [
    {
     "data": {
      "image/png": "[encoded data removed]",
      "text/plain": [
       "<Figure size 640x480 with 1 Axes>"
      ]
     },
     "metadata": {},
     "output_type": "display_data"
    }
   ],
   "source": [
    "sns.histplot(data=df,x='time',bins=24,kde=True)\n",
    "\n",
    "plt.xlabel(\"Time in hours\")\n",
    "plt.title(\"Time Distributions of Transactions\")\n",
    "plt.xticks(range(0, 24))  # Show all 24 hours on x-axis\n",
    "plt.show()"
   ]
  },
  {
   "cell_type": "code",
   "execution_count": 62,
   "id": "0ea32b44",
   "metadata": {},
   "outputs": [
    {
     "data": {
      "image/png": "[encoded data removed]",
      "text/plain": [
       "<Figure size 640x480 with 1 Axes>"
      ]
     },
     "metadata": {},
     "output_type": "display_data"
    }
   ],
   "source": [
    "fraud_df = df[df['isFraud'] == 1] \n",
    "\n",
    "sns.histplot(data=fraud_df, x='time', bins=24, kde=True)  # Using 24 bins for 24 hours\n",
    "\n",
    "plt.xlabel(\"Time in hours \")\n",
    "plt.title(\"Time Distribution of Fraudulent Transactions\")\n",
    "plt.xticks(range(0, 24))  # Show all 24 hours on x-axis\n",
    "plt.show()"
   ]
  },
  {
   "cell_type": "code",
   "execution_count": 63,
   "id": "5a834432",
   "metadata": {
    "execution": {
     "iopub.execute_input": "2025-01-13T10:41:26.413384Z",
     "iopub.status.busy": "2025-01-13T10:41:26.412939Z",
     "iopub.status.idle": "2025-01-13T10:41:26.430589Z",
     "shell.execute_reply": "2025-01-13T10:41:26.429221Z",
     "shell.execute_reply.started": "2025-01-13T10:41:26.413355Z"
    }
   },
   "outputs": [
    {
     "data": {
      "image/png": "[encoded data removed]",
      "text/plain": [
       "<Figure size 640x480 with 1 Axes>"
      ]
     },
     "metadata": {},
     "output_type": "display_data"
    }
   ],
   "source": [
    "transaction_count = df.groupby('transaction_type')['isFraud'].count().reset_index(name='no of transactions') \\\n",
    "   .sort_values(by='no of transactions',ascending=False)\n",
    "\n",
    "ax = sns.barplot(data=transaction_count,x='transaction_type',y='no of transactions',)\n",
    "ax.bar_label(ax.containers[0])\n",
    "\n",
    "plt.xlabel(\" No of transactions \")\n",
    "plt.title(\" Count of Transactions Per Transaction Type \")\n",
    "plt.ylabel(\" Transaction Type\")\n",
    "plt.show()"
   ]
  },
  {
   "cell_type": "markdown",
   "id": "b659a9e0",
   "metadata": {},
   "source": [
    "### Insights\n",
    "\n",
    "1. Majority of the Transactions were done By Payment and Cash_out Mode.\n",
    "2. Very less transactions were done by Debit and transfer type."
   ]
  },
  {
   "cell_type": "code",
   "execution_count": 64,
   "id": "c0c90dd1",
   "metadata": {
    "execution": {
     "iopub.execute_input": "2025-01-13T10:41:26.432448Z",
     "iopub.status.busy": "2025-01-13T10:41:26.431969Z",
     "iopub.status.idle": "2025-01-13T10:41:26.450801Z",
     "shell.execute_reply": "2025-01-13T10:41:26.449428Z",
     "shell.execute_reply.started": "2025-01-13T10:41:26.432416Z"
    }
   },
   "outputs": [
    {
     "data": {
      "image/png": "[encoded data removed]",
      "text/plain": [
       "<Figure size 640x480 with 1 Axes>"
      ]
     },
     "metadata": {},
     "output_type": "display_data"
    }
   ],
   "source": [
    "fraud_count_df = df.groupby('transaction_type')['isFraud'].sum().reset_index() \\\n",
    "     .sort_values(by='isFraud',ascending=False) \n",
    "\n",
    "ax = sns.barplot(data=fraud_count_df,x='transaction_type',y='isFraud',color='red')\n",
    "ax.bar_label(ax.containers[0])\n",
    "\n",
    "plt.title(\"Count of Fraudulent Transactions per Transaction Type\")\n",
    "plt.xlabel(\"No of Fraud Transactions\")\n",
    "plt.ylabel(\"Transaction_type\")\n",
    "plt.show()"
   ]
  },
  {
   "cell_type": "markdown",
   "id": "83e4bcb1",
   "metadata": {},
   "source": [
    "### Insights\n",
    "\n",
    "1. Majortiy of the Fraudulent transaction's were either by (CASH OUT) withdrawal of money from the account or by Transfer of funds between two accounts (TRANSFER).\n",
    "2. No Fraudulent Transactions were done by any other type."
   ]
  },
  {
   "cell_type": "code",
   "execution_count": 65,
   "id": "0666735c",
   "metadata": {
    "execution": {
     "iopub.execute_input": "2025-01-13T10:41:26.452571Z",
     "iopub.status.busy": "2025-01-13T10:41:26.452156Z",
     "iopub.status.idle": "2025-01-13T10:41:26.472417Z",
     "shell.execute_reply": "2025-01-13T10:41:26.471201Z",
     "shell.execute_reply.started": "2025-01-13T10:41:26.452524Z"
    }
   },
   "outputs": [
    {
     "data": {
      "text/plain": [
       "Index(['time', 'amount', 'oldbalanceOrg', 'newbalanceOrig', 'oldbalanceDest',\n",
       "       'newbalanceDest', 'isFraud', 'isFlaggedFraud'],\n",
       "      dtype='object')"
      ]
     },
     "execution_count": 65,
     "metadata": {},
     "output_type": "execute_result"
    }
   ],
   "source": [
    "numeric_columns"
   ]
  },
  {
   "cell_type": "code",
   "execution_count": 66,
   "id": "27e8aea7",
   "metadata": {
    "execution": {
     "iopub.execute_input": "2025-01-13T10:41:26.474375Z",
     "iopub.status.busy": "2025-01-13T10:41:26.473929Z",
     "iopub.status.idle": "2025-01-13T10:41:26.489786Z",
     "shell.execute_reply": "2025-01-13T10:41:26.488287Z",
     "shell.execute_reply.started": "2025-01-13T10:41:26.474332Z"
    },
    "scrolled": false
   },
   "outputs": [
    {
     "data": {
      "image/png": "[encoded data removed]",
      "text/plain": [
       "<Figure size 800x400 with 1 Axes>"
      ]
     },
     "metadata": {},
     "output_type": "display_data"
    }
   ],
   "source": [
    "plt.figure(figsize=(8, 4))\n",
    "sns.kdeplot(np.log1p(df['amount'][df['isFraud'] == 0]), fill=True, label='default = 0')\n",
    "sns.kdeplot(np.log1p(df['amount'][df['isFraud'] == 1]), fill=True, label='default = 1')\n",
    "plt.title(\"Amount KDE Plot with isFraud as Hue (Log Scale)\")\n",
    "plt.xlabel(\"Log(Amount)\")\n",
    "plt.legend()\n",
    "plt.show()"
   ]
  },
  {
   "cell_type": "markdown",
   "id": "634c365b",
   "metadata": {},
   "source": [
    "#### Insights:\n",
    "\n",
    "1. We can see that Transactions with higher amount have chances of beign FRAUDULENT.\n",
    "2. Transactions with smaller amount tend to being NON-FRAUDULENT"
   ]
  },
  {
   "cell_type": "code",
   "execution_count": null,
   "id": "5a4bb5a1",
   "metadata": {},
   "outputs": [],
   "source": []
  },
  {
   "cell_type": "markdown",
   "id": "c33d024b",
   "metadata": {},
   "source": [
    "### Co-relation matrix:"
   ]
  },
  {
   "cell_type": "code",
   "execution_count": 67,
   "id": "13c198ba",
   "metadata": {
    "execution": {
     "iopub.execute_input": "2025-01-13T10:41:26.519147Z",
     "iopub.status.busy": "2025-01-13T10:41:26.518796Z",
     "iopub.status.idle": "2025-01-13T10:41:26.537018Z",
     "shell.execute_reply": "2025-01-13T10:41:26.535735Z",
     "shell.execute_reply.started": "2025-01-13T10:41:26.519103Z"
    }
   },
   "outputs": [
    {
     "data": {
      "image/png": "[encoded data removed]",
      "text/plain": [
       "<Figure size 1000x400 with 2 Axes>"
      ]
     },
     "metadata": {},
     "output_type": "display_data"
    }
   ],
   "source": [
    "cm = df[numeric_columns].corr()\n",
    "\n",
    "plt.figure(figsize=(10,4))\n",
    "sns.heatmap(cm,annot=True,fmt=\".2f\",cmap='coolwarm')\n",
    "plt.title(\"Co-relation matrix\")\n",
    "plt.show()"
   ]
  },
  {
   "cell_type": "markdown",
   "id": "57100474",
   "metadata": {},
   "source": [
    "### Insights from EDA.\n",
    "\n",
    "1. Most of the transactions took place by CASH OUT , PAYMENT and CASH IN\n",
    "2. Majority of the FRAUDULENT Transactions took place by CASH OUT or TRANSFER Transaction Type\n",
    "3. Higher the Amount of Transaction, Higher the Risk of it being Fraud.\n"
   ]
  },
  {
   "cell_type": "code",
   "execution_count": null,
   "id": "70c087cc",
   "metadata": {},
   "outputs": [],
   "source": []
  },
  {
   "cell_type": "markdown",
   "id": "d0f926fe",
   "metadata": {},
   "source": [
    "# Feature Engineering , Feature Selection"
   ]
  },
  {
   "cell_type": "code",
   "execution_count": 68,
   "id": "c92291c4",
   "metadata": {},
   "outputs": [
    {
     "data": {
      "text/html": [
       "<div>\n",
       "<style scoped>\n",
       "    .dataframe tbody tr th:only-of-type {\n",
       "        vertical-align: middle;\n",
       "    }\n",
       "\n",
       "    .dataframe tbody tr th {\n",
       "        vertical-align: top;\n",
       "    }\n",
       "\n",
       "    .dataframe thead th {\n",
       "        text-align: right;\n",
       "    }\n",
       "</style>\n",
       "<table border=\"1\" class=\"dataframe\">\n",
       "  <thead>\n",
       "    <tr style=\"text-align: right;\">\n",
       "      <th></th>\n",
       "      <th>time</th>\n",
       "      <th>transaction_type</th>\n",
       "      <th>amount</th>\n",
       "      <th>nameOrig</th>\n",
       "      <th>oldbalanceOrg</th>\n",
       "      <th>newbalanceOrig</th>\n",
       "      <th>nameDest</th>\n",
       "      <th>oldbalanceDest</th>\n",
       "      <th>newbalanceDest</th>\n",
       "      <th>isFraud</th>\n",
       "      <th>isFlaggedFraud</th>\n",
       "    </tr>\n",
       "  </thead>\n",
       "  <tbody>\n",
       "    <tr>\n",
       "      <th>0</th>\n",
       "      <td>11</td>\n",
       "      <td>PAYMENT</td>\n",
       "      <td>23824</td>\n",
       "      <td>C689938949</td>\n",
       "      <td>0</td>\n",
       "      <td>0</td>\n",
       "      <td>M1460872626</td>\n",
       "      <td>0</td>\n",
       "      <td>0</td>\n",
       "      <td>0</td>\n",
       "      <td>0</td>\n",
       "    </tr>\n",
       "    <tr>\n",
       "      <th>1</th>\n",
       "      <td>9</td>\n",
       "      <td>PAYMENT</td>\n",
       "      <td>21635</td>\n",
       "      <td>C1575214500</td>\n",
       "      <td>81920</td>\n",
       "      <td>60285</td>\n",
       "      <td>M266977218</td>\n",
       "      <td>0</td>\n",
       "      <td>0</td>\n",
       "      <td>0</td>\n",
       "      <td>0</td>\n",
       "    </tr>\n",
       "  </tbody>\n",
       "</table>\n",
       "</div>"
      ],
      "text/plain": [
       "   time transaction_type  amount     nameOrig  oldbalanceOrg  newbalanceOrig  \\\n",
       "0    11          PAYMENT   23824   C689938949              0               0   \n",
       "1     9          PAYMENT   21635  C1575214500          81920           60285   \n",
       "\n",
       "      nameDest  oldbalanceDest  newbalanceDest  isFraud  isFlaggedFraud  \n",
       "0  M1460872626               0               0        0               0  \n",
       "1   M266977218               0               0        0               0  "
      ]
     },
     "execution_count": 68,
     "metadata": {},
     "output_type": "execute_result"
    }
   ],
   "source": [
    "df.head(2)"
   ]
  },
  {
   "cell_type": "markdown",
   "id": "78c6168f",
   "metadata": {},
   "source": [
    "#### Removing columns based on Domain knowledge"
   ]
  },
  {
   "cell_type": "code",
   "execution_count": 69,
   "id": "f87183c3",
   "metadata": {
    "execution": {
     "iopub.execute_input": "2025-01-13T10:41:26.568114Z",
     "iopub.status.busy": "2025-01-13T10:41:26.567710Z",
     "iopub.status.idle": "2025-01-13T10:41:26.861341Z",
     "shell.execute_reply": "2025-01-13T10:41:26.860058Z",
     "shell.execute_reply.started": "2025-01-13T10:41:26.568049Z"
    }
   },
   "outputs": [
    {
     "data": {
      "text/html": [
       "<div>\n",
       "<style scoped>\n",
       "    .dataframe tbody tr th:only-of-type {\n",
       "        vertical-align: middle;\n",
       "    }\n",
       "\n",
       "    .dataframe tbody tr th {\n",
       "        vertical-align: top;\n",
       "    }\n",
       "\n",
       "    .dataframe thead th {\n",
       "        text-align: right;\n",
       "    }\n",
       "</style>\n",
       "<table border=\"1\" class=\"dataframe\">\n",
       "  <thead>\n",
       "    <tr style=\"text-align: right;\">\n",
       "      <th></th>\n",
       "      <th>time</th>\n",
       "      <th>transaction_type</th>\n",
       "      <th>amount</th>\n",
       "      <th>oldbalanceOrg</th>\n",
       "      <th>newbalanceOrig</th>\n",
       "      <th>isFraud</th>\n",
       "    </tr>\n",
       "  </thead>\n",
       "  <tbody>\n",
       "    <tr>\n",
       "      <th>0</th>\n",
       "      <td>11</td>\n",
       "      <td>PAYMENT</td>\n",
       "      <td>23824</td>\n",
       "      <td>0</td>\n",
       "      <td>0</td>\n",
       "      <td>0</td>\n",
       "    </tr>\n",
       "    <tr>\n",
       "      <th>1</th>\n",
       "      <td>9</td>\n",
       "      <td>PAYMENT</td>\n",
       "      <td>21635</td>\n",
       "      <td>81920</td>\n",
       "      <td>60285</td>\n",
       "      <td>0</td>\n",
       "    </tr>\n",
       "  </tbody>\n",
       "</table>\n",
       "</div>"
      ],
      "text/plain": [
       "   time transaction_type  amount  oldbalanceOrg  newbalanceOrig  isFraud\n",
       "0    11          PAYMENT   23824              0               0        0\n",
       "1     9          PAYMENT   21635          81920           60285        0"
      ]
     },
     "execution_count": 69,
     "metadata": {},
     "output_type": "execute_result"
    }
   ],
   "source": [
    "df.drop(columns=['nameOrig','nameDest','isFlaggedFraud','oldbalanceDest','newbalanceDest'],inplace=True)\n",
    "df.head(2)"
   ]
  },
  {
   "cell_type": "code",
   "execution_count": null,
   "id": "33eeee99",
   "metadata": {},
   "outputs": [],
   "source": []
  },
  {
   "cell_type": "markdown",
   "id": "10562561",
   "metadata": {},
   "source": [
    "# Feature Encoding:\n",
    "Encoding transaction type column using label encoding:"
   ]
  },
  {
   "cell_type": "code",
   "execution_count": 70,
   "id": "7aff517d",
   "metadata": {
    "execution": {
     "iopub.execute_input": "2025-01-13T10:41:26.987928Z",
     "iopub.status.busy": "2025-01-13T10:41:26.987556Z",
     "iopub.status.idle": "2025-01-13T10:41:27.442433Z",
     "shell.execute_reply": "2025-01-13T10:41:27.440781Z",
     "shell.execute_reply.started": "2025-01-13T10:41:26.987887Z"
    },
    "scrolled": true
   },
   "outputs": [
    {
     "name": "stdout",
     "output_type": "stream",
     "text": [
      "[2 3 1 4 5]\n"
     ]
    }
   ],
   "source": [
    "df['transaction_type'] = df['transaction_type'].map({\"CASH_OUT\": 1, \"PAYMENT\": 2, \n",
    "                                 \"CASH_IN\": 3, \"TRANSFER\": 4,\n",
    "                                 \"DEBIT\": 5})\n",
    "\n",
    "print(df['transaction_type'].unique())"
   ]
  },
  {
   "cell_type": "code",
   "execution_count": 71,
   "id": "22875558",
   "metadata": {},
   "outputs": [
    {
     "data": {
      "text/html": [
       "<div>\n",
       "<style scoped>\n",
       "    .dataframe tbody tr th:only-of-type {\n",
       "        vertical-align: middle;\n",
       "    }\n",
       "\n",
       "    .dataframe tbody tr th {\n",
       "        vertical-align: top;\n",
       "    }\n",
       "\n",
       "    .dataframe thead th {\n",
       "        text-align: right;\n",
       "    }\n",
       "</style>\n",
       "<table border=\"1\" class=\"dataframe\">\n",
       "  <thead>\n",
       "    <tr style=\"text-align: right;\">\n",
       "      <th></th>\n",
       "      <th>time</th>\n",
       "      <th>transaction_type</th>\n",
       "      <th>amount</th>\n",
       "      <th>oldbalanceOrg</th>\n",
       "      <th>newbalanceOrig</th>\n",
       "      <th>isFraud</th>\n",
       "    </tr>\n",
       "  </thead>\n",
       "  <tbody>\n",
       "    <tr>\n",
       "      <th>0</th>\n",
       "      <td>11</td>\n",
       "      <td>2</td>\n",
       "      <td>23824</td>\n",
       "      <td>0</td>\n",
       "      <td>0</td>\n",
       "      <td>0</td>\n",
       "    </tr>\n",
       "    <tr>\n",
       "      <th>1</th>\n",
       "      <td>9</td>\n",
       "      <td>2</td>\n",
       "      <td>21635</td>\n",
       "      <td>81920</td>\n",
       "      <td>60285</td>\n",
       "      <td>0</td>\n",
       "    </tr>\n",
       "  </tbody>\n",
       "</table>\n",
       "</div>"
      ],
      "text/plain": [
       "   time  transaction_type  amount  oldbalanceOrg  newbalanceOrig  isFraud\n",
       "0    11                 2   23824              0               0        0\n",
       "1     9                 2   21635          81920           60285        0"
      ]
     },
     "execution_count": 71,
     "metadata": {},
     "output_type": "execute_result"
    }
   ],
   "source": [
    "df.head(2)"
   ]
  },
  {
   "cell_type": "code",
   "execution_count": null,
   "id": "f72e7257",
   "metadata": {},
   "outputs": [],
   "source": []
  },
  {
   "cell_type": "markdown",
   "id": "963c41ac",
   "metadata": {},
   "source": [
    "# Model Training"
   ]
  },
  {
   "cell_type": "markdown",
   "id": "3a87e936",
   "metadata": {},
   "source": [
    "#### Train Test Split"
   ]
  },
  {
   "cell_type": "code",
   "execution_count": 104,
   "id": "fa5f63b8",
   "metadata": {},
   "outputs": [],
   "source": [
    "X = df[['time','transaction_type','amount','oldbalanceOrg','newbalanceOrig']]\n",
    "y = df['isFraud']\n",
    "\n",
    "X_train,X_test,y_train,y_test = train_test_split(X,y,test_size=0.3,random_state=42)"
   ]
  },
  {
   "cell_type": "code",
   "execution_count": null,
   "id": "6e95742e",
   "metadata": {},
   "outputs": [],
   "source": []
  },
  {
   "cell_type": "markdown",
   "id": "80adebb8",
   "metadata": {},
   "source": [
    "### Attempt 1:\n"
   ]
  },
  {
   "cell_type": "markdown",
   "id": "052302b4",
   "metadata": {},
   "source": [
    "##### Without handling Class Imbalance"
   ]
  },
  {
   "cell_type": "code",
   "execution_count": 105,
   "id": "0a8a1f58",
   "metadata": {
    "execution": {
     "iopub.execute_input": "2025-01-13T10:41:28.498906Z",
     "iopub.status.busy": "2025-01-13T10:41:28.498547Z",
     "iopub.status.idle": "2025-01-13T10:41:28.504304Z",
     "shell.execute_reply": "2025-01-13T10:41:28.503211Z",
     "shell.execute_reply.started": "2025-01-13T10:41:28.498870Z"
    }
   },
   "outputs": [],
   "source": [
    "# Custom function that takes model, train and test data and returns a classification report.\n",
    "\n",
    "def get_report(model,X_train,y_train,X_test,y_test):\n",
    "    model.fit(X_train,y_train)\n",
    "    y_pred = model.predict(X_test)\n",
    "    report = classification_report(y_test,y_pred) \n",
    "    \n",
    "    print(report)"
   ]
  },
  {
   "cell_type": "code",
   "execution_count": null,
   "id": "294e6533",
   "metadata": {
    "execution": {
     "iopub.execute_input": "2025-01-13T10:41:28.506062Z",
     "iopub.status.busy": "2025-01-13T10:41:28.505662Z",
     "iopub.status.idle": "2025-01-13T10:42:01.561920Z",
     "shell.execute_reply": "2025-01-13T10:42:01.560687Z",
     "shell.execute_reply.started": "2025-01-13T10:41:28.506024Z"
    }
   },
   "outputs": [
    {
     "name": "stdout",
     "output_type": "stream",
     "text": [
      "              precision    recall  f1-score   support\n",
      "\n",
      "           0       0.95      0.99      0.97     14941\n",
      "           1       0.90      0.71      0.79      2523\n",
      "\n",
      "    accuracy                           0.95     17464\n",
      "   macro avg       0.93      0.85      0.88     17464\n",
      "weighted avg       0.94      0.95      0.94     17464\n",
      "\n"
     ]
    }
   ],
   "source": [
    "# get_report(LogisticRegression(),X_train,y_train,X_test,y_test)"
   ]
  },
  {
   "cell_type": "code",
   "execution_count": null,
   "id": "fcb81991",
   "metadata": {
    "execution": {
     "iopub.execute_input": "2025-01-13T10:42:01.563586Z",
     "iopub.status.busy": "2025-01-13T10:42:01.563207Z",
     "iopub.status.idle": "2025-01-13T10:42:28.532497Z",
     "shell.execute_reply": "2025-01-13T10:42:28.531195Z",
     "shell.execute_reply.started": "2025-01-13T10:42:01.563547Z"
    }
   },
   "outputs": [
    {
     "name": "stdout",
     "output_type": "stream",
     "text": [
      "              precision    recall  f1-score   support\n",
      "\n",
      "           0       1.00      1.00      1.00     14941\n",
      "           1       0.98      0.98      0.98      2523\n",
      "\n",
      "    accuracy                           0.99     17464\n",
      "   macro avg       0.99      0.99      0.99     17464\n",
      "weighted avg       0.99      0.99      0.99     17464\n",
      "\n"
     ]
    }
   ],
   "source": [
    "# get_report(DecisionTreeClassifier(),X_train,y_train,X_test,y_test)"
   ]
  },
  {
   "cell_type": "code",
   "execution_count": null,
   "id": "48451033",
   "metadata": {
    "execution": {
     "iopub.execute_input": "2025-01-13T10:44:36.504515Z",
     "iopub.status.busy": "2025-01-13T10:44:36.504190Z",
     "iopub.status.idle": "2025-01-13T10:58:52.926568Z",
     "shell.execute_reply": "2025-01-13T10:58:52.925312Z",
     "shell.execute_reply.started": "2025-01-13T10:44:36.504491Z"
    }
   },
   "outputs": [
    {
     "name": "stdout",
     "output_type": "stream",
     "text": [
      "              precision    recall  f1-score   support\n",
      "\n",
      "           0       1.00      1.00      1.00     14941\n",
      "           1       0.98      0.99      0.98      2523\n",
      "\n",
      "    accuracy                           0.99     17464\n",
      "   macro avg       0.99      0.99      0.99     17464\n",
      "weighted avg       0.99      0.99      0.99     17464\n",
      "\n"
     ]
    }
   ],
   "source": [
    "# get_report(RandomForestClassifier(),X_train,y_train,X_test,y_test)"
   ]
  },
  {
   "cell_type": "markdown",
   "id": "c7827223",
   "metadata": {},
   "source": [
    "### Insights:\n",
    "\n",
    "LogiticRegression Model : recall = 0.53 , precision = 0.98\n",
    "\n",
    "DecsionTreeClassifier Model : recall = 0.96 , precision =0.98\n",
    "\n",
    "RandomForestClassfier Model : recall = 0.96, precision = 0.99"
   ]
  },
  {
   "cell_type": "code",
   "execution_count": null,
   "id": "a2f6a964",
   "metadata": {},
   "outputs": [],
   "source": []
  },
  {
   "cell_type": "markdown",
   "id": "cb7477c1",
   "metadata": {},
   "source": [
    "## Attempt 2:"
   ]
  },
  {
   "cell_type": "markdown",
   "id": "cd8cbe12",
   "metadata": {},
   "source": [
    "#### Handling Class Imbalance using Smote, RandomUnderSampler Techniques:"
   ]
  },
  {
   "cell_type": "markdown",
   "id": "011a68a5",
   "metadata": {},
   "source": [
    "#### Using SMOTE"
   ]
  },
  {
   "cell_type": "code",
   "execution_count": 78,
   "id": "ae5a27d3",
   "metadata": {
    "execution": {
     "iopub.execute_input": "2025-01-13T11:00:49.866821Z",
     "iopub.status.busy": "2025-01-13T11:00:49.866424Z",
     "iopub.status.idle": "2025-01-13T11:00:50.081507Z",
     "shell.execute_reply": "2025-01-13T11:00:50.080496Z",
     "shell.execute_reply.started": "2025-01-13T11:00:49.866793Z"
    }
   },
   "outputs": [],
   "source": [
    "from imblearn.over_sampling import SMOTE"
   ]
  },
  {
   "cell_type": "code",
   "execution_count": 79,
   "id": "b1d0bea6",
   "metadata": {
    "execution": {
     "iopub.execute_input": "2025-01-13T11:00:51.428181Z",
     "iopub.status.busy": "2025-01-13T11:00:51.427614Z",
     "iopub.status.idle": "2025-01-13T11:00:54.192695Z",
     "shell.execute_reply": "2025-01-13T11:00:54.191609Z",
     "shell.execute_reply.started": "2025-01-13T11:00:51.428149Z"
    }
   },
   "outputs": [],
   "source": [
    "smt = SMOTE(random_state=42)\n",
    "\n",
    "X_resampled,y_resampled = smt.fit_resample(X,y)"
   ]
  },
  {
   "cell_type": "code",
   "execution_count": null,
   "id": "60279c9b",
   "metadata": {
    "execution": {
     "iopub.status.busy": "2025-01-13T10:42:43.579304Z",
     "iopub.status.idle": "2025-01-13T10:42:43.579656Z",
     "shell.execute_reply": "2025-01-13T10:42:43.579509Z"
    }
   },
   "outputs": [
    {
     "name": "stdout",
     "output_type": "stream",
     "text": [
      "              precision    recall  f1-score   support\n",
      "\n",
      "           0       1.00      0.86      0.92     14941\n",
      "           1       0.54      0.99      0.70      2523\n",
      "\n",
      "    accuracy                           0.88     17464\n",
      "   macro avg       0.77      0.93      0.81     17464\n",
      "weighted avg       0.93      0.88      0.89     17464\n",
      "\n"
     ]
    }
   ],
   "source": [
    "# get_report(LogisticRegression(),X_resampled,y_resampled,X_test,y_test)"
   ]
  },
  {
   "cell_type": "code",
   "execution_count": null,
   "id": "565dd058",
   "metadata": {
    "execution": {
     "iopub.status.busy": "2025-01-13T10:42:43.580617Z",
     "iopub.status.idle": "2025-01-13T10:42:43.581231Z",
     "shell.execute_reply": "2025-01-13T10:42:43.580954Z"
    }
   },
   "outputs": [
    {
     "name": "stdout",
     "output_type": "stream",
     "text": [
      "              precision    recall  f1-score   support\n",
      "\n",
      "           0       1.00      1.00      1.00     14941\n",
      "           1       1.00      1.00      1.00      2523\n",
      "\n",
      "    accuracy                           1.00     17464\n",
      "   macro avg       1.00      1.00      1.00     17464\n",
      "weighted avg       1.00      1.00      1.00     17464\n",
      "\n"
     ]
    }
   ],
   "source": [
    "get_report(DecisionTreeClassifier(),X_resampled,y_resampled,X_test,y_test)"
   ]
  },
  {
   "cell_type": "code",
   "execution_count": 82,
   "id": "4451a6bc",
   "metadata": {
    "execution": {
     "iopub.execute_input": "2025-01-13T11:01:10.847561Z",
     "iopub.status.busy": "2025-01-13T11:01:10.847195Z",
     "iopub.status.idle": "2025-01-13T11:59:05.690218Z",
     "shell.execute_reply": "2025-01-13T11:59:05.687490Z",
     "shell.execute_reply.started": "2025-01-13T11:01:10.847533Z"
    }
   },
   "outputs": [
    {
     "name": "stdout",
     "output_type": "stream",
     "text": [
      "              precision    recall  f1-score   support\n",
      "\n",
      "           0       1.00      1.00      1.00     14941\n",
      "           1       1.00      1.00      1.00      2523\n",
      "\n",
      "    accuracy                           1.00     17464\n",
      "   macro avg       1.00      1.00      1.00     17464\n",
      "weighted avg       1.00      1.00      1.00     17464\n",
      "\n"
     ]
    }
   ],
   "source": [
    "get_report(RandomForestClassifier(),X_resampled,y_resampled,X_test,y_test)"
   ]
  },
  {
   "cell_type": "code",
   "execution_count": null,
   "id": "033f0165",
   "metadata": {},
   "outputs": [],
   "source": []
  },
  {
   "cell_type": "markdown",
   "id": "72bd486f",
   "metadata": {},
   "source": [
    "#### Using RandomUnderSampler:"
   ]
  },
  {
   "cell_type": "code",
   "execution_count": 83,
   "id": "495b2d21",
   "metadata": {
    "execution": {
     "iopub.execute_input": "2025-01-13T12:03:28.418351Z",
     "iopub.status.busy": "2025-01-13T12:03:28.417912Z",
     "iopub.status.idle": "2025-01-13T12:03:28.428234Z",
     "shell.execute_reply": "2025-01-13T12:03:28.426751Z",
     "shell.execute_reply.started": "2025-01-13T12:03:28.418319Z"
    }
   },
   "outputs": [],
   "source": [
    "from imblearn.under_sampling import RandomUnderSampler"
   ]
  },
  {
   "cell_type": "code",
   "execution_count": 84,
   "id": "9ec98a04",
   "metadata": {
    "execution": {
     "iopub.execute_input": "2025-01-13T12:03:30.301422Z",
     "iopub.status.busy": "2025-01-13T12:03:30.300970Z",
     "iopub.status.idle": "2025-01-13T12:03:32.357000Z",
     "shell.execute_reply": "2025-01-13T12:03:32.355738Z",
     "shell.execute_reply.started": "2025-01-13T12:03:30.301391Z"
    }
   },
   "outputs": [],
   "source": [
    "under_sampler= RandomUnderSampler(random_state=42)\n",
    "\n",
    "X_under,y_under = under_sampler.fit_resample(X,y)"
   ]
  },
  {
   "cell_type": "code",
   "execution_count": 85,
   "id": "60d25428",
   "metadata": {
    "execution": {
     "iopub.status.busy": "2025-01-13T10:42:43.587711Z",
     "iopub.status.idle": "2025-01-13T10:42:43.588152Z",
     "shell.execute_reply": "2025-01-13T10:42:43.587974Z"
    }
   },
   "outputs": [
    {
     "name": "stdout",
     "output_type": "stream",
     "text": [
      "              precision    recall  f1-score   support\n",
      "\n",
      "           0       1.00      0.85      0.92     14941\n",
      "           1       0.53      0.99      0.69      2523\n",
      "\n",
      "    accuracy                           0.87     17464\n",
      "   macro avg       0.77      0.92      0.81     17464\n",
      "weighted avg       0.93      0.87      0.89     17464\n",
      "\n"
     ]
    }
   ],
   "source": [
    "get_report(LogisticRegression(),X_under,y_under,X_test,y_test)"
   ]
  },
  {
   "cell_type": "code",
   "execution_count": 86,
   "id": "4e0a2d7f",
   "metadata": {
    "execution": {
     "iopub.status.busy": "2025-01-13T10:42:43.589600Z",
     "iopub.status.idle": "2025-01-13T10:42:43.589913Z",
     "shell.execute_reply": "2025-01-13T10:42:43.589785Z"
    }
   },
   "outputs": [
    {
     "name": "stdout",
     "output_type": "stream",
     "text": [
      "              precision    recall  f1-score   support\n",
      "\n",
      "           0       1.00      0.99      1.00     14941\n",
      "           1       0.97      1.00      0.98      2523\n",
      "\n",
      "    accuracy                           1.00     17464\n",
      "   macro avg       0.98      1.00      0.99     17464\n",
      "weighted avg       1.00      1.00      1.00     17464\n",
      "\n"
     ]
    }
   ],
   "source": [
    "get_report(DecisionTreeClassifier(),X_under,y_under,X_test,y_test)"
   ]
  },
  {
   "cell_type": "code",
   "execution_count": 87,
   "id": "dbbf7437",
   "metadata": {
    "execution": {
     "iopub.execute_input": "2025-01-13T12:03:48.515707Z",
     "iopub.status.busy": "2025-01-13T12:03:48.515090Z",
     "iopub.status.idle": "2025-01-13T12:04:07.675192Z",
     "shell.execute_reply": "2025-01-13T12:04:07.673694Z",
     "shell.execute_reply.started": "2025-01-13T12:03:48.515653Z"
    }
   },
   "outputs": [
    {
     "name": "stdout",
     "output_type": "stream",
     "text": [
      "              precision    recall  f1-score   support\n",
      "\n",
      "           0       1.00      0.99      1.00     14941\n",
      "           1       0.96      1.00      0.98      2523\n",
      "\n",
      "    accuracy                           0.99     17464\n",
      "   macro avg       0.98      1.00      0.99     17464\n",
      "weighted avg       0.99      0.99      0.99     17464\n",
      "\n"
     ]
    }
   ],
   "source": [
    "get_report(RandomForestClassifier(),X_under,y_under,X_test,y_test)"
   ]
  },
  {
   "cell_type": "code",
   "execution_count": null,
   "id": "a7d60b40",
   "metadata": {},
   "outputs": [],
   "source": []
  },
  {
   "cell_type": "markdown",
   "id": "bf71d032",
   "metadata": {},
   "source": [
    "## Model Fine Tuning:\n",
    "\n",
    "1. Finalized Random Forest Classifier Model with hyperparameters:"
   ]
  },
  {
   "cell_type": "code",
   "execution_count": 112,
   "id": "3a405144",
   "metadata": {},
   "outputs": [
    {
     "name": "stdout",
     "output_type": "stream",
     "text": [
      "              precision    recall  f1-score   support\n",
      "\n",
      "           0       1.00      0.99      0.99     14941\n",
      "           1       0.94      0.99      0.97      2523\n",
      "\n",
      "    accuracy                           0.99     17464\n",
      "   macro avg       0.97      0.99      0.98     17464\n",
      "weighted avg       0.99      0.99      0.99     17464\n",
      "\n"
     ]
    }
   ],
   "source": [
    "get_report( RandomForestClassifier(n_estimators=200,\n",
    "    max_depth=10,\n",
    "    min_samples_leaf=5,\n",
    "    min_samples_split=10,\n",
    "    max_features='sqrt',\n",
    "    class_weight={0: 1, 1: 5},  \n",
    "    random_state=42), X_train,y_train,X_test,y_test ) \n"
   ]
  },
  {
   "cell_type": "code",
   "execution_count": 113,
   "id": "762f2281",
   "metadata": {
    "execution": {
     "iopub.execute_input": "2025-01-13T12:04:29.613849Z",
     "iopub.status.busy": "2025-01-13T12:04:29.613482Z",
     "iopub.status.idle": "2025-01-13T12:18:56.054362Z",
     "shell.execute_reply": "2025-01-13T12:18:56.053244Z",
     "shell.execute_reply.started": "2025-01-13T12:04:29.613823Z"
    }
   },
   "outputs": [
    {
     "data": {
      "text/html": [
       "<style>#sk-container-id-3 {color: black;background-color: white;}#sk-container-id-3 pre{padding: 0;}#sk-container-id-3 div.sk-toggleable {background-color: white;}#sk-container-id-3 label.sk-toggleable__label {cursor: pointer;display: block;width: 100%;margin-bottom: 0;padding: 0.3em;box-sizing: border-box;text-align: center;}#sk-container-id-3 label.sk-toggleable__label-arrow:before {content: \"▸\";float: left;margin-right: 0.25em;color: #696969;}#sk-container-id-3 label.sk-toggleable__label-arrow:hover:before {color: black;}#sk-container-id-3 div.sk-estimator:hover label.sk-toggleable__label-arrow:before {color: black;}#sk-container-id-3 div.sk-toggleable__content {max-height: 0;max-width: 0;overflow: hidden;text-align: left;background-color: #f0f8ff;}#sk-container-id-3 div.sk-toggleable__content pre {margin: 0.2em;color: black;border-radius: 0.25em;background-color: #f0f8ff;}#sk-container-id-3 input.sk-toggleable__control:checked~div.sk-toggleable__content {max-height: 200px;max-width: 100%;overflow: auto;}#sk-container-id-3 input.sk-toggleable__control:checked~label.sk-toggleable__label-arrow:before {content: \"▾\";}#sk-container-id-3 div.sk-estimator input.sk-toggleable__control:checked~label.sk-toggleable__label {background-color: #d4ebff;}#sk-container-id-3 div.sk-label input.sk-toggleable__control:checked~label.sk-toggleable__label {background-color: #d4ebff;}#sk-container-id-3 input.sk-hidden--visually {border: 0;clip: rect(1px 1px 1px 1px);clip: rect(1px, 1px, 1px, 1px);height: 1px;margin: -1px;overflow: hidden;padding: 0;position: absolute;width: 1px;}#sk-container-id-3 div.sk-estimator {font-family: monospace;background-color: #f0f8ff;border: 1px dotted black;border-radius: 0.25em;box-sizing: border-box;margin-bottom: 0.5em;}#sk-container-id-3 div.sk-estimator:hover {background-color: #d4ebff;}#sk-container-id-3 div.sk-parallel-item::after {content: \"\";width: 100%;border-bottom: 1px solid gray;flex-grow: 1;}#sk-container-id-3 div.sk-label:hover label.sk-toggleable__label {background-color: #d4ebff;}#sk-container-id-3 div.sk-serial::before {content: \"\";position: absolute;border-left: 1px solid gray;box-sizing: border-box;top: 0;bottom: 0;left: 50%;z-index: 0;}#sk-container-id-3 div.sk-serial {display: flex;flex-direction: column;align-items: center;background-color: white;padding-right: 0.2em;padding-left: 0.2em;position: relative;}#sk-container-id-3 div.sk-item {position: relative;z-index: 1;}#sk-container-id-3 div.sk-parallel {display: flex;align-items: stretch;justify-content: center;background-color: white;position: relative;}#sk-container-id-3 div.sk-item::before, #sk-container-id-3 div.sk-parallel-item::before {content: \"\";position: absolute;border-left: 1px solid gray;box-sizing: border-box;top: 0;bottom: 0;left: 50%;z-index: -1;}#sk-container-id-3 div.sk-parallel-item {display: flex;flex-direction: column;z-index: 1;position: relative;background-color: white;}#sk-container-id-3 div.sk-parallel-item:first-child::after {align-self: flex-end;width: 50%;}#sk-container-id-3 div.sk-parallel-item:last-child::after {align-self: flex-start;width: 50%;}#sk-container-id-3 div.sk-parallel-item:only-child::after {width: 0;}#sk-container-id-3 div.sk-dashed-wrapped {border: 1px dashed gray;margin: 0 0.4em 0.5em 0.4em;box-sizing: border-box;padding-bottom: 0.4em;background-color: white;}#sk-container-id-3 div.sk-label label {font-family: monospace;font-weight: bold;display: inline-block;line-height: 1.2em;}#sk-container-id-3 div.sk-label-container {text-align: center;}#sk-container-id-3 div.sk-container {/* jupyter's `normalize.less` sets `[hidden] { display: none; }` but bootstrap.min.css set `[hidden] { display: none !important; }` so we also need the `!important` here to be able to override the default hidden behavior on the sphinx rendered scikit-learn.org. See: https://github.com/scikit-learn/scikit-learn/issues/21755 */display: inline-block !important;position: relative;}#sk-container-id-3 div.sk-text-repr-fallback {display: none;}</style><div id=\"sk-container-id-3\" class=\"sk-top-container\"><div class=\"sk-text-repr-fallback\"><pre>RandomForestClassifier(class_weight={0: 1, 1: 5}, max_depth=10,\n",
       "                       min_samples_leaf=5, min_samples_split=10,\n",
       "                       n_estimators=200, random_state=42)</pre><b>In a Jupyter environment, please rerun this cell to show the HTML representation or trust the notebook. <br />On GitHub, the HTML representation is unable to render, please try loading this page with nbviewer.org.</b></div><div class=\"sk-container\" hidden><div class=\"sk-item\"><div class=\"sk-estimator sk-toggleable\"><input class=\"sk-toggleable__control sk-hidden--visually\" id=\"sk-estimator-id-3\" type=\"checkbox\" checked><label for=\"sk-estimator-id-3\" class=\"sk-toggleable__label sk-toggleable__label-arrow\">RandomForestClassifier</label><div class=\"sk-toggleable__content\"><pre>RandomForestClassifier(class_weight={0: 1, 1: 5}, max_depth=10,\n",
       "                       min_samples_leaf=5, min_samples_split=10,\n",
       "                       n_estimators=200, random_state=42)</pre></div></div></div></div></div>"
      ],
      "text/plain": [
       "RandomForestClassifier(class_weight={0: 1, 1: 5}, max_depth=10,\n",
       "                       min_samples_leaf=5, min_samples_split=10,\n",
       "                       n_estimators=200, random_state=42)"
      ]
     },
     "execution_count": 113,
     "metadata": {},
     "output_type": "execute_result"
    }
   ],
   "source": [
    "best_model = RandomForestClassifier(n_estimators=200,\n",
    "    max_depth=10,\n",
    "    min_samples_leaf=5,\n",
    "    min_samples_split=10,\n",
    "    max_features='sqrt',\n",
    "    class_weight={0: 1, 1: 5},  \n",
    "    random_state=42)\n",
    "\n",
    "best_model.fit(X_train,y_train)"
   ]
  },
  {
   "cell_type": "code",
   "execution_count": 114,
   "id": "6085e076",
   "metadata": {
    "execution": {
     "iopub.execute_input": "2025-01-13T12:24:11.372307Z",
     "iopub.status.busy": "2025-01-13T12:24:11.371919Z",
     "iopub.status.idle": "2025-01-13T12:24:29.501362Z",
     "shell.execute_reply": "2025-01-13T12:24:29.500167Z",
     "shell.execute_reply.started": "2025-01-13T12:24:11.372275Z"
    }
   },
   "outputs": [
    {
     "name": "stdout",
     "output_type": "stream",
     "text": [
      "              precision    recall  f1-score   support\n",
      "\n",
      "           0       1.00      0.99      0.99     14941\n",
      "           1       0.94      0.99      0.97      2523\n",
      "\n",
      "    accuracy                           0.99     17464\n",
      "   macro avg       0.97      0.99      0.98     17464\n",
      "weighted avg       0.99      0.99      0.99     17464\n",
      "\n"
     ]
    }
   ],
   "source": [
    "y_pred = best_model.predict(X_test)\n",
    "print(classification_report(y_test,y_pred))"
   ]
  },
  {
   "cell_type": "markdown",
   "id": "c9e46460",
   "metadata": {},
   "source": [
    "### --- Our Best model is RandomForestClassifier with recall 99% and precision 94% --- "
   ]
  },
  {
   "cell_type": "code",
   "execution_count": null,
   "id": "619dc6f2",
   "metadata": {},
   "outputs": [],
   "source": []
  },
  {
   "cell_type": "markdown",
   "id": "0ee3d18d",
   "metadata": {},
   "source": [
    "## Model Evaluation Roc,Auc Curve:"
   ]
  },
  {
   "cell_type": "code",
   "execution_count": 115,
   "id": "64d2f392",
   "metadata": {
    "execution": {
     "iopub.execute_input": "2025-01-13T12:25:08.892334Z",
     "iopub.status.busy": "2025-01-13T12:25:08.891895Z",
     "iopub.status.idle": "2025-01-13T12:25:09.014140Z",
     "shell.execute_reply": "2025-01-13T12:25:09.012815Z",
     "shell.execute_reply.started": "2025-01-13T12:25:08.892304Z"
    }
   },
   "outputs": [
    {
     "data": {
      "text/plain": [
       "(array([0.        , 0.01017335, 1.        ]),\n",
       " array([0.       , 0.9940547, 1.       ]),\n",
       " array([2, 1, 0]))"
      ]
     },
     "execution_count": 115,
     "metadata": {},
     "output_type": "execute_result"
    }
   ],
   "source": [
    "fpr, tpr, thresholds = roc_curve(y_test,y_pred)\n",
    "fpr[:5], tpr [:5],thresholds[:5]"
   ]
  },
  {
   "cell_type": "code",
   "execution_count": 116,
   "id": "4d07d770",
   "metadata": {
    "execution": {
     "iopub.execute_input": "2025-01-13T12:25:11.501996Z",
     "iopub.status.busy": "2025-01-13T12:25:11.501589Z",
     "iopub.status.idle": "2025-01-13T12:25:11.508746Z",
     "shell.execute_reply": "2025-01-13T12:25:11.507591Z",
     "shell.execute_reply.started": "2025-01-13T12:25:11.501968Z"
    }
   },
   "outputs": [
    {
     "name": "stdout",
     "output_type": "stream",
     "text": [
      "Area Under the Curve = 0.99\n"
     ]
    }
   ],
   "source": [
    "auc_score = auc(fpr,tpr)\n",
    "print(f\"Area Under the Curve = {round(auc_score,2)}\")"
   ]
  },
  {
   "cell_type": "code",
   "execution_count": 117,
   "id": "2629b5bb",
   "metadata": {
    "execution": {
     "iopub.execute_input": "2025-01-13T12:25:14.767981Z",
     "iopub.status.busy": "2025-01-13T12:25:14.767600Z",
     "iopub.status.idle": "2025-01-13T12:25:15.049008Z",
     "shell.execute_reply": "2025-01-13T12:25:15.047618Z",
     "shell.execute_reply.started": "2025-01-13T12:25:14.767951Z"
    }
   },
   "outputs": [
    {
     "data": {
      "image/png": "[encoded data removed]",
      "text/plain": [
       "<Figure size 800x600 with 1 Axes>"
      ]
     },
     "metadata": {},
     "output_type": "display_data"
    }
   ],
   "source": [
    "# Plot the ROC curve\n",
    "plt.figure(figsize=(8, 6))\n",
    "plt.plot(fpr, tpr, label=f\"AUC = {auc_score:.2f}\", color='darkorange', lw=2)\n",
    "plt.plot([0, 1], [0, 1], color='navy', linestyle='--', label='Random Guess')\n",
    "plt.xlabel(\"False Positive Rate (FPR)\")\n",
    "plt.ylabel(\"True Positive Rate (TPR)\")\n",
    "plt.title(\"ROC Curve\")\n",
    "plt.legend(loc=\"lower right\")\n",
    "plt.grid()\n",
    "plt.show()"
   ]
  },
  {
   "cell_type": "code",
   "execution_count": null,
   "id": "8f768b46",
   "metadata": {},
   "outputs": [],
   "source": []
  },
  {
   "cell_type": "markdown",
   "id": "305fe582",
   "metadata": {},
   "source": [
    "#### Manual Inputs for checking the working of the model:"
   ]
  },
  {
   "cell_type": "code",
   "execution_count": 120,
   "id": "f55ce29c",
   "metadata": {
    "execution": {
     "iopub.execute_input": "2025-01-13T12:25:18.118323Z",
     "iopub.status.busy": "2025-01-13T12:25:18.117925Z",
     "iopub.status.idle": "2025-01-13T12:25:18.132500Z",
     "shell.execute_reply": "2025-01-13T12:25:18.130919Z",
     "shell.execute_reply.started": "2025-01-13T12:25:18.118293Z"
    }
   },
   "outputs": [
    {
     "data": {
      "text/html": [
       "<div>\n",
       "<style scoped>\n",
       "    .dataframe tbody tr th:only-of-type {\n",
       "        vertical-align: middle;\n",
       "    }\n",
       "\n",
       "    .dataframe tbody tr th {\n",
       "        vertical-align: top;\n",
       "    }\n",
       "\n",
       "    .dataframe thead th {\n",
       "        text-align: right;\n",
       "    }\n",
       "</style>\n",
       "<table border=\"1\" class=\"dataframe\">\n",
       "  <thead>\n",
       "    <tr style=\"text-align: right;\">\n",
       "      <th></th>\n",
       "      <th>time</th>\n",
       "      <th>transaction_type</th>\n",
       "      <th>amount</th>\n",
       "      <th>oldbalanceOrg</th>\n",
       "      <th>newbalanceOrig</th>\n",
       "      <th>isFraud</th>\n",
       "    </tr>\n",
       "  </thead>\n",
       "  <tbody>\n",
       "    <tr>\n",
       "      <th>50028</th>\n",
       "      <td>4</td>\n",
       "      <td>4</td>\n",
       "      <td>10000000</td>\n",
       "      <td>12930418</td>\n",
       "      <td>2930418</td>\n",
       "      <td>1</td>\n",
       "    </tr>\n",
       "    <tr>\n",
       "      <th>50104</th>\n",
       "      <td>9</td>\n",
       "      <td>4</td>\n",
       "      <td>994453</td>\n",
       "      <td>1437370</td>\n",
       "      <td>442917</td>\n",
       "      <td>1</td>\n",
       "    </tr>\n",
       "    <tr>\n",
       "      <th>50203</th>\n",
       "      <td>17</td>\n",
       "      <td>1</td>\n",
       "      <td>42062</td>\n",
       "      <td>340830</td>\n",
       "      <td>298767</td>\n",
       "      <td>1</td>\n",
       "    </tr>\n",
       "    <tr>\n",
       "      <th>50227</th>\n",
       "      <td>19</td>\n",
       "      <td>4</td>\n",
       "      <td>10000000</td>\n",
       "      <td>11861008</td>\n",
       "      <td>1861008</td>\n",
       "      <td>1</td>\n",
       "    </tr>\n",
       "    <tr>\n",
       "      <th>50353</th>\n",
       "      <td>9</td>\n",
       "      <td>4</td>\n",
       "      <td>10000000</td>\n",
       "      <td>19887819</td>\n",
       "      <td>9887819</td>\n",
       "      <td>1</td>\n",
       "    </tr>\n",
       "  </tbody>\n",
       "</table>\n",
       "</div>"
      ],
      "text/plain": [
       "       time  transaction_type    amount  oldbalanceOrg  newbalanceOrig  \\\n",
       "50028     4                 4  10000000       12930418         2930418   \n",
       "50104     9                 4    994453        1437370          442917   \n",
       "50203    17                 1     42062         340830          298767   \n",
       "50227    19                 4  10000000       11861008         1861008   \n",
       "50353     9                 4  10000000       19887819         9887819   \n",
       "\n",
       "       isFraud  \n",
       "50028        1  \n",
       "50104        1  \n",
       "50203        1  \n",
       "50227        1  \n",
       "50353        1  "
      ]
     },
     "execution_count": 120,
     "metadata": {},
     "output_type": "execute_result"
    }
   ],
   "source": [
    "df.query('isFraud ==1 and newbalanceOrig != 0').head(5)"
   ]
  },
  {
   "cell_type": "code",
   "execution_count": 135,
   "id": "8d8e2db1",
   "metadata": {
    "execution": {
     "iopub.execute_input": "2025-01-13T12:29:28.608599Z",
     "iopub.status.busy": "2025-01-13T12:29:28.608271Z",
     "iopub.status.idle": "2025-01-13T12:29:28.626379Z",
     "shell.execute_reply": "2025-01-13T12:29:28.625285Z",
     "shell.execute_reply.started": "2025-01-13T12:29:28.608574Z"
    }
   },
   "outputs": [
    {
     "name": "stdout",
     "output_type": "stream",
     "text": [
      "[1] 0.9933542409624398\n",
      "Fraud\n"
     ]
    }
   ],
   "source": [
    "value = best_model.predict([[4,4,10000000,12930418,2930418]])\n",
    "probability = best_model.predict_proba([[4,4,10000000,12930418,2930418]])\n",
    "print(value,probability[0][1])\n",
    "if value == 0:\n",
    "    print(\"Not a Fraud\")\n",
    "else:\n",
    "    print(\"Fraud\")    "
   ]
  },
  {
   "cell_type": "markdown",
   "id": "323dbb74",
   "metadata": {},
   "source": [
    "#### Dumping the Model and its Artifcats:"
   ]
  },
  {
   "cell_type": "code",
   "execution_count": 137,
   "id": "3c70c9b4",
   "metadata": {
    "execution": {
     "iopub.execute_input": "2025-01-13T12:36:48.102295Z",
     "iopub.status.busy": "2025-01-13T12:36:48.101858Z",
     "iopub.status.idle": "2025-01-13T12:36:48.200736Z",
     "shell.execute_reply": "2025-01-13T12:36:48.199457Z",
     "shell.execute_reply.started": "2025-01-13T12:36:48.102264Z"
    }
   },
   "outputs": [
    {
     "data": {
      "text/plain": [
       "['fraud_detection_model.pkl']"
      ]
     },
     "execution_count": 137,
     "metadata": {},
     "output_type": "execute_result"
    }
   ],
   "source": [
    "import joblib\n",
    "\n",
    "model_data = {\n",
    "    'model':best_model,\n",
    "    'features':X_train.columns,\n",
    "    'label_mapping': {0: 'Not Fraud', 1: 'Fraud'} \n",
    "}\n",
    "\n",
    "joblib.dump(model_data,'fraud_detection_model.pkl')"
   ]
  },
  {
   "cell_type": "code",
   "execution_count": null,
   "id": "0981c3ae",
   "metadata": {},
   "outputs": [],
   "source": []
  }
 ],
 "metadata": {
  "kaggle": {
   "accelerator": "none",
   "dataSources": [
    {
     "datasetId": 6474748,
     "sourceId": 10458829,
     "sourceType": "datasetVersion"
    }
   ],
   "dockerImageVersionId": 30822,
   "isGpuEnabled": false,
   "isInternetEnabled": false,
   "language": "python",
   "sourceType": "notebook"
  },
  "kernelspec": {
   "display_name": "Python 3 (ipykernel)",
   "language": "python",
   "name": "python3"
  },
  "language_info": {
   "codemirror_mode": {
    "name": "ipython",
    "version": 3
   },
   "file_extension": ".py",
   "mimetype": "text/x-python",
   "name": "python",
   "nbconvert_exporter": "python",
   "pygments_lexer": "ipython3",
   "version": "3.11.5"
  }
 },
 "nbformat": 4,
 "nbformat_minor": 5
}
